{
 "cells": [
  {
   "cell_type": "markdown",
   "metadata": {},
   "source": [
    "# Convert PDF to text\n",
    "\n",
    "Here we use `pdftotext` library to covert PDF to text. Considering library is slightly older (last release was 2.2.2 from 2021), [installation](https://pypi.org/project/pdftotext/#description) does not work on Python 3.11. So for this code please use [Python 3.9.8](https://www.python.org/downloads/release/python-398/) and follow installation instructions (there is some prerequisite on `poplar` that needs to be pre-installed prior to `pip install pdftotext`).  \n",
    "\n",
    "Example on MacOS:\n",
    "- download and install [Python 3.9.8](https://www.python.org/downloads/release/python-398/)\n",
    "- open Mac's terminal (do not use VSCode terminal), find out where is python executable by running: `which python3.9`\n",
    "- use that path to make venv:\n",
    "    - `<path_to_python> -m venv <env_name>`\n",
    "    - `source <env_name>/bin/activate`\n",
    "- Now simply follow instructions on [pdftotext](https://pypi.org/project/pdftotext/#description):\n",
    "    - install pre-requisites by running: `brew install pkg-config poppler`\n",
    "    - install `pdftotext` by running: `pip install pdftotext`\n",
    "- (Optional for Jypiter) Add jupyter kernel to the virtual environment:\n",
    "    - `python -m ipykernel install --user --name=<env_name>`\n",
    "\n",
    "You can now run the code below.\n"
   ]
  },
  {
   "cell_type": "markdown",
   "metadata": {},
   "source": [
    "# Example"
   ]
  },
  {
   "cell_type": "code",
   "execution_count": 22,
   "metadata": {},
   "outputs": [],
   "source": [
    "import pdftotext\n",
    "\n",
    "# Load your PDF\n",
    "with open(\"data/marked_up_01-0A0904.pdf_2724.pdf\", \"rb\") as f:\n",
    "    pdf = pdftotext.PDF(f, physical=True)\n",
    "\n",
    "\n",
    "# # If it's password-protected\n",
    "# with open(\"secure.pdf\", \"rb\") as f:\n",
    "#     pdf = pdftotext.PDF(f, \"secret\")\n"
   ]
  },
  {
   "cell_type": "markdown",
   "metadata": {},
   "source": [
    "We here print only first page:"
   ]
  },
  {
   "cell_type": "code",
   "execution_count": 23,
   "metadata": {},
   "outputs": [
    {
     "name": "stdout",
     "output_type": "stream",
     "text": [
      "                    STATE OF CALIFORNIA               B I D    S U M M A R Y            DEPARTMENT OF TRANSPORTATION           BID211\n",
      "                                                                                                                               PAGE 1\n",
      "    BID OPENING DATE       03/29/11                       IN HUMBOLDT COUNTY NEAR ORLEANS                                      04/05/11\n",
      "    CONTRACT NUMBER        01-0A0904                      FROM SLATE CREEK BRIDGE TO KLAMATH                         CONTRACT CODE 'H '\n",
      "    LOCATION               01-HUM-96-R30.0/R38.6          RIVER BRIDGE                                                15 CONTRACT ITEMS\n",
      "\n",
      "\n",
      "                                                          SEAL COAT                                  FEDERAL AID   NONE\n",
      "\n",
      "\n",
      "             DVBE GOALS: DISABLED VETERANS BUSINESS ENTERPRISES -        5.0%\n",
      "PROPOSALS ISSUED    9    FUND TOTAL   HM1               0                                TOTAL NUMBER OF WORKING DAYS       20\n",
      "\n",
      "NUMBER OF BIDDERS    6     ENGINEERS EST          356,785.00    AMOUNT OVER          62,635.00         PERCENT OVER EST 17.56\n",
      "PROGRAM ELEMENTS         RAS\n",
      "\n",
      "              BID RANK          BID TOTAL     BIDDER ID          BIDDER INFORMATION (NAME/ADDRESS/LOCATION)\n",
      "              --------         -----------    ---------          -------------------------------------------------\n",
      "\n",
      "                    1            419,420.00      2               INTERNATIONAL SURFACING                916 373-2420    SB PREF CLAIMED\n",
      "                                                                 SYSTEMS                                00736996\n",
      "                                                                 P O BOX 980430                     FAX 916 375-1654\n",
      "                                                                 WEST SACRAMENTO CA 95798\n",
      "\n",
      "                    2            428,428.00      1               NORTHWEST PAVING                       530 246-4388    SB PREF CLAIMED\n",
      "                                                                                                        00822126\n",
      "                                                                 8115 SECLUDED VALLEY DRIVE         FAX 530 246-4109\n",
      "                                                                 REDDING CA 96001\n",
      "\n",
      "                    3            432,845.00      6               ADVANTAGE PAVING AND                   530 598-7759    SB PREF CLAIMED\n",
      "                                                                 EXCAVATING INC                         00909239\n",
      "                                                                 P O BOX 302                        FAX 530 842-5198\n",
      "                                                                 YREKA CA 96097\n",
      "\n",
      "                    4            502,205.00      4               FRANKLIN CONSTRUCTION INC              530 343-9600    SB PREF CLAIMED\n",
      "                                                                                                        00567469\n",
      "                                                                 P O BOX 3100                       FAX 530 343-9600\n",
      "                                                                 CHICO CA 95927\n",
      "\n",
      "                    5            514,740.00      5               WINDSOR FUEL COMPANY                   925 427-5266    SB PREF CLAIMED\n",
      "                                                                                                        00776848\n",
      "                                                                 P O BOX 1029                       FAX 925 427-1216\n",
      "                                                                 PITTSBURG CA   94565\n",
      "\f\n"
     ]
    }
   ],
   "source": [
    "# How many pages?\n",
    "# print(len(pdf))\n",
    "\n",
    "pages = list(pdf)\n",
    "print(pages[0])\n",
    "# # Iterate over all the pages\n",
    "# for page in pdf:\n",
    "#     print(page)\n",
    "\n",
    "# # Read some individual pages\n",
    "# print(pdf[0])\n",
    "# print(pdf[1])\n",
    "\n",
    "# # Read all the text into one string\n",
    "# print(\"\\n\\n\".join(pdf))"
   ]
  },
  {
   "cell_type": "markdown",
   "metadata": {},
   "source": [
    "It is important to use `physical=True` flag to keep the formatting as denoted by the docstring:"
   ]
  },
  {
   "cell_type": "code",
   "execution_count": 11,
   "metadata": {},
   "outputs": [
    {
     "name": "stdout",
     "output_type": "stream",
     "text": [
      "\u001b[0;31mInit signature:\u001b[0m \u001b[0mpdftotext\u001b[0m\u001b[0;34m.\u001b[0m\u001b[0mPDF\u001b[0m\u001b[0;34m(\u001b[0m\u001b[0mself\u001b[0m\u001b[0;34m,\u001b[0m \u001b[0;34m/\u001b[0m\u001b[0;34m,\u001b[0m \u001b[0;34m*\u001b[0m\u001b[0margs\u001b[0m\u001b[0;34m,\u001b[0m \u001b[0;34m**\u001b[0m\u001b[0mkwargs\u001b[0m\u001b[0;34m)\u001b[0m\u001b[0;34m\u001b[0m\u001b[0;34m\u001b[0m\u001b[0m\n",
      "\u001b[0;31mDocstring:\u001b[0m     \n",
      "PDF(pdf_file, password=\"\", raw=False, physical=False)\n",
      "\n",
      "Args:\n",
      "    pdf_file: A file opened for reading in binary mode.\n",
      "    password: Unlocks the document, if required. Either the owner\n",
      "        password or the user password works.\n",
      "    raw: If True, page text is output in the order it appears in the\n",
      "        content stream.\n",
      "    physical: If True, page text is output in the order it appears on\n",
      "        the page, regardless of columns or other layout features.\n",
      "\n",
      "    Usually, the most readable output is achieved by using the default\n",
      "    mode, rather than raw or physical.\n",
      "\n",
      "Example:\n",
      "    with open(\"doc.pdf\", \"rb\") as f:\n",
      "        pdf = PDF(f)\n",
      "    for page in pdf:\n",
      "        print(page)\n",
      "\u001b[0;31mFile:\u001b[0m           ~/Documents/caltrans_data_extraction/venv3.9/lib/python3.9/site-packages/pdftotext.cpython-39-darwin.so\n",
      "\u001b[0;31mType:\u001b[0m           type\n",
      "\u001b[0;31mSubclasses:\u001b[0m     "
     ]
    }
   ],
   "source": [
    "pdftotext.PDF??"
   ]
  }
 ],
 "metadata": {
  "kernelspec": {
   "display_name": "venv3.9",
   "language": "python",
   "name": "python3"
  },
  "language_info": {
   "codemirror_mode": {
    "name": "ipython",
    "version": 3
   },
   "file_extension": ".py",
   "mimetype": "text/x-python",
   "name": "python",
   "nbconvert_exporter": "python",
   "pygments_lexer": "ipython3",
   "version": "3.9.8"
  }
 },
 "nbformat": 4,
 "nbformat_minor": 2
}
