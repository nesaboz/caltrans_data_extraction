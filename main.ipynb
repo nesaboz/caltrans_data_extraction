{
 "cells": [
  {
   "cell_type": "markdown",
   "metadata": {},
   "source": [
    "# Caltrans Data Extraction"
   ]
  },
  {
   "cell_type": "markdown",
   "metadata": {},
   "source": [
    "The goal of this project is to extract relevant data from text files, previously converted from PDF files. Since the text files are quite structured, the decision is to use regex to do this."
   ]
  },
  {
   "cell_type": "markdown",
   "metadata": {},
   "source": [
    "## Setup\n",
    "\n",
    "Install the following packages if you don't have them yet:"
   ]
  },
  {
   "cell_type": "code",
   "execution_count": null,
   "metadata": {},
   "outputs": [],
   "source": [
    "# pip install pandas numpy tqdm ipykernel notebook python-dotenv openpyxl"
   ]
  },
  {
   "cell_type": "code",
   "execution_count": null,
   "metadata": {},
   "outputs": [],
   "source": [
    "from contract import *\n",
    "from experiment import *\n",
    "\n",
    "import pyperclip\n",
    "\n",
    "%reload_ext autoreload\n",
    "%autoreload 2\n",
    "\n",
    "# Note: to print DataFrame fully use:\n",
    "# pd.set_option('display.max_rows', None)  # to set globally, or use: \n",
    "# with pd.option_context('display.max_rows', None, \n",
    "#                        'display.max_columns', None, \n",
    "#                        'display.width', None, \n",
    "#                        'display.max_colwidth', None):\n",
    "#   display(df)"
   ]
  },
  {
   "cell_type": "markdown",
   "metadata": {},
   "source": [
    "## Rename the mislabeled contracts\n",
    "\n",
    "There are some files that were mistakenly labeled, so here we rename them:"
   ]
  },
  {
   "cell_type": "code",
   "execution_count": null,
   "metadata": {},
   "outputs": [],
   "source": [
    "d = {'07-0W0404..pdf_12652.txt': '07-0W0404.pdf_12652.txt',\n",
    "     '110427R0.pdf_3052.txt': '01-0A0804.pdf_3052.txt',\n",
    "     '110427R0.pdf_2981.txt': '01-0A0804.pdf_2981.txt',\n",
    "     '120712R0.pdf_4254.txt': '11-270804.pdf_4254.txt',\n",
    "     '08-1N0304..pdf_12819.txt': '08-1N0304.pdf_12819.txt',\n",
    "     '120928R0.pdf_4565.txt': '04-4S1204.pdf_4565.txt',\n",
    "     '121016R0.pdf_4699.txt': '04-4S0304.pdf_4699.txt',\n",
    "     '130220R0.pdf_4863.txt': '03-3E6204.pdf_4863.txt',\n",
    "     '120717R0.pdf_4252.txt': '05-1A9704.pdf_4252.txt',\n",
    "     '08-1G2804..pdf_12877.txt': '08-1G2804.pdf_12877.txt'\n",
    "}\n",
    "\n",
    "for key, value in d.items():\n",
    "    try:\n",
    "        path1 = RAW_DATA_PATH_LINEPRINTER / key\n",
    "        path2 = RAW_DATA_PATH_LINEPRINTER / value\n",
    "        path1.rename(path2)\n",
    "\n",
    "        path1 = RAW_DATA_PATH_TABLE / key\n",
    "        path2 = RAW_DATA_PATH_TABLE / value\n",
    "        path1.rename(path2)\n",
    "    except FileNotFoundError:\n",
    "        print(f'File not found: {key}')\n",
    "        continue\n"
   ]
  },
  {
   "cell_type": "markdown",
   "metadata": {},
   "source": [
    "## Classify contracts into types\n",
    "\n",
    "There are 3 main types of contract (type 3 is merged contracts that need to be parsed first):"
   ]
  },
  {
   "cell_type": "code",
   "execution_count": null,
   "metadata": {},
   "outputs": [],
   "source": [
    "# sort_contracts()"
   ]
  },
  {
   "cell_type": "code",
   "execution_count": null,
   "metadata": {},
   "outputs": [],
   "source": [
    "contract_types, _ = get_contract_types()\n",
    "contract_types"
   ]
  },
  {
   "cell_type": "markdown",
   "metadata": {},
   "source": [
    "## Single Contract Analysis\n",
    "\n",
    "Let's look at the single contract:"
   ]
  },
  {
   "cell_type": "code",
   "execution_count": null,
   "metadata": {},
   "outputs": [],
   "source": [
    "c = Contract('04-290834_619')"
   ]
  },
  {
   "cell_type": "markdown",
   "metadata": {},
   "source": [
    "To copy file contents to clipboard:"
   ]
  },
  {
   "cell_type": "code",
   "execution_count": null,
   "metadata": {},
   "outputs": [],
   "source": [
    "# pyperclip.copy(c.file_contents)"
   ]
  },
  {
   "cell_type": "markdown",
   "metadata": {},
   "source": [
    "Now we extract:"
   ]
  },
  {
   "cell_type": "code",
   "execution_count": null,
   "metadata": {},
   "outputs": [],
   "source": [
    "c.extract()"
   ]
  },
  {
   "cell_type": "markdown",
   "metadata": {},
   "source": [
    "There are four attributes of the contract that gets extracted: info, bids, subcontractors, and items:"
   ]
  },
  {
   "cell_type": "code",
   "execution_count": null,
   "metadata": {},
   "outputs": [],
   "source": [
    "c.info.df"
   ]
  },
  {
   "cell_type": "code",
   "execution_count": null,
   "metadata": {},
   "outputs": [],
   "source": [
    "c.bids.df"
   ]
  },
  {
   "cell_type": "code",
   "execution_count": null,
   "metadata": {},
   "outputs": [],
   "source": [
    "c.subcontractors.df"
   ]
  },
  {
   "cell_type": "code",
   "execution_count": null,
   "metadata": {},
   "outputs": [],
   "source": [
    "c.items.df"
   ]
  },
  {
   "cell_type": "markdown",
   "metadata": {},
   "source": [
    "We can also write all the information into excel file:"
   ]
  },
  {
   "cell_type": "code",
   "execution_count": null,
   "metadata": {},
   "outputs": [],
   "source": [
    "c.write_to_disk()"
   ]
  },
  {
   "cell_type": "code",
   "execution_count": null,
   "metadata": {},
   "outputs": [],
   "source": [
    "# filepath = RAW_DATA_PATH.parent / 'sample' / '01-0A3804.pdf_2724.txt'\n",
    "# filepath = RAW_DATA_PATH_LINEPRINTER / '01-0A3804.pdf_4353.txt'\n",
    "# filepath = RAW_DATA_PATH_LINEPRINTER / '01-0A0904.pdf_2724.txt'\n",
    "# filepath = RAW_DATA_PATH_LINEPRINTER / '01-0A1204.pdf_11468.txt'\n",
    "# filepath = RAW_DATA_PATH_LINEPRINTER / '01-0F4304.pdf_12346.txt'  # issue # 11\n",
    "# filepath = RAW_DATA_PATH_LINEPRINTER / '01-0K6104.pdf_12731.txt'  # issue # 9\n",
    "# filepath = RAW_DATA_PATH_LINEPRINTER / '01-0K4604.pdf_12040.txt'  # issue # 1\n",
    "# filename = '01-0H3204.pdf_9871.txt'  # issue # 5\n",
    "# filepath = RAW_DATA_PATH_LINEPRINTER / '01-0A0404.pdf_10165.txt'  # different format\n",
    "# filepath = RAW_DATA_PATH_LINEPRINTER / '04-4G6404.pdf_7310.txt'\n"
   ]
  },
  {
   "cell_type": "markdown",
   "metadata": {},
   "source": [
    "# Several contract analysis"
   ]
  },
  {
   "cell_type": "markdown",
   "metadata": {},
   "source": [
    "We now run extraction on a small sample of contracts:"
   ]
  },
  {
   "cell_type": "code",
   "execution_count": null,
   "metadata": {},
   "outputs": [],
   "source": [
    "df_contract_types, _ = get_contract_types()\n",
    "df_contract_types"
   ]
  },
  {
   "cell_type": "code",
   "execution_count": null,
   "metadata": {},
   "outputs": [],
   "source": [
    "filepaths = get_some_contracts()\n",
    "ex = Experiment(filepaths, tag='5')\n",
    "ex.run()"
   ]
  },
  {
   "cell_type": "markdown",
   "metadata": {},
   "source": [
    "# All TYPE1 contracts"
   ]
  },
  {
   "cell_type": "code",
   "execution_count": null,
   "metadata": {},
   "outputs": [],
   "source": [
    "filepaths = get_some_contracts(num_contracts=None)\n",
    "len(filepaths), filepaths[0]"
   ]
  },
  {
   "cell_type": "markdown",
   "metadata": {},
   "source": [
    "Let's exclude some known errors:"
   ]
  },
  {
   "cell_type": "code",
   "execution_count": null,
   "metadata": {},
   "outputs": [],
   "source": [
    "exclude = ['12-0K0234_11520', '12-0R2704_10602', '06-0L8404_3005', '07-0W0404_12652', '07-338004_11638']\n",
    "filepaths = [x for x in filepaths if x.stem not in exclude]\n",
    "len(filepaths)"
   ]
  },
  {
   "cell_type": "code",
   "execution_count": null,
   "metadata": {},
   "outputs": [],
   "source": [
    "ex = Experiment(filepaths, tag='all')\n",
    "ex.run()"
   ]
  },
  {
   "cell_type": "markdown",
   "metadata": {},
   "source": [
    "# Process TYPE3 contracts"
   ]
  },
  {
   "cell_type": "markdown",
   "metadata": {},
   "source": [
    "See `type3_contracts.ipynb` for their definition first."
   ]
  },
  {
   "cell_type": "code",
   "execution_count": null,
   "metadata": {},
   "outputs": [],
   "source": [
    "filepaths = list(TYPE3_PATH.glob('*.txt'))\n",
    "ex = Experiment(filepaths, tag='all', contract_type=ContractType.TYPE3)\n",
    "ex.run()"
   ]
  },
  {
   "cell_type": "markdown",
   "metadata": {},
   "source": [
    "# Process one TYPE2 contract"
   ]
  },
  {
   "cell_type": "code",
   "execution_count": null,
   "metadata": {},
   "outputs": [],
   "source": [
    "c = Contract('02-1J1704_12603', ContractType.TYPE2)"
   ]
  },
  {
   "cell_type": "code",
   "execution_count": null,
   "metadata": {},
   "outputs": [],
   "source": [
    "# pyperclip.copy(c.file_contents)"
   ]
  },
  {
   "cell_type": "code",
   "execution_count": null,
   "metadata": {},
   "outputs": [],
   "source": []
  }
 ],
 "metadata": {
  "kernelspec": {
   "display_name": "ocr",
   "language": "python",
   "name": "python3"
  },
  "language_info": {
   "codemirror_mode": {
    "name": "ipython",
    "version": 3
   },
   "file_extension": ".py",
   "mimetype": "text/x-python",
   "name": "python",
   "nbconvert_exporter": "python",
   "pygments_lexer": "ipython3",
   "version": "3.11.4"
  }
 },
 "nbformat": 4,
 "nbformat_minor": 4
}
