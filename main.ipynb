{
 "cells": [
  {
   "cell_type": "markdown",
   "metadata": {},
   "source": [
    "# Caltrans Data Extraction"
   ]
  },
  {
   "cell_type": "markdown",
   "metadata": {},
   "source": [
    "The goal of this project is to extract relevant data from text files, previously converted from PDF files. Since the text files are quite structured, the decision is to use regex to do this."
   ]
  },
  {
   "cell_type": "markdown",
   "metadata": {},
   "source": [
    "## Setup\n",
    "\n",
    "Install the following packages if you don't have them yet:"
   ]
  },
  {
   "cell_type": "code",
   "execution_count": 1,
   "metadata": {},
   "outputs": [],
   "source": [
    "# pip install pandas numpy tqdm ipykernel notebook python-dotenv openpyxl"
   ]
  },
  {
   "cell_type": "code",
   "execution_count": 2,
   "metadata": {},
   "outputs": [],
   "source": [
    "from experiment import *\n",
    "\n",
    "import pyperclip\n",
    "\n",
    "%reload_ext autoreload\n",
    "%autoreload 2\n",
    "\n",
    "# Note: to print DataFrame fully use:\n",
    "# pd.set_option('display.max_rows', None)  # to set globally, or use: \n",
    "# with pd.option_context('display.max_rows', None, \n",
    "#                        'display.max_columns', None, \n",
    "#                        'display.width', None, \n",
    "#                        'display.max_colwidth', None):\n",
    "#   display(df)"
   ]
  },
  {
   "cell_type": "markdown",
   "metadata": {},
   "source": [
    "## Rename the mislabeled contracts\n",
    "\n",
    "There are some files that were mistakenly labeled, so here we rename them:"
   ]
  },
  {
   "cell_type": "code",
   "execution_count": 3,
   "metadata": {},
   "outputs": [
    {
     "name": "stdout",
     "output_type": "stream",
     "text": [
      "File not found: 07-0W0404..pdf_12652.txt\n",
      "File not found: 110427R0.pdf_3052.txt\n",
      "File not found: 110427R0.pdf_2981.txt\n",
      "File not found: 120712R0.pdf_4254.txt\n",
      "File not found: 08-1N0304..pdf_12819.txt\n",
      "File not found: 120928R0.pdf_4565.txt\n",
      "File not found: 121016R0.pdf_4699.txt\n",
      "File not found: 130220R0.pdf_4863.txt\n",
      "File not found: 120717R0.pdf_4252.txt\n",
      "File not found: 08-1G2804..pdf_12877.txt\n"
     ]
    }
   ],
   "source": [
    "d = {'07-0W0404..pdf_12652.txt': '07-0W0404.pdf_12652.txt',\n",
    "     '110427R0.pdf_3052.txt': '01-0A0804.pdf_3052.txt',\n",
    "     '110427R0.pdf_2981.txt': '01-0A0804.pdf_2981.txt',\n",
    "     '120712R0.pdf_4254.txt': '11-270804.pdf_4254.txt',\n",
    "     '08-1N0304..pdf_12819.txt': '08-1N0304.pdf_12819.txt',\n",
    "     '120928R0.pdf_4565.txt': '04-4S1204.pdf_4565.txt',\n",
    "     '121016R0.pdf_4699.txt': '04-4S0304.pdf_4699.txt',\n",
    "     '130220R0.pdf_4863.txt': '03-3E6204.pdf_4863.txt',\n",
    "     '120717R0.pdf_4252.txt': '05-1A9704.pdf_4252.txt',\n",
    "     '08-1G2804..pdf_12877.txt': '08-1G2804.pdf_12877.txt'\n",
    "}\n",
    "\n",
    "for key, value in d.items():\n",
    "    try:\n",
    "        path1 = RAW_DATA_PATH_LINEPRINTER / key\n",
    "        path2 = RAW_DATA_PATH_LINEPRINTER / value\n",
    "        path1.rename(path2)\n",
    "\n",
    "        path1 = RAW_DATA_PATH_TABLE / key\n",
    "        path2 = RAW_DATA_PATH_TABLE / value\n",
    "        path1.rename(path2)\n",
    "    except FileNotFoundError:\n",
    "        print(f'File not found: {key}')\n",
    "        continue\n"
   ]
  },
  {
   "cell_type": "markdown",
   "metadata": {},
   "source": [
    "## Classify contracts into types\n",
    "\n",
    "There are 3 main types of contract (type 3 is merged contracts that need to be parsed first):"
   ]
  },
  {
   "cell_type": "code",
   "execution_count": 4,
   "metadata": {},
   "outputs": [
    {
     "name": "stdout",
     "output_type": "stream",
     "text": [
      "Found 8977 files in lineprinter/table folder. Started sorting ...\n"
     ]
    },
    {
     "name": "stderr",
     "output_type": "stream",
     "text": [
      " 78%|███████▊  | 7014/8977 [00:04<00:01, 1515.73it/s]"
     ]
    },
    {
     "name": "stdout",
     "output_type": "stream",
     "text": [
      "Found duplicate new identifier when parsing: 07-338004_11638\n"
     ]
    },
    {
     "name": "stderr",
     "output_type": "stream",
     "text": [
      "100%|██████████| 8977/8977 [00:06<00:00, 1449.44it/s]\n"
     ]
    },
    {
     "name": "stdout",
     "output_type": "stream",
     "text": [
      "Saved 8776 contracts to type1 folder\n",
      "Saved 168 contracts to type2 folder\n",
      "Saved 75 contracts to type3 folder\n"
     ]
    }
   ],
   "source": [
    "sort_contracts()"
   ]
  },
  {
   "cell_type": "code",
   "execution_count": 5,
   "metadata": {},
   "outputs": [
    {
     "data": {
      "text/html": [
       "<div>\n",
       "<style scoped>\n",
       "    .dataframe tbody tr th:only-of-type {\n",
       "        vertical-align: middle;\n",
       "    }\n",
       "\n",
       "    .dataframe tbody tr th {\n",
       "        vertical-align: top;\n",
       "    }\n",
       "\n",
       "    .dataframe thead th {\n",
       "        text-align: right;\n",
       "    }\n",
       "</style>\n",
       "<table border=\"1\" class=\"dataframe\">\n",
       "  <thead>\n",
       "    <tr style=\"text-align: right;\">\n",
       "      <th></th>\n",
       "      <th>Contract_Number</th>\n",
       "      <th>Tag</th>\n",
       "      <th>Identifier</th>\n",
       "      <th>Contract_Type</th>\n",
       "      <th>Relative_Path</th>\n",
       "      <th>Original_Identifier</th>\n",
       "    </tr>\n",
       "    <tr>\n",
       "      <th>Filename</th>\n",
       "      <th></th>\n",
       "      <th></th>\n",
       "      <th></th>\n",
       "      <th></th>\n",
       "      <th></th>\n",
       "      <th></th>\n",
       "    </tr>\n",
       "  </thead>\n",
       "  <tbody>\n",
       "    <tr>\n",
       "      <th>09-354304.pdf_5533</th>\n",
       "      <td>09-354304</td>\n",
       "      <td>5533</td>\n",
       "      <td>09-354304_5533</td>\n",
       "      <td>1</td>\n",
       "      <td>type1/09-354304_5533.txt</td>\n",
       "      <td>NaN</td>\n",
       "    </tr>\n",
       "    <tr>\n",
       "      <th>02-360704.pdf_5397</th>\n",
       "      <td>02-360704</td>\n",
       "      <td>5397</td>\n",
       "      <td>02-360704_5397</td>\n",
       "      <td>1</td>\n",
       "      <td>type1/02-360704_5397.txt</td>\n",
       "      <td>NaN</td>\n",
       "    </tr>\n",
       "    <tr>\n",
       "      <th>12-0S9004.pdf_12386</th>\n",
       "      <td>12-0S9004</td>\n",
       "      <td>12386</td>\n",
       "      <td>12-0S9004_12386</td>\n",
       "      <td>1</td>\n",
       "      <td>type1/12-0S9004_12386.txt</td>\n",
       "      <td>NaN</td>\n",
       "    </tr>\n",
       "    <tr>\n",
       "      <th>02-0H2904.pdf_6987</th>\n",
       "      <td>02-0H2904</td>\n",
       "      <td>6987</td>\n",
       "      <td>02-0H2904_6987</td>\n",
       "      <td>1</td>\n",
       "      <td>type1/02-0H2904_6987.txt</td>\n",
       "      <td>NaN</td>\n",
       "    </tr>\n",
       "    <tr>\n",
       "      <th>04-0435E4.pdf_2074</th>\n",
       "      <td>04-0435E4</td>\n",
       "      <td>2074</td>\n",
       "      <td>04-0435E4_2074</td>\n",
       "      <td>1</td>\n",
       "      <td>type1/04-0435E4_2074.txt</td>\n",
       "      <td>NaN</td>\n",
       "    </tr>\n",
       "    <tr>\n",
       "      <th>...</th>\n",
       "      <td>...</td>\n",
       "      <td>...</td>\n",
       "      <td>...</td>\n",
       "      <td>...</td>\n",
       "      <td>...</td>\n",
       "      <td>...</td>\n",
       "    </tr>\n",
       "    <tr>\n",
       "      <th>01-488504.pdf_1428</th>\n",
       "      <td>01-488504</td>\n",
       "      <td>1428</td>\n",
       "      <td>01-488504_1428</td>\n",
       "      <td>1</td>\n",
       "      <td>type1/01-488504_1428.txt</td>\n",
       "      <td>NaN</td>\n",
       "    </tr>\n",
       "    <tr>\n",
       "      <th>03-1G0004.pdf_11241</th>\n",
       "      <td>03-1G0004</td>\n",
       "      <td>11241</td>\n",
       "      <td>03-1G0004_11241</td>\n",
       "      <td>1</td>\n",
       "      <td>type1/03-1G0004_11241.txt</td>\n",
       "      <td>NaN</td>\n",
       "    </tr>\n",
       "    <tr>\n",
       "      <th>03-3M9504.pdf_4004</th>\n",
       "      <td>03-3M9504</td>\n",
       "      <td>4004</td>\n",
       "      <td>03-3M9504_4004</td>\n",
       "      <td>1</td>\n",
       "      <td>type1/03-3M9504_4004.txt</td>\n",
       "      <td>NaN</td>\n",
       "    </tr>\n",
       "    <tr>\n",
       "      <th>04-2K7104.pdf_12426</th>\n",
       "      <td>04-2K7104</td>\n",
       "      <td>12426</td>\n",
       "      <td>04-2K7104_12426</td>\n",
       "      <td>1</td>\n",
       "      <td>type1/04-2K7104_12426.txt</td>\n",
       "      <td>NaN</td>\n",
       "    </tr>\n",
       "    <tr>\n",
       "      <th>08-0N5504.pdf_7778</th>\n",
       "      <td>08-0N5504</td>\n",
       "      <td>7778</td>\n",
       "      <td>08-0N5504_7778</td>\n",
       "      <td>1</td>\n",
       "      <td>type1/08-0N5504_7778.txt</td>\n",
       "      <td>NaN</td>\n",
       "    </tr>\n",
       "  </tbody>\n",
       "</table>\n",
       "<p>9019 rows × 6 columns</p>\n",
       "</div>"
      ],
      "text/plain": [
       "                    Contract_Number    Tag       Identifier  Contract_Type  \\\n",
       "Filename                                                                     \n",
       "09-354304.pdf_5533        09-354304   5533   09-354304_5533              1   \n",
       "02-360704.pdf_5397        02-360704   5397   02-360704_5397              1   \n",
       "12-0S9004.pdf_12386       12-0S9004  12386  12-0S9004_12386              1   \n",
       "02-0H2904.pdf_6987        02-0H2904   6987   02-0H2904_6987              1   \n",
       "04-0435E4.pdf_2074        04-0435E4   2074   04-0435E4_2074              1   \n",
       "...                             ...    ...              ...            ...   \n",
       "01-488504.pdf_1428        01-488504   1428   01-488504_1428              1   \n",
       "03-1G0004.pdf_11241       03-1G0004  11241  03-1G0004_11241              1   \n",
       "03-3M9504.pdf_4004        03-3M9504   4004   03-3M9504_4004              1   \n",
       "04-2K7104.pdf_12426       04-2K7104  12426  04-2K7104_12426              1   \n",
       "08-0N5504.pdf_7778        08-0N5504   7778   08-0N5504_7778              1   \n",
       "\n",
       "                                 Relative_Path Original_Identifier  \n",
       "Filename                                                            \n",
       "09-354304.pdf_5533    type1/09-354304_5533.txt                 NaN  \n",
       "02-360704.pdf_5397    type1/02-360704_5397.txt                 NaN  \n",
       "12-0S9004.pdf_12386  type1/12-0S9004_12386.txt                 NaN  \n",
       "02-0H2904.pdf_6987    type1/02-0H2904_6987.txt                 NaN  \n",
       "04-0435E4.pdf_2074    type1/04-0435E4_2074.txt                 NaN  \n",
       "...                                        ...                 ...  \n",
       "01-488504.pdf_1428    type1/01-488504_1428.txt                 NaN  \n",
       "03-1G0004.pdf_11241  type1/03-1G0004_11241.txt                 NaN  \n",
       "03-3M9504.pdf_4004    type1/03-3M9504_4004.txt                 NaN  \n",
       "04-2K7104.pdf_12426  type1/04-2K7104_12426.txt                 NaN  \n",
       "08-0N5504.pdf_7778    type1/08-0N5504_7778.txt                 NaN  \n",
       "\n",
       "[9019 rows x 6 columns]"
      ]
     },
     "execution_count": 5,
     "metadata": {},
     "output_type": "execute_result"
    }
   ],
   "source": [
    "contract_types, _ = get_contract_types()\n",
    "contract_types"
   ]
  },
  {
   "cell_type": "markdown",
   "metadata": {},
   "source": [
    "## Single Contract Analysis\n",
    "\n",
    "Let's look at the single contract:"
   ]
  },
  {
   "cell_type": "code",
   "execution_count": null,
   "metadata": {},
   "outputs": [],
   "source": [
    "c = Contract('type2/03-2G4804_12594')"
   ]
  },
  {
   "cell_type": "markdown",
   "metadata": {},
   "source": [
    "To copy file contents to clipboard:"
   ]
  },
  {
   "cell_type": "code",
   "execution_count": null,
   "metadata": {},
   "outputs": [],
   "source": [
    "pyperclip.copy(c.file_contents)"
   ]
  },
  {
   "cell_type": "markdown",
   "metadata": {},
   "source": [
    "There are four attributes of the contract that gets extracted: `info`, `bids`, `subcontractors`, and `items`, for example:"
   ]
  },
  {
   "cell_type": "code",
   "execution_count": null,
   "metadata": {},
   "outputs": [],
   "source": [
    "c.extract()\n",
    "c.info.df"
   ]
  },
  {
   "cell_type": "markdown",
   "metadata": {},
   "source": [
    "# Process single contract"
   ]
  },
  {
   "cell_type": "code",
   "execution_count": null,
   "metadata": {},
   "outputs": [],
   "source": [
    "ex = Experiment('type3/07-338004_11638')\n",
    "ex.run()"
   ]
  },
  {
   "cell_type": "markdown",
   "metadata": {},
   "source": [
    "# Process several contract"
   ]
  },
  {
   "cell_type": "markdown",
   "metadata": {},
   "source": [
    "We now run extraction on a small sample of contracts:"
   ]
  },
  {
   "cell_type": "code",
   "execution_count": null,
   "metadata": {},
   "outputs": [],
   "source": [
    "filepaths = get_contract_filepaths(ContractType.TYPE1, num_contracts=5)\n",
    "ex = Experiment(filepaths)\n",
    "ex.run()"
   ]
  },
  {
   "cell_type": "markdown",
   "metadata": {},
   "source": [
    "# Process all contracts"
   ]
  },
  {
   "cell_type": "code",
   "execution_count": null,
   "metadata": {},
   "outputs": [],
   "source": [
    "filepaths = get_contract_filepaths(contract_type=ContractType.TYPE1)\n",
    "ex = Experiment(filepaths)\n",
    "ex.run()"
   ]
  },
  {
   "cell_type": "code",
   "execution_count": null,
   "metadata": {},
   "outputs": [],
   "source": [
    "filepaths = get_contract_filepaths(contract_type=ContractType.TYPE2)\n",
    "ex = Experiment(filepaths)\n",
    "ex.run()"
   ]
  },
  {
   "cell_type": "code",
   "execution_count": null,
   "metadata": {},
   "outputs": [],
   "source": [
    "filepaths = get_contract_filepaths(contract_type=ContractType.TYPE3)\n",
    "ex = Experiment(filepaths)\n",
    "ex.run()"
   ]
  },
  {
   "cell_type": "code",
   "execution_count": null,
   "metadata": {},
   "outputs": [],
   "source": [
    "# some known error to exclude:\n",
    "# exclude_type1 = ['12-0K0234_11520', '12-0R2704_10602', '06-0L8404_3005', '07-0W0404_12652', '07-338004_11638']\n",
    "# exclude_type2 = ['09-237704_3534']\n",
    "# exclude = exclude_type1 + exclude_type2\n",
    "# filepaths = [x for x in filepaths if x.stem not in exclude]\n",
    "# len(filepaths)"
   ]
  }
 ],
 "metadata": {
  "kernelspec": {
   "display_name": "ocr",
   "language": "python",
   "name": "python3"
  },
  "language_info": {
   "codemirror_mode": {
    "name": "ipython",
    "version": 3
   },
   "file_extension": ".py",
   "mimetype": "text/x-python",
   "name": "python",
   "nbconvert_exporter": "python",
   "pygments_lexer": "ipython3",
   "version": "3.11.4"
  }
 },
 "nbformat": 4,
 "nbformat_minor": 4
}
