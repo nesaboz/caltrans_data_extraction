{
 "cells": [
  {
   "cell_type": "markdown",
   "metadata": {},
   "source": [
    "# Caltrans Data Extraction"
   ]
  },
  {
   "cell_type": "markdown",
   "metadata": {},
   "source": [
    "The goal of this project is to extract relevant data from text files, previously converted from PDF files. Since the text files are quite structured, the decision is to use regex to do this."
   ]
  },
  {
   "cell_type": "markdown",
   "metadata": {},
   "source": [
    "## Setup\n",
    "\n",
    "Install the following packages if you don't have them yet:"
   ]
  },
  {
   "cell_type": "code",
   "execution_count": null,
   "metadata": {},
   "outputs": [],
   "source": [
    "# pip install pandas numpy tqdm ipykernel notebook python-dotenv openpyxl"
   ]
  },
  {
   "cell_type": "code",
   "execution_count": null,
   "metadata": {},
   "outputs": [],
   "source": [
    "from experiment import *\n",
    "\n",
    "import pyperclip\n",
    "\n",
    "%reload_ext autoreload\n",
    "%autoreload 2\n",
    "\n",
    "# Note: to print DataFrame fully use:\n",
    "# pd.set_option('display.max_rows', None)  # to set globally, or use: \n",
    "# with pd.option_context('display.max_rows', None, \n",
    "#                        'display.max_columns', None, \n",
    "#                        'display.width', None, \n",
    "#                        'display.max_colwidth', None):\n",
    "#   display(df)"
   ]
  },
  {
   "cell_type": "markdown",
   "metadata": {},
   "source": [
    "## Rename the mislabeled contracts\n",
    "\n",
    "There are some files that were mistakenly labeled, so here we rename them:"
   ]
  },
  {
   "cell_type": "code",
   "execution_count": null,
   "metadata": {},
   "outputs": [],
   "source": [
    "d = {'07-0W0404..pdf_12652.txt': '07-0W0404.pdf_12652.txt',\n",
    "     '110427R0.pdf_3052.txt': '01-0A0804.pdf_3052.txt',\n",
    "     '110427R0.pdf_2981.txt': '01-0A0804.pdf_2981.txt',\n",
    "     '120712R0.pdf_4254.txt': '11-270804.pdf_4254.txt',\n",
    "     '08-1N0304..pdf_12819.txt': '08-1N0304.pdf_12819.txt',\n",
    "     '120928R0.pdf_4565.txt': '04-4S1204.pdf_4565.txt',\n",
    "     '121016R0.pdf_4699.txt': '04-4S0304.pdf_4699.txt',\n",
    "     '130220R0.pdf_4863.txt': '03-3E6204.pdf_4863.txt',\n",
    "     '120717R0.pdf_4252.txt': '05-1A9704.pdf_4252.txt',\n",
    "     '08-1G2804..pdf_12877.txt': '08-1G2804.pdf_12877.txt'\n",
    "}\n",
    "\n",
    "for key, value in d.items():\n",
    "    try:\n",
    "        path1 = RAW_DATA_PATH_LINEPRINTER / key\n",
    "        path2 = RAW_DATA_PATH_LINEPRINTER / value\n",
    "        path1.rename(path2)\n",
    "\n",
    "        path1 = RAW_DATA_PATH_TABLE / key\n",
    "        path2 = RAW_DATA_PATH_TABLE / value\n",
    "        path1.rename(path2)\n",
    "    except FileNotFoundError:\n",
    "        print(f'File not found: {key}')\n",
    "        continue\n"
   ]
  },
  {
   "cell_type": "markdown",
   "metadata": {},
   "source": [
    "## Classify contracts into types\n",
    "\n",
    "There are 3 main types of contract (type 3 is merged contracts that need to be parsed first):"
   ]
  },
  {
   "cell_type": "code",
   "execution_count": null,
   "metadata": {},
   "outputs": [],
   "source": [
    "sort_contracts()"
   ]
  },
  {
   "cell_type": "code",
   "execution_count": null,
   "metadata": {},
   "outputs": [],
   "source": [
    "contract_types, _ = get_contract_types()\n",
    "contract_types"
   ]
  },
  {
   "cell_type": "markdown",
   "metadata": {},
   "source": [
    "## Single Contract Analysis\n",
    "\n",
    "Let's look at the single contract:"
   ]
  },
  {
   "cell_type": "code",
   "execution_count": null,
   "metadata": {},
   "outputs": [],
   "source": [
    "c = Contract('type3/05-1H0604_11624')"
   ]
  },
  {
   "cell_type": "markdown",
   "metadata": {},
   "source": [
    "To copy file contents to clipboard:"
   ]
  },
  {
   "cell_type": "code",
   "execution_count": null,
   "metadata": {},
   "outputs": [],
   "source": [
    "pyperclip.copy(c.file_contents)"
   ]
  },
  {
   "cell_type": "markdown",
   "metadata": {},
   "source": [
    "There are four attributes of the contract that gets extracted: `info`, `bids`, `subcontractors`, and `items`, for example:"
   ]
  },
  {
   "cell_type": "code",
   "execution_count": null,
   "metadata": {},
   "outputs": [],
   "source": [
    "c.extract()\n",
    "c.info.df"
   ]
  },
  {
   "cell_type": "code",
   "execution_count": null,
   "metadata": {},
   "outputs": [],
   "source": [
    "c.bids.df"
   ]
  },
  {
   "cell_type": "markdown",
   "metadata": {},
   "source": [
    "# Process single contract"
   ]
  },
  {
   "cell_type": "code",
   "execution_count": null,
   "metadata": {},
   "outputs": [],
   "source": [
    "ex = Experiment('type3/05-1H0604_11624')\n",
    "ex.run()"
   ]
  },
  {
   "cell_type": "markdown",
   "metadata": {},
   "source": [
    "# Process several contract"
   ]
  },
  {
   "cell_type": "markdown",
   "metadata": {},
   "source": [
    "We now run extraction on a small sample of contracts:"
   ]
  },
  {
   "cell_type": "code",
   "execution_count": null,
   "metadata": {},
   "outputs": [],
   "source": [
    "filepaths = get_contract_filepaths(ContractType.TYPE3, num_contracts=5, seed=45)\n",
    "ex = Experiment(filepaths)\n",
    "ex.run()"
   ]
  },
  {
   "cell_type": "markdown",
   "metadata": {},
   "source": [
    "# Process all contracts"
   ]
  },
  {
   "cell_type": "code",
   "execution_count": null,
   "metadata": {},
   "outputs": [],
   "source": [
    "filepaths = get_contract_filepaths(contract_type=ContractType.TYPE1)\n",
    "ex = Experiment(filepaths)\n",
    "ex.run()"
   ]
  },
  {
   "cell_type": "code",
   "execution_count": null,
   "metadata": {},
   "outputs": [],
   "source": [
    "filepaths = get_contract_filepaths(contract_type=ContractType.TYPE2)\n",
    "ex = Experiment(filepaths)\n",
    "ex.run()"
   ]
  },
  {
   "cell_type": "code",
   "execution_count": null,
   "metadata": {},
   "outputs": [],
   "source": [
    "filepaths = get_contract_filepaths(contract_type=ContractType.TYPE3)\n",
    "ex = Experiment(filepaths)\n",
    "ex.run()"
   ]
  },
  {
   "cell_type": "code",
   "execution_count": null,
   "metadata": {},
   "outputs": [],
   "source": [
    "# some known error to exclude:\n",
    "# exclude_type1 = ['12-0K0234_11520', '12-0R2704_10602', '06-0L8404_3005', '07-0W0404_12652', '07-338004_11638']\n",
    "# exclude_type2 = ['09-237704_3534']\n",
    "# exclude = exclude_type1 + exclude_type2\n",
    "# filepaths = [x for x in filepaths if x.stem not in exclude]\n",
    "# len(filepaths)"
   ]
  },
  {
   "cell_type": "code",
   "execution_count": null,
   "metadata": {},
   "outputs": [],
   "source": [
    "a = []\n",
    "for i in range(10):\n",
    "    a.extend([i])\n",
    "    \n",
    "a"
   ]
  },
  {
   "cell_type": "code",
   "execution_count": null,
   "metadata": {},
   "outputs": [],
   "source": []
  }
 ],
 "metadata": {
  "kernelspec": {
   "display_name": "ocr",
   "language": "python",
   "name": "python3"
  },
  "language_info": {
   "codemirror_mode": {
    "name": "ipython",
    "version": 3
   },
   "file_extension": ".py",
   "mimetype": "text/x-python",
   "name": "python",
   "nbconvert_exporter": "python",
   "pygments_lexer": "ipython3",
   "version": "3.11.4"
  }
 },
 "nbformat": 4,
 "nbformat_minor": 4
}
