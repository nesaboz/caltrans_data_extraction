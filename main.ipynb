{
 "cells": [
  {
   "cell_type": "markdown",
   "metadata": {},
   "source": [
    "# CalTrans Data Extraction"
   ]
  },
  {
   "cell_type": "markdown",
   "metadata": {},
   "source": [
    "The goal of this project is to extract relevant data from text files, previously converted from PDF files. Since the text files are quite structured, the decision is to use regex to do this."
   ]
  },
  {
   "cell_type": "markdown",
   "metadata": {},
   "source": [
    "## Setup for Google Colab"
   ]
  },
  {
   "cell_type": "code",
   "execution_count": null,
   "metadata": {},
   "outputs": [],
   "source": [
    "def get_github_code():\n",
    "    # First get GitHub code:\n",
    "    !wget https://github.com/nesaboz/caltrans_data_extraction/archive/refs/heads/main.zip\n",
    "    # unzip it\n",
    "    !unzip main.zip\n",
    "    # copy all the files to root\n",
    "    !mv ./caltrans_data_extraction-main/* .\n",
    "    # delete the empty folder\n",
    "    !rm -r caltrans_data_extraction-main\n",
    "    # delete zip file\n",
    "    !rm main.zip\n",
    "    # delete main.ipynb since it's confusing to have it Colab:\n",
    "    !rm main.ipynb\n",
    "\n",
    "\n",
    "def get_data_from_google_drive(data_file: str):\n",
    "    \"\"\"\n",
    "    data_file can be 'raw' or 'sorted'\n",
    "    download and unzip should take under 30 seconds:\n",
    "\n",
    "    The file IDs are contained in the name of the link to the file on Google Drive (make sure link is obtained\n",
    "    by setting unrestricted access i.e. \"Anyone with the link\" option):\n",
    "    https://drive.google.com/file/d/<THIS IS THE FILE ID>/view?usp=share_link\n",
    "    \"\"\"\n",
    "\n",
    "    data_files_ids = {\n",
    "        'raw': '1miDDg2C3MtfdZD4y_GrBFU4FTTW74Lu-',\n",
    "        'sorted': '1tbJ7vcO6K1NqKW7c_ef1MxxoQgySDMcZ'\n",
    "        }\n",
    "        \n",
    "    if data_file not in data_files_ids:\n",
    "        print(\"Use only 'raw' or 'sorted' keywords.\")\n",
    "        return\n",
    "    print(f\"Downloading {data_file} data ...\")\n",
    "    !gdown {data_files_ids[data_file]}\n",
    "    print(\"Unzipping ...\")\n",
    "    !unzip {data_file}_data.zip -d {data_file}_data > /dev/null 2>&1\n",
    "    \n",
    "\n",
    "def install_packages():\n",
    "    !pip install pandas==1.5.3 numpy==1.26.4 tqdm==4.66.2 openpyxl==3.1.2 pyperclip==1.8.2\n"
   ]
  },
  {
   "cell_type": "code",
   "execution_count": null,
   "metadata": {},
   "outputs": [],
   "source": [
    "try:\n",
    "    import google.colab\n",
    "    IS_COLAB = True\n",
    "except ModuleNotFoundError:\n",
    "    IS_COLAB = False\n",
    "\n",
    "\n",
    "if IS_COLAB: \n",
    "    response = input(\"Do you want to setup everything? ([yes]/no): \").lower().strip()\n",
    "    if response != \"no\":\n",
    "        !rm -r sample_data\n",
    "        get_github_code()\n",
    "        get_data_from_google_drive('raw')\n",
    "        get_data_from_google_drive('sorted')\n",
    "        install_packages()"
   ]
  },
  {
   "cell_type": "markdown",
   "metadata": {},
   "source": [
    "# Imports"
   ]
  },
  {
   "cell_type": "code",
   "execution_count": null,
   "metadata": {},
   "outputs": [],
   "source": [
    "from experiment import *\n",
    "\n",
    "import pyperclip\n",
    "\n",
    "%reload_ext autoreload\n",
    "%autoreload 2"
   ]
  },
  {
   "cell_type": "markdown",
   "metadata": {},
   "source": [
    "## Sort contracts into types\n",
    "\n",
    "Some documents are better presented in lineprinter (i.e. type1), other in table (i.e. type2) format. In addition, some document contain multi contracts and we need to split those:"
   ]
  },
  {
   "cell_type": "code",
   "execution_count": null,
   "metadata": {},
   "outputs": [],
   "source": [
    "# # uncomment the following line to sort the contracts:\n",
    "sort_contracts()"
   ]
  },
  {
   "cell_type": "markdown",
   "metadata": {},
   "source": [
    "## Single Contract example\n",
    "\n",
    "Let's look at the single contract:"
   ]
  },
  {
   "cell_type": "code",
   "execution_count": null,
   "metadata": {},
   "outputs": [],
   "source": [
    "c = Contract('t2_12752')"
   ]
  },
  {
   "cell_type": "markdown",
   "metadata": {},
   "source": [
    "To copy file contents to clipboard so one can paste it elsewhere (like regex101.com):"
   ]
  },
  {
   "cell_type": "code",
   "execution_count": null,
   "metadata": {},
   "outputs": [],
   "source": [
    "pyperclip.copy(c.file_contents)"
   ]
  },
  {
   "cell_type": "markdown",
   "metadata": {},
   "source": [
    "There are four attributes of the contract that gets extracted: `info`, `bids`, `subcontractors`, and `items`, for example:"
   ]
  },
  {
   "cell_type": "code",
   "execution_count": null,
   "metadata": {},
   "outputs": [],
   "source": [
    "c.extract()"
   ]
  },
  {
   "cell_type": "code",
   "execution_count": null,
   "metadata": {},
   "outputs": [],
   "source": [
    "c.info.df"
   ]
  },
  {
   "cell_type": "code",
   "execution_count": null,
   "metadata": {},
   "outputs": [],
   "source": [
    "c.bids.df"
   ]
  },
  {
   "cell_type": "code",
   "execution_count": null,
   "metadata": {},
   "outputs": [],
   "source": [
    "c.subcontractors.df"
   ]
  },
  {
   "cell_type": "code",
   "execution_count": null,
   "metadata": {},
   "outputs": [],
   "source": [
    "c.items.df"
   ]
  },
  {
   "cell_type": "markdown",
   "metadata": {},
   "source": [
    "# Process single contract"
   ]
  },
  {
   "cell_type": "code",
   "execution_count": null,
   "metadata": {},
   "outputs": [],
   "source": [
    "ex = Experiment('t1_2652')\n",
    "ex.run()"
   ]
  },
  {
   "cell_type": "markdown",
   "metadata": {},
   "source": [
    "# Process several contract"
   ]
  },
  {
   "cell_type": "markdown",
   "metadata": {},
   "source": [
    "We now run extraction on a small sample of contracts defined by `num_contracts`:"
   ]
  },
  {
   "cell_type": "code",
   "execution_count": null,
   "metadata": {},
   "outputs": [],
   "source": [
    "filepaths = get_contract_filepaths(contract_type=1, num_contracts=5)\n",
    "ex = Experiment(filepaths)\n",
    "ex.run()"
   ]
  },
  {
   "cell_type": "markdown",
   "metadata": {},
   "source": [
    "# Process all contracts type 2"
   ]
  },
  {
   "cell_type": "markdown",
   "metadata": {},
   "source": [
    "Let's first analyze type 2 since there are only 168 of them:"
   ]
  },
  {
   "cell_type": "code",
   "execution_count": null,
   "metadata": {},
   "outputs": [],
   "source": [
    "filepaths = get_contract_filepaths(contract_type=2)\n",
    "ex = Experiment(filepaths)\n",
    "ex.run()"
   ]
  },
  {
   "cell_type": "markdown",
   "metadata": {},
   "source": [
    "# Process all contracts type 1"
   ]
  },
  {
   "cell_type": "markdown",
   "metadata": {},
   "source": [
    "And now type1 (have to split into 2 batches due to memory constraints, get error on sheet size in excel if running one batch):"
   ]
  },
  {
   "cell_type": "code",
   "execution_count": null,
   "metadata": {},
   "outputs": [],
   "source": [
    "filepaths = get_contract_filepaths(contract_type=1)"
   ]
  },
  {
   "cell_type": "code",
   "execution_count": null,
   "metadata": {},
   "outputs": [],
   "source": [
    "ex1 = Experiment(filepaths[:10000])\n",
    "ex1.run()"
   ]
  },
  {
   "cell_type": "code",
   "execution_count": null,
   "metadata": {},
   "outputs": [],
   "source": [
    "ex1.write_to_disk()"
   ]
  },
  {
   "cell_type": "code",
   "execution_count": null,
   "metadata": {},
   "outputs": [],
   "source": [
    "ex2 = Experiment(filepaths[10000:])\n",
    "ex2.run()"
   ]
  }
 ],
 "metadata": {
  "kernelspec": {
   "display_name": "ocr",
   "language": "python",
   "name": "python3"
  },
  "language_info": {
   "codemirror_mode": {
    "name": "ipython",
    "version": 3
   },
   "file_extension": ".py",
   "mimetype": "text/x-python",
   "name": "python",
   "nbconvert_exporter": "python",
   "pygments_lexer": "ipython3",
   "version": "3.11.4"
  }
 },
 "nbformat": 4,
 "nbformat_minor": 4
}
