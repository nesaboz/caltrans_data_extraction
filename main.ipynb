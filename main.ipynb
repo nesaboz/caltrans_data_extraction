{
 "cells": [
  {
   "cell_type": "markdown",
   "metadata": {},
   "source": [
    "# Caltrans Data Extraction"
   ]
  },
  {
   "cell_type": "markdown",
   "metadata": {},
   "source": [
    "The goal of this project is to extract relevant data from text files, previously converted from PDF files. Since the text files are quite structured, the decision is to use regex to do this."
   ]
  },
  {
   "cell_type": "markdown",
   "metadata": {},
   "source": [
    "## Setup\n",
    "\n",
    "Install the following packages if you don't have them yet:"
   ]
  },
  {
   "cell_type": "code",
   "execution_count": 5,
   "metadata": {},
   "outputs": [],
   "source": [
    "# pip install pandas numpy tqdm ipykernel notebook python-dotenv openpyxl"
   ]
  },
  {
   "cell_type": "code",
   "execution_count": 6,
   "metadata": {},
   "outputs": [],
   "source": [
    "from experiment import *\n",
    "\n",
    "import pyperclip\n",
    "\n",
    "%reload_ext autoreload\n",
    "%autoreload 2\n",
    "\n",
    "# Note: to print DataFrame fully use:\n",
    "# pd.set_option('display.max_rows', None)  # to set globally, or use: \n",
    "# with pd.option_context('display.max_rows', None, \n",
    "#                        'display.max_columns', None, \n",
    "#                        'display.width', None, \n",
    "#                        'display.max_colwidth', None):\n",
    "#   display(df)"
   ]
  },
  {
   "cell_type": "markdown",
   "metadata": {},
   "source": [
    "## Classify contracts into types\n",
    "\n",
    "There are 2 main types of contract:"
   ]
  },
  {
   "cell_type": "code",
   "execution_count": 7,
   "metadata": {},
   "outputs": [],
   "source": [
    "# check_lineprinter_table_files()\n",
    "\n",
    "# filepaths_lineprinter = list(RAW_DATA_PATH_LINEPRINTER.glob('*.txt'))\n",
    "# filepaths_doc = list(RAW_DATA_PATH_DOC.glob('*.txt'))\n",
    "\n",
    "# sort_contracts(filepaths_lineprinter + filepaths_doc, PROCESSED_DATA_PATH)"
   ]
  },
  {
   "cell_type": "code",
   "execution_count": 8,
   "metadata": {},
   "outputs": [
    {
     "data": {
      "text/html": [
       "<div>\n",
       "<style scoped>\n",
       "    .dataframe tbody tr th:only-of-type {\n",
       "        vertical-align: middle;\n",
       "    }\n",
       "\n",
       "    .dataframe tbody tr th {\n",
       "        vertical-align: top;\n",
       "    }\n",
       "\n",
       "    .dataframe thead th {\n",
       "        text-align: right;\n",
       "    }\n",
       "</style>\n",
       "<table border=\"1\" class=\"dataframe\">\n",
       "  <thead>\n",
       "    <tr style=\"text-align: right;\">\n",
       "      <th></th>\n",
       "      <th>Tag</th>\n",
       "      <th>Identifier</th>\n",
       "      <th>Contract_Type</th>\n",
       "    </tr>\n",
       "    <tr>\n",
       "      <th>Filename</th>\n",
       "      <th></th>\n",
       "      <th></th>\n",
       "      <th></th>\n",
       "    </tr>\n",
       "  </thead>\n",
       "  <tbody>\n",
       "    <tr>\n",
       "      <th>09-354304.pdf_5533</th>\n",
       "      <td>5533</td>\n",
       "      <td>t1_5533</td>\n",
       "      <td>1</td>\n",
       "    </tr>\n",
       "    <tr>\n",
       "      <th>02-360704.pdf_5397</th>\n",
       "      <td>5397</td>\n",
       "      <td>t1_5397</td>\n",
       "      <td>1</td>\n",
       "    </tr>\n",
       "    <tr>\n",
       "      <th>12-0S9004.pdf_12386</th>\n",
       "      <td>12386</td>\n",
       "      <td>t1_12386</td>\n",
       "      <td>1</td>\n",
       "    </tr>\n",
       "    <tr>\n",
       "      <th>02-0H2904.pdf_6987</th>\n",
       "      <td>6987</td>\n",
       "      <td>t1_6987</td>\n",
       "      <td>1</td>\n",
       "    </tr>\n",
       "    <tr>\n",
       "      <th>04-0435E4.pdf_2074</th>\n",
       "      <td>2074</td>\n",
       "      <td>t1_2074</td>\n",
       "      <td>1</td>\n",
       "    </tr>\n",
       "    <tr>\n",
       "      <th>...</th>\n",
       "      <td>...</td>\n",
       "      <td>...</td>\n",
       "      <td>...</td>\n",
       "    </tr>\n",
       "    <tr>\n",
       "      <th>doc_4479</th>\n",
       "      <td>4479</td>\n",
       "      <td>t1_4479_00</td>\n",
       "      <td>1</td>\n",
       "    </tr>\n",
       "    <tr>\n",
       "      <th>doc_4479</th>\n",
       "      <td>4479</td>\n",
       "      <td>t1_4479_01</td>\n",
       "      <td>1</td>\n",
       "    </tr>\n",
       "    <tr>\n",
       "      <th>doc_4479</th>\n",
       "      <td>4479</td>\n",
       "      <td>t1_4479_02</td>\n",
       "      <td>1</td>\n",
       "    </tr>\n",
       "    <tr>\n",
       "      <th>doc_6508</th>\n",
       "      <td>6508</td>\n",
       "      <td>t1_6508_00</td>\n",
       "      <td>1</td>\n",
       "    </tr>\n",
       "    <tr>\n",
       "      <th>doc_6508</th>\n",
       "      <td>6508</td>\n",
       "      <td>t1_6508_01</td>\n",
       "      <td>1</td>\n",
       "    </tr>\n",
       "  </tbody>\n",
       "</table>\n",
       "<p>18830 rows × 3 columns</p>\n",
       "</div>"
      ],
      "text/plain": [
       "                       Tag  Identifier  Contract_Type\n",
       "Filename                                             \n",
       "09-354304.pdf_5533    5533     t1_5533              1\n",
       "02-360704.pdf_5397    5397     t1_5397              1\n",
       "12-0S9004.pdf_12386  12386    t1_12386              1\n",
       "02-0H2904.pdf_6987    6987     t1_6987              1\n",
       "04-0435E4.pdf_2074    2074     t1_2074              1\n",
       "...                    ...         ...            ...\n",
       "doc_4479              4479  t1_4479_00              1\n",
       "doc_4479              4479  t1_4479_01              1\n",
       "doc_4479              4479  t1_4479_02              1\n",
       "doc_6508              6508  t1_6508_00              1\n",
       "doc_6508              6508  t1_6508_01              1\n",
       "\n",
       "[18830 rows x 3 columns]"
      ]
     },
     "execution_count": 8,
     "metadata": {},
     "output_type": "execute_result"
    }
   ],
   "source": [
    "contract_types, _ = get_contract_types()\n",
    "contract_types"
   ]
  },
  {
   "cell_type": "markdown",
   "metadata": {},
   "source": [
    "## Single Contract Analysis\n",
    "\n",
    "Let's look at the single contract:"
   ]
  },
  {
   "cell_type": "code",
   "execution_count": 9,
   "metadata": {},
   "outputs": [],
   "source": [
    "c = Contract('t2_12752')\n",
    "# c = Contract('t1_2774')"
   ]
  },
  {
   "cell_type": "markdown",
   "metadata": {},
   "source": [
    "To copy file contents to clipboard:"
   ]
  },
  {
   "cell_type": "code",
   "execution_count": 10,
   "metadata": {},
   "outputs": [],
   "source": [
    "pyperclip.copy(c.file_contents)"
   ]
  },
  {
   "cell_type": "markdown",
   "metadata": {},
   "source": [
    "There are four attributes of the contract that gets extracted: `info`, `bids`, `subcontractors`, and `items`, for example:"
   ]
  },
  {
   "cell_type": "code",
   "execution_count": 11,
   "metadata": {},
   "outputs": [],
   "source": [
    "c.extract()"
   ]
  },
  {
   "cell_type": "code",
   "execution_count": 12,
   "metadata": {},
   "outputs": [
    {
     "data": {
      "text/html": [
       "<div>\n",
       "<style scoped>\n",
       "    .dataframe tbody tr th:only-of-type {\n",
       "        vertical-align: middle;\n",
       "    }\n",
       "\n",
       "    .dataframe tbody tr th {\n",
       "        vertical-align: top;\n",
       "    }\n",
       "\n",
       "    .dataframe thead th {\n",
       "        text-align: right;\n",
       "    }\n",
       "</style>\n",
       "<table border=\"1\" class=\"dataframe\">\n",
       "  <thead>\n",
       "    <tr style=\"text-align: right;\">\n",
       "      <th></th>\n",
       "      <th>Identifier</th>\n",
       "      <th>Bid_Rank</th>\n",
       "      <th>A_plus_B_indicator</th>\n",
       "      <th>Bid_Total</th>\n",
       "      <th>Bidder_ID</th>\n",
       "      <th>Bidder_Name</th>\n",
       "      <th>CSLB_Number</th>\n",
       "      <th>Contract_Notes</th>\n",
       "    </tr>\n",
       "  </thead>\n",
       "  <tbody>\n",
       "    <tr>\n",
       "      <th>0</th>\n",
       "      <td>12752</td>\n",
       "      <td>1</td>\n",
       "      <td>1</td>\n",
       "      <td>1,701,500.00</td>\n",
       "      <td>VC1300004803</td>\n",
       "      <td>KEVIN MACK CONSTRUCTION INC</td>\n",
       "      <td>471831</td>\n",
       "      <td>SB  PREF CLAIMED</td>\n",
       "    </tr>\n",
       "    <tr>\n",
       "      <th>1</th>\n",
       "      <td>12752</td>\n",
       "      <td>2</td>\n",
       "      <td>1</td>\n",
       "      <td>1,727,679.00</td>\n",
       "      <td>VC2100002296</td>\n",
       "      <td>SAN PATRICIO CONSTRUCTION</td>\n",
       "      <td>01025193</td>\n",
       "      <td>SB PREF CLAIMED</td>\n",
       "    </tr>\n",
       "    <tr>\n",
       "      <th>2</th>\n",
       "      <td>12752</td>\n",
       "      <td>3</td>\n",
       "      <td>1</td>\n",
       "      <td>1,920,000.00</td>\n",
       "      <td>VC2000001958</td>\n",
       "      <td>MCCUEN CONSTRUCTION, INC.</td>\n",
       "      <td>00880160</td>\n",
       "      <td>SB PREF CLAIMED</td>\n",
       "    </tr>\n",
       "  </tbody>\n",
       "</table>\n",
       "</div>"
      ],
      "text/plain": [
       "  Identifier Bid_Rank  A_plus_B_indicator     Bid_Total     Bidder_ID  \\\n",
       "0      12752        1                   1  1,701,500.00  VC1300004803   \n",
       "1      12752        2                   1  1,727,679.00  VC2100002296   \n",
       "2      12752        3                   1  1,920,000.00  VC2000001958   \n",
       "\n",
       "                   Bidder_Name CSLB_Number    Contract_Notes  \n",
       "0  KEVIN MACK CONSTRUCTION INC      471831  SB  PREF CLAIMED  \n",
       "1    SAN PATRICIO CONSTRUCTION    01025193   SB PREF CLAIMED  \n",
       "2    MCCUEN CONSTRUCTION, INC.    00880160   SB PREF CLAIMED  "
      ]
     },
     "execution_count": 12,
     "metadata": {},
     "output_type": "execute_result"
    }
   ],
   "source": [
    "c.bids.df"
   ]
  },
  {
   "cell_type": "markdown",
   "metadata": {},
   "source": [
    "# Process single contract"
   ]
  },
  {
   "cell_type": "code",
   "execution_count": 13,
   "metadata": {},
   "outputs": [
    {
     "name": "stdout",
     "output_type": "stream",
     "text": [
      "Processing 1/1 ... \n",
      "Done processing 1 files.\n",
      "Writing to disk, please wait ...\n",
      "Writing Info ...\n",
      "Writing Bids ...\n",
      "Writing Subcontractors ...\n",
      "Writing Items ...\n",
      "Saved data to: results/04-02-2024-23:13:13:_t1_2652.\n"
     ]
    }
   ],
   "source": [
    "ex = Experiment('t1_2652')\n",
    "ex.run()"
   ]
  },
  {
   "cell_type": "markdown",
   "metadata": {},
   "source": [
    "# Process several contract"
   ]
  },
  {
   "cell_type": "markdown",
   "metadata": {},
   "source": [
    "We now run extraction on a small sample of contracts:"
   ]
  },
  {
   "cell_type": "code",
   "execution_count": 14,
   "metadata": {},
   "outputs": [
    {
     "name": "stdout",
     "output_type": "stream",
     "text": [
      "Processing 1/5 ... \n",
      "Done processing 5 files.\n",
      "Writing to disk, please wait ...\n",
      "Writing Info ...\n",
      "Writing Bids ...\n",
      "Writing Subcontractors ...\n",
      "Writing Items ...\n",
      "Saved data to: results/04-02-2024-23:13:14:_5_contracts_t1.\n"
     ]
    }
   ],
   "source": [
    "filepaths = get_contract_filepaths(contract_type=1, num_contracts=5, seed=45)\n",
    "ex = Experiment(filepaths)\n",
    "ex.run()"
   ]
  },
  {
   "cell_type": "markdown",
   "metadata": {},
   "source": [
    "# Process all contracts"
   ]
  },
  {
   "cell_type": "markdown",
   "metadata": {},
   "source": [
    "Let's first analyze type 2 since it's fast:"
   ]
  },
  {
   "cell_type": "code",
   "execution_count": 15,
   "metadata": {},
   "outputs": [
    {
     "name": "stdout",
     "output_type": "stream",
     "text": [
      "Processing 1/168 ... \n",
      "{'Contract_Type': 't2', 'Identifier': 't2_3534', 'Error': ValueError('Failed to extract basic info for 3534')}\n",
      "{'Contract_Type': 't2', 'Identifier': 't2_3555', 'Error': ValueError('Failed to extract basic info for 3555')}\n",
      "Processing 101/168 ... \n",
      "{'Contract_Type': 't2', 'Identifier': 't2_10657', 'Error': ValueError('Failed to extract basic info for 10657')}\n",
      "{'Contract_Type': 't2', 'Identifier': 't2_7827', 'Error': ValueError('Failed to extract basic info for 7827')}\n",
      "Done processing 168 files.\n",
      "Writing to disk, please wait ...\n",
      "Writing Info ...\n",
      "Writing Bids ...\n",
      "Writing Subcontractors ...\n",
      "Writing Items ...\n",
      "Writing Errors ...\n",
      "Saved data to: results/04-02-2024-23:13:14:_168_contracts_t2.\n"
     ]
    }
   ],
   "source": [
    "filepaths = get_contract_filepaths(contract_type=2)\n",
    "ex = Experiment(filepaths)\n",
    "ex.run()"
   ]
  },
  {
   "cell_type": "markdown",
   "metadata": {},
   "source": [
    "And now type1:"
   ]
  },
  {
   "cell_type": "code",
   "execution_count": 16,
   "metadata": {},
   "outputs": [
    {
     "name": "stdout",
     "output_type": "stream",
     "text": [
      "Processing 1/18662 ... \n",
      "Processing 101/18662 ... \n",
      "Processing 201/18662 ... \n",
      "Processing 301/18662 ... \n",
      "Processing 401/18662 ... \n",
      "Processing 501/18662 ... \n",
      "{'Contract_Type': 't1', 'Identifier': 't1_6245', 'Error': ValueError('Failed to extract basic info for 6245')}\n",
      "Processing 601/18662 ... \n",
      "Processing 701/18662 ... \n",
      "Processing 801/18662 ... \n",
      "Processing 901/18662 ... \n",
      "Processing 1001/18662 ... \n",
      "Processing 1101/18662 ... \n",
      "Processing 1201/18662 ... \n",
      "Processing 1301/18662 ... \n",
      "Processing 1401/18662 ... \n",
      "{'Contract_Type': 't1', 'Identifier': 't1_7564', 'Error': ValueError('Failed to extract basic info for 7564')}\n",
      "Processing 1501/18662 ... \n",
      "Processing 1601/18662 ... \n",
      "Processing 1701/18662 ... \n",
      "{'Contract_Type': 't1', 'Identifier': 't1_6844', 'Error': ValueError('Failed to extract basic info for 6844')}\n",
      "Processing 1801/18662 ... \n",
      "Processing 1901/18662 ... \n",
      "Processing 2001/18662 ... \n",
      "{'Contract_Type': 't1', 'Identifier': 't1_6851', 'Error': ValueError('Failed to extract basic info for 6851')}\n",
      "Processing 2101/18662 ... \n",
      "Processing 2201/18662 ... \n",
      "Processing 2301/18662 ... \n",
      "Processing 2401/18662 ... \n",
      "Processing 2501/18662 ... \n",
      "{'Contract_Type': 't1', 'Identifier': 't1_5351', 'Error': AttributeError(\"'NoneType' object has no attribute 'group'\")}\n",
      "Processing 2601/18662 ... \n",
      "Processing 2701/18662 ... \n",
      "Processing 2801/18662 ... \n",
      "Processing 2901/18662 ... \n",
      "Processing 3001/18662 ... \n",
      "Processing 3101/18662 ... \n",
      "Processing 3201/18662 ... \n",
      "Processing 3301/18662 ... \n",
      "Processing 3401/18662 ... \n",
      "Processing 3501/18662 ... \n",
      "Processing 3601/18662 ... \n",
      "Processing 3701/18662 ... \n",
      "{'Contract_Type': 't1', 'Identifier': 't1_10887', 'Error': ValueError('Failed to extract basic info for 10887')}\n",
      "Processing 3801/18662 ... \n",
      "Processing 3901/18662 ... \n",
      "Processing 4001/18662 ... \n",
      "Processing 4101/18662 ... \n",
      "{'Contract_Type': 't1', 'Identifier': 't1_5382', 'Error': AttributeError(\"'NoneType' object has no attribute 'group'\")}\n",
      "Processing 4201/18662 ... \n",
      "Processing 4301/18662 ... \n",
      "Processing 4401/18662 ... \n",
      "Processing 4501/18662 ... \n",
      "Processing 4601/18662 ... \n",
      "Processing 4701/18662 ... \n",
      "Processing 4801/18662 ... \n",
      "Processing 4901/18662 ... \n",
      "Processing 5001/18662 ... \n",
      "Processing 5101/18662 ... \n",
      "Processing 5201/18662 ... \n",
      "{'Contract_Type': 't1', 'Identifier': 't1_11520', 'Error': AssertionError('BAR                                     ARRIER (TYPE 732SW M is not BAR                                     ARRIER (TYPE 732SW')}\n",
      "Processing 5301/18662 ... \n",
      "Processing 5401/18662 ... \n",
      "{'Contract_Type': 't1', 'Identifier': 't1_2689', 'Error': ValueError('Failed to extract basic info for 2689')}\n",
      "Processing 5501/18662 ... \n",
      "Processing 5601/18662 ... \n",
      "Processing 5701/18662 ... \n",
      "Processing 5801/18662 ... \n",
      "Processing 5901/18662 ... \n",
      "{'Contract_Type': 't1', 'Identifier': 't1_6153', 'Error': ValueError('Failed to extract basic info for 6153')}\n",
      "Processing 6001/18662 ... \n",
      "Processing 6101/18662 ... \n",
      "Processing 6201/18662 ... \n",
      "Processing 6301/18662 ... \n",
      "Processing 6401/18662 ... \n",
      "Processing 6501/18662 ... \n",
      "Processing 6601/18662 ... \n",
      "Processing 6701/18662 ... \n",
      "Processing 6801/18662 ... \n",
      "Processing 6901/18662 ... \n",
      "{'Contract_Type': 't1', 'Identifier': 't1_12652', 'Error': ValueError('Second line is not in the standard format (notes, extra name, CLBS number, line: ``')}\n",
      "Processing 7001/18662 ... \n",
      "Processing 7101/18662 ... \n",
      "Processing 7201/18662 ... \n",
      "Processing 7301/18662 ... \n",
      "Processing 7401/18662 ... \n",
      "Processing 7501/18662 ... \n",
      "Processing 7601/18662 ... \n",
      "Processing 7701/18662 ... \n",
      "{'Contract_Type': 't1', 'Identifier': 't1_2774', 'Error': ValueError('Failed to extract basic info for 2774')}\n",
      "{'Contract_Type': 't1', 'Identifier': 't1_10602', 'Error': AssertionError('01 is not 3531')}\n",
      "Processing 7801/18662 ... \n",
      "Processing 7901/18662 ... \n",
      "Processing 8001/18662 ... \n",
      "{'Contract_Type': 't1', 'Identifier': 't1_2578', 'Error': ValueError('Failed to extract basic info for 2578')}\n",
      "Processing 8101/18662 ... \n",
      "Processing 8201/18662 ... \n",
      "Processing 8301/18662 ... \n",
      "Processing 8401/18662 ... \n",
      "Processing 8501/18662 ... \n",
      "Processing 8601/18662 ... \n",
      "Processing 8701/18662 ... \n",
      "Processing 8801/18662 ... \n",
      "{'Contract_Type': 't1', 'Identifier': 't1_2788_05', 'Error': ValueError('Failed to extract basic info for 2788_05')}\n",
      "{'Contract_Type': 't1', 'Identifier': 't1_2788_14', 'Error': ValueError('Failed to extract basic info for 2788_14')}\n",
      "Processing 8901/18662 ... \n",
      "Processing 9001/18662 ... \n",
      "{'Contract_Type': 't1', 'Identifier': 't1_6897_02', 'Error': ValueError('Failed to extract basic info for 6897_02')}\n",
      "Processing 9101/18662 ... \n",
      "Processing 9201/18662 ... \n",
      "{'Contract_Type': 't1', 'Identifier': 't1_5384_00', 'Error': AttributeError(\"'NoneType' object has no attribute 'group'\")}\n",
      "Processing 9301/18662 ... \n",
      "Processing 9401/18662 ... \n",
      "Processing 9501/18662 ... \n",
      "Processing 9601/18662 ... \n",
      "Processing 9701/18662 ... \n",
      "Processing 9801/18662 ... \n",
      "Processing 9901/18662 ... \n",
      "Processing 10001/18662 ... \n",
      "Processing 10101/18662 ... \n",
      "Processing 10201/18662 ... \n",
      "Processing 10301/18662 ... \n",
      "Processing 10401/18662 ... \n",
      "{'Contract_Type': 't1', 'Identifier': 't1_2605_01', 'Error': ValueError('Failed to extract basic info for 2605_01')}\n",
      "{'Contract_Type': 't1', 'Identifier': 't1_6305_05', 'Error': ValueError('Failed to extract basic info for 6305_05')}\n",
      "Processing 10501/18662 ... \n",
      "{'Contract_Type': 't1', 'Identifier': 't1_6310_05', 'Error': ValueError('Failed to extract basic info for 6310_05')}\n",
      "Processing 10601/18662 ... \n",
      "Processing 10701/18662 ... \n",
      "Processing 10801/18662 ... \n",
      "Processing 10901/18662 ... \n",
      "Processing 11001/18662 ... \n",
      "Processing 11101/18662 ... \n",
      "Processing 11201/18662 ... \n"
     ]
    }
   ],
   "source": [
    "filepaths = get_contract_filepaths(contract_type=1)\n",
    "ex = Experiment(filepaths)\n",
    "ex.run()"
   ]
  },
  {
   "cell_type": "code",
   "execution_count": null,
   "metadata": {},
   "outputs": [],
   "source": [
    "# some known error to exclude:\n",
    "# exclude_type1 = ['12-0K0234_11520', '12-0R2704_10602', '06-0L8404_3005', '07-0W0404_12652', '07-338004_11638']\n",
    "# exclude_type2 = ['09-237704_3534']\n",
    "# exclude = exclude_type1 + exclude_type2\n",
    "# filepaths = [x for x in filepaths if x.stem not in exclude]\n",
    "# len(filepaths)"
   ]
  }
 ],
 "metadata": {
  "kernelspec": {
   "display_name": "ocr",
   "language": "python",
   "name": "python3"
  },
  "language_info": {
   "codemirror_mode": {
    "name": "ipython",
    "version": 3
   },
   "file_extension": ".py",
   "mimetype": "text/x-python",
   "name": "python",
   "nbconvert_exporter": "python",
   "pygments_lexer": "ipython3",
   "version": "3.11.4"
  }
 },
 "nbformat": 4,
 "nbformat_minor": 4
}
