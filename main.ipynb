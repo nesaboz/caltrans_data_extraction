{
 "cells": [
  {
   "cell_type": "markdown",
   "metadata": {},
   "source": [
    "# Caltrans Data Extraction"
   ]
  },
  {
   "cell_type": "markdown",
   "metadata": {},
   "source": [
    "The goal of this project is to extract relevant data from text files, previously converted from PDF files. Since the text files are quite structured, the decision is to use regex to do this."
   ]
  },
  {
   "cell_type": "markdown",
   "metadata": {},
   "source": [
    "## Setup\n",
    "\n",
    "Install the following packages if you don't have them yet:"
   ]
  },
  {
   "cell_type": "code",
   "execution_count": null,
   "metadata": {},
   "outputs": [],
   "source": [
    "# pip install pandas numpy tqdm ipykernel notebook python-dotenv openpyxl"
   ]
  },
  {
   "cell_type": "code",
   "execution_count": null,
   "metadata": {},
   "outputs": [],
   "source": [
    "from pathlib import Path\n",
    "from pprint import pprint\n",
    "from typing import List, Tuple\n",
    "from collections import defaultdict\n",
    "import re\n",
    "import pandas as pd\n",
    "import re\n",
    "from tqdm import tqdm\n",
    "import numpy as np\n",
    "import os\n",
    "from datetime import datetime\n",
    "import shutil\n",
    "from dotenv import load_dotenv\n",
    "\n",
    "from utils import *\n",
    "\n",
    "%reload_ext autoreload\n",
    "%autoreload 2\n",
    "\n",
    "# pd.set_option('display.max_rows', None)  # optional to see all rows in DataFrames"
   ]
  },
  {
   "cell_type": "markdown",
   "metadata": {},
   "source": [
    "## Test parse_subcontracted_line_item"
   ]
  },
  {
   "cell_type": "code",
   "execution_count": null,
   "metadata": {},
   "outputs": [],
   "source": [
    "df = pd.read_csv('subcontracted_line_item_examples.txt', header=None, delimiter=\"\\t\", names=['Subcontracted_Line_Item'])\n",
    "df, df_outlier = parse_subcontracted_line_item(df)\n",
    "df"
   ]
  },
  {
   "cell_type": "code",
   "execution_count": null,
   "metadata": {},
   "outputs": [],
   "source": [
    "df_outlier"
   ]
  },
  {
   "cell_type": "markdown",
   "metadata": {},
   "source": [
    "# One sample study"
   ]
  },
  {
   "cell_type": "code",
   "execution_count": null,
   "metadata": {},
   "outputs": [],
   "source": [
    "# filepath = RAW_DATA_PATH.parent / 'sample' / '01-0A3804.pdf_2724.txt'\n",
    "# filepath = RAW_DATA_PATH_LINEPRINTER / '01-0A3804.pdf_4353.txt'\n",
    "# filepath = RAW_DATA_PATH_LINEPRINTER / '01-0A0904.pdf_2724.txt'\n",
    "# filepath = RAW_DATA_PATH_LINEPRINTER / '01-0A1204.pdf_11468.txt'\n",
    "# filepath = RAW_DATA_PATH_LINEPRINTER / '01-0F4304.pdf_12346.txt'  # issue # 11\n",
    "# filepath = RAW_DATA_PATH_LINEPRINTER / '01-0K6104.pdf_12731.txt'  # issue # 9\n",
    "# filepath = RAW_DATA_PATH_LINEPRINTER / '01-0K4604.pdf_12040.txt'  # issue # 1\n",
    "# filepath = RAW_DATA_PATH_LINEPRINTER / '01-0H3204.pdf_9871.txt'  # issue # 5\n",
    "filepath = RAW_DATA_PATH_LINEPRINTER / '01-0A0404.pdf_10165.txt'  # different format"
   ]
  },
  {
   "cell_type": "code",
   "execution_count": null,
   "metadata": {},
   "outputs": [],
   "source": [
    "contract_number_from_filename, tag, identifier = get_contract_number_and_tag_from_filename(filepath.stem)\n",
    "file_contents = read_file(filepath)"
   ]
  },
  {
   "cell_type": "code",
   "execution_count": null,
   "metadata": {},
   "outputs": [],
   "source": [
    "contract_number_from_filename, tag, identifier "
   ]
  },
  {
   "cell_type": "markdown",
   "metadata": {},
   "source": [
    "Extract contract data:"
   ]
  },
  {
   "cell_type": "code",
   "execution_count": null,
   "metadata": {},
   "outputs": [],
   "source": [
    "df_contract_data = pd.DataFrame([extract_contract_data(file_contents, identifier)])\n",
    "df_contract_bid_data = pd.DataFrame(extract_contract_bid_data(file_contents, identifier))\n",
    "df_bid_subcontractor_data = parse_subcontracted_line_item(fill_gaps_in_bidder_id(pd.DataFrame(extract_bid_subcontractor_data(file_contents, identifier))))\n",
    "df_contract_line_item_data = pd.DataFrame(extract_contract_line_item_data(file_contents, identifier))"
   ]
  },
  {
   "cell_type": "code",
   "execution_count": null,
   "metadata": {},
   "outputs": [],
   "source": [
    "df_contract_data"
   ]
  },
  {
   "cell_type": "code",
   "execution_count": null,
   "metadata": {},
   "outputs": [],
   "source": [
    "df_contract_bid_data"
   ]
  },
  {
   "cell_type": "code",
   "execution_count": null,
   "metadata": {},
   "outputs": [],
   "source": [
    "df_bid_subcontractor_data"
   ]
  },
  {
   "cell_type": "code",
   "execution_count": null,
   "metadata": {},
   "outputs": [],
   "source": [
    "# with pd.option_context('display.max_rows', None, \n",
    "#                        'display.max_columns', None, \n",
    "#                        'display.width', None, \n",
    "#                        'display.max_colwidth', None):\n",
    "df_contract_line_item_data"
   ]
  },
  {
   "cell_type": "markdown",
   "metadata": {},
   "source": [
    "# Batch run"
   ]
  },
  {
   "cell_type": "markdown",
   "metadata": {},
   "source": [
    "Here we run a batch or a single file (for example, if you want to run a specific outlier, make `files` a single element list):"
   ]
  },
  {
   "cell_type": "code",
   "execution_count": null,
   "metadata": {},
   "outputs": [],
   "source": [
    "files = (RAW_DATA_PATH/'Txt files - lineprinter').glob('*.txt')\n",
    "# files = [RAW_DATA_PATH/'Txt files - lineprinter'/'01-0F9204.PDF_12364.txt']"
   ]
  },
  {
   "cell_type": "code",
   "execution_count": null,
   "metadata": {},
   "outputs": [],
   "source": [
    "contract_data = []\n",
    "contract_bid_data = []\n",
    "bid_subcontractor_data = []\n",
    "contract_line_item_data = []\n",
    "other_format = []\n",
    "\n",
    "for filepath in tqdm(files):\n",
    "    \n",
    "    file_contents = read_file(filepath)\n",
    "        \n",
    "    filename = filepath.stem\n",
    "    contract_number_from_filename, tag, identifier = get_contract_number_and_tag_from_filename(filename)\n",
    "    contract_number_from_contents = get_contract_number(file_contents)\n",
    "    \n",
    "    if contract_number_from_filename == contract_number_from_contents:  \n",
    "        contract_data.append(extract_contract_data(file_contents, identifier))\n",
    "        contract_bid_data.extend(extract_contract_bid_data(file_contents, identifier))\n",
    "        bid_subcontractor_data.extend(extract_bid_subcontractor_data(file_contents, identifier))\n",
    "        contract_line_item_data.extend(extract_contract_line_item_data(file_contents, identifier))\n",
    "    else:\n",
    "        # if contract number doesn't match then something is off that needs investigation\n",
    "        other_format.append({'other_format_filename': filename})\n",
    "        # let's also copy the pdf to a folder for manual inspection\n",
    "        \n",
    "        shutil.copy(\n",
    "            RAW_DATA_PATH_PDF / f'{filename}.pdf', \n",
    "            OUTLIERS_PATH_PDF / f'{filename}.pdf'\n",
    "            )\n",
    "        \n",
    "        shutil.copy(\n",
    "            RAW_DATA_PATH_LINEPRINTER / f'{filename}.txt', \n",
    "            OUTLIERS_PATH_LINEPRINTER / f'{filename}.txt'\n",
    "            )\n",
    "        \n",
    "        shutil.copy(\n",
    "            RAW_DATA_PATH_TABLE / f'{filename}.txt',\n",
    "            OUTLIERS_PATH_TABLE / f'{filename}.txt'\n",
    "            )\n",
    "        \n",
    "        \n",
    "        "
   ]
  },
  {
   "cell_type": "markdown",
   "metadata": {},
   "source": [
    "# Save files"
   ]
  },
  {
   "cell_type": "markdown",
   "metadata": {},
   "source": [
    "Uncomment the timestamp line if you want to save all files with the timstampt prefix:"
   ]
  },
  {
   "cell_type": "code",
   "execution_count": null,
   "metadata": {},
   "outputs": [],
   "source": [
    "# timestamp = datetime.strftime(datetime.now(), '%m-%d-%Y-%H:%M:%S')\n",
    "timestamp = None"
   ]
  },
  {
   "cell_type": "code",
   "execution_count": null,
   "metadata": {},
   "outputs": [],
   "source": [
    "write_to_results(contract_data, \"contract_data\", timestamp=timestamp)\n",
    "write_to_results(contract_bid_data, \"contract_bid_data\", timestamp=timestamp)\n",
    "\n",
    "df_bid_subcontractor_data, df_bid_subcontractor_data_could_not_parse = parse_subcontracted_line_item(\n",
    "    fill_gaps_in_bidder_id(pd.DataFrame(bid_subcontractor_data)))\n",
    "\n",
    "write_to_results(df_bid_subcontractor_data, \"bid_subcontractor_data\", timestamp=timestamp)\n",
    "write_to_results(df_bid_subcontractor_data_could_not_parse, \"bid_subcontractor_outliers\", timestamp=timestamp)\n",
    "\n",
    "write_to_results(contract_line_item_data, \"contract_line_item_data\", timestamp=timestamp)\n",
    "write_to_results(other_format, \"other_format\", timestamp=timestamp)"
   ]
  },
  {
   "cell_type": "markdown",
   "metadata": {},
   "source": [
    "# Save to excel"
   ]
  },
  {
   "cell_type": "code",
   "execution_count": null,
   "metadata": {},
   "outputs": [],
   "source": [
    "# Paths to your CSV files\n",
    "csv_file_paths = RESULTS_PATH.glob('*.csv')\n",
    "\n",
    "# Path to the output Excel file\n",
    "excel_file_path = RESULTS_PATH / 'results.xlsx'\n",
    "\n",
    "# Create a Pandas Excel writer using openpyxl as the engine\n",
    "with pd.ExcelWriter(excel_file_path, engine='openpyxl') as writer:\n",
    "    # Iterate over your CSV files\n",
    "    for csv_file in csv_file_paths:\n",
    "        # Use Path from pathlib to work with file paths\n",
    "        csv_path = Path(csv_file)\n",
    "        \n",
    "        # Extract the file name without the extension for the sheet name\n",
    "        sheet_name = csv_path.stem\n",
    "        \n",
    "        # Read each CSV file into a DataFrame\n",
    "        df = pd.read_csv(csv_file)\n",
    "        \n",
    "        # Write the DataFrame to a new sheet in the Excel file using the file name as the sheet name\n",
    "        df.to_excel(writer, sheet_name=sheet_name, index=False)\n",
    "\n",
    "print(f'Merged CSV files into {excel_file_path}')"
   ]
  }
 ],
 "metadata": {
  "kernelspec": {
   "display_name": "ocr",
   "language": "python",
   "name": "python3"
  },
  "language_info": {
   "codemirror_mode": {
    "name": "ipython",
    "version": 3
   },
   "file_extension": ".py",
   "mimetype": "text/x-python",
   "name": "python",
   "nbconvert_exporter": "python",
   "pygments_lexer": "ipython3",
   "version": "3.12.2"
  }
 },
 "nbformat": 4,
 "nbformat_minor": 4
}
