{
 "cells": [
  {
   "cell_type": "markdown",
   "metadata": {},
   "source": [
    "# Caltrans Data Extraction"
   ]
  },
  {
   "cell_type": "markdown",
   "metadata": {},
   "source": [
    "The goal of this project is to extract relevant data from text files, previously converted from PDF files. Since the text files are quite structured, the decision is to use regex to do this."
   ]
  },
  {
   "cell_type": "markdown",
   "metadata": {},
   "source": [
    "## Setup\n",
    "\n",
    "Install the following packages if you don't have them yet:"
   ]
  },
  {
   "cell_type": "code",
   "execution_count": 1,
   "metadata": {},
   "outputs": [],
   "source": [
    "# pip install pandas numpy tqdm ipykernel notebook python-dotenv openpyxl"
   ]
  },
  {
   "cell_type": "code",
   "execution_count": 2,
   "metadata": {},
   "outputs": [],
   "source": [
    "from experiment import *\n",
    "\n",
    "import pyperclip\n",
    "\n",
    "%reload_ext autoreload\n",
    "%autoreload 2\n",
    "\n",
    "pd.set_option('future.no_silent_downcasting', True)\n",
    "\n",
    "# Note: to print DataFrame fully use:\n",
    "# pd.set_option('display.max_rows', None)  # to set globally, or use: \n",
    "# with pd.option_context('display.max_rows', None, \n",
    "#                        'display.max_columns', None, \n",
    "#                        'display.width', None, \n",
    "#                        'display.max_colwidth', None):\n",
    "#   display(df)"
   ]
  },
  {
   "cell_type": "markdown",
   "metadata": {},
   "source": [
    "## Rename the mislabeled contracts\n",
    "\n",
    "There are some files that were mistakenly labeled, so here we rename them:"
   ]
  },
  {
   "cell_type": "code",
   "execution_count": 3,
   "metadata": {},
   "outputs": [
    {
     "name": "stdout",
     "output_type": "stream",
     "text": [
      "File not found: 07-0W0404..pdf_12652.txt\n",
      "File not found: 110427R0.pdf_3052.txt\n",
      "File not found: 110427R0.pdf_2981.txt\n",
      "File not found: 120712R0.pdf_4254.txt\n",
      "File not found: 08-1N0304..pdf_12819.txt\n",
      "File not found: 120928R0.pdf_4565.txt\n",
      "File not found: 121016R0.pdf_4699.txt\n",
      "File not found: 130220R0.pdf_4863.txt\n",
      "File not found: 120717R0.pdf_4252.txt\n",
      "File not found: 08-1G2804..pdf_12877.txt\n"
     ]
    }
   ],
   "source": [
    "d = {'07-0W0404..pdf_12652.txt': '07-0W0404.pdf_12652.txt',\n",
    "     '110427R0.pdf_3052.txt': '01-0A0804.pdf_3052.txt',\n",
    "     '110427R0.pdf_2981.txt': '01-0A0804.pdf_2981.txt',\n",
    "     '120712R0.pdf_4254.txt': '11-270804.pdf_4254.txt',\n",
    "     '08-1N0304..pdf_12819.txt': '08-1N0304.pdf_12819.txt',\n",
    "     '120928R0.pdf_4565.txt': '04-4S1204.pdf_4565.txt',\n",
    "     '121016R0.pdf_4699.txt': '04-4S0304.pdf_4699.txt',\n",
    "     '130220R0.pdf_4863.txt': '03-3E6204.pdf_4863.txt',\n",
    "     '120717R0.pdf_4252.txt': '05-1A9704.pdf_4252.txt',\n",
    "     '08-1G2804..pdf_12877.txt': '08-1G2804.pdf_12877.txt'\n",
    "}\n",
    "\n",
    "for key, value in d.items():\n",
    "    try:\n",
    "        path1 = RAW_DATA_PATH_LINEPRINTER / key\n",
    "        path2 = RAW_DATA_PATH_LINEPRINTER / value\n",
    "        path1.rename(path2)\n",
    "\n",
    "        path1 = RAW_DATA_PATH_TABLE / key\n",
    "        path2 = RAW_DATA_PATH_TABLE / value\n",
    "        path1.rename(path2)\n",
    "    except FileNotFoundError:\n",
    "        print(f'File not found: {key}')\n",
    "        continue\n"
   ]
  },
  {
   "cell_type": "markdown",
   "metadata": {},
   "source": [
    "## Classify contracts into types\n",
    "\n",
    "There are 3 main types of contract (type 3 is merged contracts that need to be parsed first):"
   ]
  },
  {
   "cell_type": "code",
   "execution_count": 4,
   "metadata": {},
   "outputs": [],
   "source": [
    "# sort_contracts()"
   ]
  },
  {
   "cell_type": "code",
   "execution_count": 5,
   "metadata": {},
   "outputs": [
    {
     "data": {
      "text/html": [
       "<div>\n",
       "<style scoped>\n",
       "    .dataframe tbody tr th:only-of-type {\n",
       "        vertical-align: middle;\n",
       "    }\n",
       "\n",
       "    .dataframe tbody tr th {\n",
       "        vertical-align: top;\n",
       "    }\n",
       "\n",
       "    .dataframe thead th {\n",
       "        text-align: right;\n",
       "    }\n",
       "</style>\n",
       "<table border=\"1\" class=\"dataframe\">\n",
       "  <thead>\n",
       "    <tr style=\"text-align: right;\">\n",
       "      <th></th>\n",
       "      <th>Contract_Number</th>\n",
       "      <th>Tag</th>\n",
       "      <th>Identifier</th>\n",
       "      <th>Contract_Type</th>\n",
       "      <th>Relative_Path</th>\n",
       "      <th>Original_Identifier</th>\n",
       "    </tr>\n",
       "    <tr>\n",
       "      <th>Filename</th>\n",
       "      <th></th>\n",
       "      <th></th>\n",
       "      <th></th>\n",
       "      <th></th>\n",
       "      <th></th>\n",
       "      <th></th>\n",
       "    </tr>\n",
       "  </thead>\n",
       "  <tbody>\n",
       "    <tr>\n",
       "      <th>09-354304.pdf_5533</th>\n",
       "      <td>09-354304</td>\n",
       "      <td>5533</td>\n",
       "      <td>09-354304_5533</td>\n",
       "      <td>1</td>\n",
       "      <td>type1/09-354304_5533.txt</td>\n",
       "      <td>NaN</td>\n",
       "    </tr>\n",
       "    <tr>\n",
       "      <th>02-360704.pdf_5397</th>\n",
       "      <td>02-360704</td>\n",
       "      <td>5397</td>\n",
       "      <td>02-360704_5397</td>\n",
       "      <td>1</td>\n",
       "      <td>type1/02-360704_5397.txt</td>\n",
       "      <td>NaN</td>\n",
       "    </tr>\n",
       "    <tr>\n",
       "      <th>12-0S9004.pdf_12386</th>\n",
       "      <td>12-0S9004</td>\n",
       "      <td>12386</td>\n",
       "      <td>12-0S9004_12386</td>\n",
       "      <td>1</td>\n",
       "      <td>type1/12-0S9004_12386.txt</td>\n",
       "      <td>NaN</td>\n",
       "    </tr>\n",
       "    <tr>\n",
       "      <th>02-0H2904.pdf_6987</th>\n",
       "      <td>02-0H2904</td>\n",
       "      <td>6987</td>\n",
       "      <td>02-0H2904_6987</td>\n",
       "      <td>1</td>\n",
       "      <td>type1/02-0H2904_6987.txt</td>\n",
       "      <td>NaN</td>\n",
       "    </tr>\n",
       "    <tr>\n",
       "      <th>04-0435E4.pdf_2074</th>\n",
       "      <td>04-0435E4</td>\n",
       "      <td>2074</td>\n",
       "      <td>04-0435E4_2074</td>\n",
       "      <td>1</td>\n",
       "      <td>type1/04-0435E4_2074.txt</td>\n",
       "      <td>NaN</td>\n",
       "    </tr>\n",
       "    <tr>\n",
       "      <th>...</th>\n",
       "      <td>...</td>\n",
       "      <td>...</td>\n",
       "      <td>...</td>\n",
       "      <td>...</td>\n",
       "      <td>...</td>\n",
       "      <td>...</td>\n",
       "    </tr>\n",
       "    <tr>\n",
       "      <th>01-488504.pdf_1428</th>\n",
       "      <td>01-488504</td>\n",
       "      <td>1428</td>\n",
       "      <td>01-488504_1428</td>\n",
       "      <td>1</td>\n",
       "      <td>type1/01-488504_1428.txt</td>\n",
       "      <td>NaN</td>\n",
       "    </tr>\n",
       "    <tr>\n",
       "      <th>03-1G0004.pdf_11241</th>\n",
       "      <td>03-1G0004</td>\n",
       "      <td>11241</td>\n",
       "      <td>03-1G0004_11241</td>\n",
       "      <td>1</td>\n",
       "      <td>type1/03-1G0004_11241.txt</td>\n",
       "      <td>NaN</td>\n",
       "    </tr>\n",
       "    <tr>\n",
       "      <th>03-3M9504.pdf_4004</th>\n",
       "      <td>03-3M9504</td>\n",
       "      <td>4004</td>\n",
       "      <td>03-3M9504_4004</td>\n",
       "      <td>1</td>\n",
       "      <td>type1/03-3M9504_4004.txt</td>\n",
       "      <td>NaN</td>\n",
       "    </tr>\n",
       "    <tr>\n",
       "      <th>04-2K7104.pdf_12426</th>\n",
       "      <td>04-2K7104</td>\n",
       "      <td>12426</td>\n",
       "      <td>04-2K7104_12426</td>\n",
       "      <td>1</td>\n",
       "      <td>type1/04-2K7104_12426.txt</td>\n",
       "      <td>NaN</td>\n",
       "    </tr>\n",
       "    <tr>\n",
       "      <th>08-0N5504.pdf_7778</th>\n",
       "      <td>08-0N5504</td>\n",
       "      <td>7778</td>\n",
       "      <td>08-0N5504_7778</td>\n",
       "      <td>1</td>\n",
       "      <td>type1/08-0N5504_7778.txt</td>\n",
       "      <td>NaN</td>\n",
       "    </tr>\n",
       "  </tbody>\n",
       "</table>\n",
       "<p>9019 rows × 6 columns</p>\n",
       "</div>"
      ],
      "text/plain": [
       "                    Contract_Number    Tag       Identifier  Contract_Type  \\\n",
       "Filename                                                                     \n",
       "09-354304.pdf_5533        09-354304   5533   09-354304_5533              1   \n",
       "02-360704.pdf_5397        02-360704   5397   02-360704_5397              1   \n",
       "12-0S9004.pdf_12386       12-0S9004  12386  12-0S9004_12386              1   \n",
       "02-0H2904.pdf_6987        02-0H2904   6987   02-0H2904_6987              1   \n",
       "04-0435E4.pdf_2074        04-0435E4   2074   04-0435E4_2074              1   \n",
       "...                             ...    ...              ...            ...   \n",
       "01-488504.pdf_1428        01-488504   1428   01-488504_1428              1   \n",
       "03-1G0004.pdf_11241       03-1G0004  11241  03-1G0004_11241              1   \n",
       "03-3M9504.pdf_4004        03-3M9504   4004   03-3M9504_4004              1   \n",
       "04-2K7104.pdf_12426       04-2K7104  12426  04-2K7104_12426              1   \n",
       "08-0N5504.pdf_7778        08-0N5504   7778   08-0N5504_7778              1   \n",
       "\n",
       "                                 Relative_Path Original_Identifier  \n",
       "Filename                                                            \n",
       "09-354304.pdf_5533    type1/09-354304_5533.txt                 NaN  \n",
       "02-360704.pdf_5397    type1/02-360704_5397.txt                 NaN  \n",
       "12-0S9004.pdf_12386  type1/12-0S9004_12386.txt                 NaN  \n",
       "02-0H2904.pdf_6987    type1/02-0H2904_6987.txt                 NaN  \n",
       "04-0435E4.pdf_2074    type1/04-0435E4_2074.txt                 NaN  \n",
       "...                                        ...                 ...  \n",
       "01-488504.pdf_1428    type1/01-488504_1428.txt                 NaN  \n",
       "03-1G0004.pdf_11241  type1/03-1G0004_11241.txt                 NaN  \n",
       "03-3M9504.pdf_4004    type1/03-3M9504_4004.txt                 NaN  \n",
       "04-2K7104.pdf_12426  type1/04-2K7104_12426.txt                 NaN  \n",
       "08-0N5504.pdf_7778    type1/08-0N5504_7778.txt                 NaN  \n",
       "\n",
       "[9019 rows x 6 columns]"
      ]
     },
     "execution_count": 5,
     "metadata": {},
     "output_type": "execute_result"
    }
   ],
   "source": [
    "contract_types, _ = get_contract_types()\n",
    "contract_types"
   ]
  },
  {
   "cell_type": "markdown",
   "metadata": {},
   "source": [
    "## Single Contract Analysis\n",
    "\n",
    "Let's look at the single contract:"
   ]
  },
  {
   "cell_type": "code",
   "execution_count": 6,
   "metadata": {},
   "outputs": [],
   "source": [
    "c = Contract2('type2/03-2G4804_12594')"
   ]
  },
  {
   "cell_type": "markdown",
   "metadata": {},
   "source": [
    "To copy file contents to clipboard:"
   ]
  },
  {
   "cell_type": "code",
   "execution_count": 7,
   "metadata": {},
   "outputs": [],
   "source": [
    "pyperclip.copy(c.file_contents)"
   ]
  },
  {
   "cell_type": "markdown",
   "metadata": {},
   "source": [
    "There are four attributes of the contract that gets extracted: `info`, `bids`, `subcontractors`, and `items`, for example:"
   ]
  },
  {
   "cell_type": "code",
   "execution_count": 8,
   "metadata": {},
   "outputs": [
    {
     "data": {
      "text/html": [
       "<div>\n",
       "<style scoped>\n",
       "    .dataframe tbody tr th:only-of-type {\n",
       "        vertical-align: middle;\n",
       "    }\n",
       "\n",
       "    .dataframe tbody tr th {\n",
       "        vertical-align: top;\n",
       "    }\n",
       "\n",
       "    .dataframe thead th {\n",
       "        text-align: right;\n",
       "    }\n",
       "</style>\n",
       "<table border=\"1\" class=\"dataframe\">\n",
       "  <thead>\n",
       "    <tr style=\"text-align: right;\">\n",
       "      <th></th>\n",
       "      <th>Identifier</th>\n",
       "      <th>Postponed_Contract</th>\n",
       "      <th>Bid_Opening_Date</th>\n",
       "      <th>Contract_Number</th>\n",
       "      <th>Contract_Date</th>\n",
       "      <th>Contract_Code</th>\n",
       "      <th>Number_of_Contract_Items</th>\n",
       "      <th>Total_Number_of_Working_Days</th>\n",
       "      <th>Number_of_Bidders</th>\n",
       "      <th>Engineers_Est</th>\n",
       "      <th>Amount_Over_Under</th>\n",
       "      <th>Percent_Over_Under_Est</th>\n",
       "      <th>Contract_Description</th>\n",
       "    </tr>\n",
       "  </thead>\n",
       "  <tbody>\n",
       "    <tr>\n",
       "      <th>0</th>\n",
       "      <td>03-2G4804_12594</td>\n",
       "      <td>0</td>\n",
       "      <td>04/20/2022</td>\n",
       "      <td>03-2G4804</td>\n",
       "      <td>04/21/2022</td>\n",
       "      <td>F</td>\n",
       "      <td>31</td>\n",
       "      <td>30</td>\n",
       "      <td>7</td>\n",
       "      <td>530,971.43</td>\n",
       "      <td>-74,316.43</td>\n",
       "      <td>-14.00</td>\n",
       "      <td>Replace culverts &amp; install cured-in-place pipe...</td>\n",
       "    </tr>\n",
       "  </tbody>\n",
       "</table>\n",
       "</div>"
      ],
      "text/plain": [
       "        Identifier  Postponed_Contract Bid_Opening_Date Contract_Number  \\\n",
       "0  03-2G4804_12594                   0       04/20/2022       03-2G4804   \n",
       "\n",
       "  Contract_Date Contract_Code Number_of_Contract_Items  \\\n",
       "0    04/21/2022             F                       31   \n",
       "\n",
       "  Total_Number_of_Working_Days Number_of_Bidders Engineers_Est  \\\n",
       "0                           30                 7    530,971.43   \n",
       "\n",
       "  Amount_Over_Under Percent_Over_Under_Est  \\\n",
       "0        -74,316.43                 -14.00   \n",
       "\n",
       "                                Contract_Description  \n",
       "0  Replace culverts & install cured-in-place pipe...  "
      ]
     },
     "execution_count": 8,
     "metadata": {},
     "output_type": "execute_result"
    }
   ],
   "source": [
    "c.extract()\n",
    "c.info.df"
   ]
  },
  {
   "cell_type": "markdown",
   "metadata": {},
   "source": [
    "# Process single contract"
   ]
  },
  {
   "cell_type": "code",
   "execution_count": 9,
   "metadata": {},
   "outputs": [
    {
     "name": "stdout",
     "output_type": "stream",
     "text": [
      "Processing 1/1 ... \n",
      "Done processing 1 files.\n",
      "Writing to disk ...\n",
      "Saved data to: results/04-01-2024-14:07:34:_07-338004_11638_type3.\n"
     ]
    }
   ],
   "source": [
    "ex = Experiment('type3/07-338004_11638')\n",
    "ex.run()"
   ]
  },
  {
   "cell_type": "markdown",
   "metadata": {},
   "source": [
    "# Process several contract"
   ]
  },
  {
   "cell_type": "markdown",
   "metadata": {},
   "source": [
    "We now run extraction on a small sample of contracts:"
   ]
  },
  {
   "cell_type": "code",
   "execution_count": 10,
   "metadata": {},
   "outputs": [
    {
     "name": "stdout",
     "output_type": "stream",
     "text": [
      "Processing 1/5 ... \n",
      "Done processing 5 files.\n",
      "Writing to disk ...\n",
      "Saved data to: results/04-01-2024-14:07:34:_5_contracts_type1.\n"
     ]
    }
   ],
   "source": [
    "filepaths = get_contract_filepaths(ContractType.TYPE1, num_contracts=5)\n",
    "ex = Experiment(filepaths)\n",
    "ex.run()"
   ]
  },
  {
   "cell_type": "markdown",
   "metadata": {},
   "source": [
    "# Process all contracts"
   ]
  },
  {
   "cell_type": "code",
   "execution_count": 11,
   "metadata": {},
   "outputs": [
    {
     "name": "stdout",
     "output_type": "stream",
     "text": [
      "Processing 1/8776 ... \n",
      "{'Contract_Type': 'type1', 'Identifier': '11-4306u4_11142', 'Error': ValueError('Contract number 11-4306U4 does not match the identifier 11-4306u4_11142')}\n",
      "Processing 101/8776 ... \n",
      "Processing 201/8776 ... \n",
      "Processing 301/8776 ... \n",
      "Processing 401/8776 ... \n",
      "Processing 501/8776 ... \n",
      "{'Contract_Type': 'type1', 'Identifier': '12-0H0074_6245', 'Error': ValueError('Failed to extract basic info for type1/12-0H0074_6245')}\n",
      "Processing 601/8776 ... \n",
      "Processing 701/8776 ... \n",
      "Processing 801/8776 ... \n",
      "Processing 901/8776 ... \n",
      "Processing 1001/8776 ... \n",
      "Processing 1101/8776 ... \n",
      "Processing 1201/8776 ... \n",
      "{'Contract_Type': 'type1', 'Identifier': '04-2k0104_9787', 'Error': ValueError('Contract number 04-2K0104 does not match the identifier 04-2k0104_9787')}\n",
      "Processing 1301/8776 ... \n",
      "{'Contract_Type': 'type1', 'Identifier': '08-1C7104_7564', 'Error': ValueError('Failed to extract basic info for type1/08-1C7104_7564')}\n",
      "Processing 1401/8776 ... \n",
      "Processing 1501/8776 ... \n",
      "Processing 1601/8776 ... \n",
      "Processing 1701/8776 ... \n",
      "{'Contract_Type': 'type1', 'Identifier': '04-1J8104_6844', 'Error': ValueError('Failed to extract basic info for type1/04-1J8104_6844')}\n",
      "Processing 1801/8776 ... \n",
      "{'Contract_Type': 'type1', 'Identifier': '06-0N1704_3554', 'Error': ValueError('Contract number 09-347804 does not match the identifier 06-0N1704_3554')}\n",
      "Processing 1901/8776 ... \n",
      "{'Contract_Type': 'type1', 'Identifier': '03-1E6704_8375', 'Error': ValueError('Contract number 03-1E7604 does not match the identifier 03-1E6704_8375')}\n",
      "Processing 2001/8776 ... \n",
      "{'Contract_Type': 'type1', 'Identifier': '04-1J8104_6851', 'Error': ValueError('Failed to extract basic info for type1/04-1J8104_6851')}\n",
      "Processing 2101/8776 ... \n",
      "Processing 2201/8776 ... \n",
      "Processing 2301/8776 ... \n",
      "Processing 2401/8776 ... \n",
      "Processing 2501/8776 ... \n",
      "{'Contract_Type': 'type1', 'Identifier': '07-1W3204_5351', 'Error': AttributeError(\"'NoneType' object has no attribute 'group'\")}\n",
      "Processing 2601/8776 ... \n",
      "Processing 2701/8776 ... \n",
      "Processing 2801/8776 ... \n",
      "{'Contract_Type': 'type1', 'Identifier': '02-4F1404_4814', 'Error': ValueError('Contract number 01-0C1304 does not match the identifier 02-4F1404_4814')}\n",
      "Processing 2901/8776 ... \n",
      "Processing 3001/8776 ... \n",
      "Processing 3101/8776 ... \n",
      "Processing 3201/8776 ... \n",
      "Processing 3301/8776 ... \n",
      "Processing 3401/8776 ... \n",
      "Processing 3501/8776 ... \n",
      "{'Contract_Type': 'type1', 'Identifier': '04-2G3614_5158', 'Error': ValueError('Contract number 04-3E3804 does not match the identifier 04-2G3614_5158')}\n",
      "Processing 3601/8776 ... \n",
      "Processing 3701/8776 ... \n",
      "{'Contract_Type': 'type1', 'Identifier': '08-1H3504_10887', 'Error': ValueError('Failed to extract basic info for type1/08-1H3504_10887')}\n",
      "Processing 3801/8776 ... \n",
      "Processing 3901/8776 ... \n",
      "Processing 4001/8776 ... \n",
      "{'Contract_Type': 'type1', 'Identifier': '07-1W3204_5382', 'Error': AttributeError(\"'NoneType' object has no attribute 'group'\")}\n",
      "Processing 4101/8776 ... \n",
      "Processing 4201/8776 ... \n",
      "Processing 4301/8776 ... \n",
      "Processing 4401/8776 ... \n",
      "Processing 4501/8776 ... \n",
      "{'Contract_Type': 'type1', 'Identifier': '04-2640U4_4636', 'Error': ValueError('Contract number 02-4F6404 does not match the identifier 04-2640U4_4636')}\n",
      "Processing 4601/8776 ... \n",
      "Processing 4701/8776 ... \n",
      "Processing 4801/8776 ... \n",
      "Processing 4901/8776 ... \n",
      "{'Contract_Type': 'type1', 'Identifier': '05-1k1404_10709', 'Error': ValueError('Contract number 05-1K1404 does not match the identifier 05-1k1404_10709')}\n",
      "Processing 5001/8776 ... \n",
      "Processing 5101/8776 ... \n",
      "Processing 5201/8776 ... \n",
      "{'Contract_Type': 'type1', 'Identifier': '12-0K0234_11520', 'Error': AssertionError('BAR                                     ARRIER (TYPE 732SW M is not BAR                                     ARRIER (TYPE 732SW')}\n",
      "Processing 5301/8776 ... \n",
      "{'Contract_Type': 'type1', 'Identifier': '06-0G6804_2689', 'Error': ValueError('Failed to extract basic info for type1/06-0G6804_2689')}\n",
      "Processing 5401/8776 ... \n",
      "Processing 5501/8776 ... \n",
      "Processing 5601/8776 ... \n",
      "{'Contract_Type': 'type1', 'Identifier': '08-0Q7904_7799', 'Error': ValueError('Contract number 10-0Y6304 does not match the identifier 08-0Q7904_7799')}\n",
      "Processing 5701/8776 ... \n",
      "{'Contract_Type': 'type1', 'Identifier': '06-0M7604_3553', 'Error': ValueError('Contract number 06-0N1704 does not match the identifier 06-0M7604_3553')}\n",
      "Processing 5801/8776 ... \n",
      "{'Contract_Type': 'type1', 'Identifier': '03-3E1104_6153', 'Error': ValueError('Failed to extract basic info for type1/03-3E1104_6153')}\n",
      "Processing 5901/8776 ... \n",
      "Processing 6001/8776 ... \n",
      "Processing 6101/8776 ... \n",
      "{'Contract_Type': 'type1', 'Identifier': '03-4F4004_8308', 'Error': ValueError('Contract number 03-4F4404 does not match the identifier 03-4F4004_8308')}\n",
      "Processing 6201/8776 ... \n",
      "Processing 6301/8776 ... \n",
      "Processing 6401/8776 ... \n",
      "Processing 6501/8776 ... \n",
      "{'Contract_Type': 'type1', 'Identifier': '06-0Q7704_5605', 'Error': ValueError('Contract number 09-358504 does not match the identifier 06-0Q7704_5605')}\n",
      "Processing 6601/8776 ... \n",
      "Processing 6701/8776 ... \n",
      "Processing 6801/8776 ... \n",
      "{'Contract_Type': 'type1', 'Identifier': '07-0W0404_12652', 'Error': ValueError('Second line is not in the standard format (notes, extra name, CLBS number, line: ``')}\n",
      "Processing 6901/8776 ... \n",
      "Processing 7001/8776 ... \n",
      "Processing 7101/8776 ... \n",
      "Processing 7201/8776 ... \n",
      "{'Contract_Type': 'type1', 'Identifier': '05-0R1904_5279', 'Error': ValueError('Contract number 05-0R9104 does not match the identifier 05-0R1904_5279')}\n",
      "Processing 7301/8776 ... \n",
      "{'Contract_Type': 'type1', 'Identifier': '03-2H8004_12271', 'Error': ValueError('Contract number 03-2H5004 does not match the identifier 03-2H8004_12271')}\n",
      "Processing 7401/8776 ... \n",
      "Processing 7501/8776 ... \n",
      "Processing 7601/8776 ... \n",
      "{'Contract_Type': 'type1', 'Identifier': '05-0T4004_2774', 'Error': ValueError('Failed to extract basic info for type1/05-0T4004_2774')}\n",
      "Processing 7701/8776 ... \n",
      "{'Contract_Type': 'type1', 'Identifier': '12-0R2704_10602', 'Error': AssertionError(' is not 3531')}\n",
      "Processing 7801/8776 ... \n",
      "Processing 7901/8776 ... \n",
      "{'Contract_Type': 'type1', 'Identifier': '07-4Y3304_2578', 'Error': ValueError('Failed to extract basic info for type1/07-4Y3304_2578')}\n",
      "Processing 8001/8776 ... \n",
      "Processing 8101/8776 ... \n",
      "Processing 8201/8776 ... \n",
      "Processing 8301/8776 ... \n",
      "{'Contract_Type': 'type1', 'Identifier': '10-1f2704_9089', 'Error': ValueError('Contract number 10-1F2704 does not match the identifier 10-1f2704_9089')}\n",
      "Processing 8401/8776 ... \n",
      "Processing 8501/8776 ... \n",
      "Processing 8601/8776 ... \n",
      "Processing 8701/8776 ... \n",
      "Done processing 8776 files.\n",
      "Writing to disk ...\n",
      "Saved data to: results/04-01-2024-14:07:34:_8776_contracts_type1.\n"
     ]
    }
   ],
   "source": [
    "filepaths = get_contract_filepaths(contract_type=ContractType.TYPE1)\n",
    "ex = Experiment(filepaths)\n",
    "ex.run()"
   ]
  },
  {
   "cell_type": "code",
   "execution_count": 12,
   "metadata": {},
   "outputs": [
    {
     "name": "stdout",
     "output_type": "stream",
     "text": [
      "Processing 1/168 ... \n",
      "{'Contract_Type': 'type2', 'Identifier': '09-237704_3534', 'Error': ValueError('Failed to extract basic info for type2/09-237704_3534')}\n",
      "{'Contract_Type': 'type2', 'Identifier': '07-338704_13022', 'Error': ValueError('Contract number 07-388704 does not match the identifier 07-338704_13022')}\n",
      "{'Contract_Type': 'type2', 'Identifier': '02-1J1704_12603', 'Error': ValueError('Contract number 02-2J1704 does not match the identifier 02-1J1704_12603')}\n",
      "{'Contract_Type': 'type2', 'Identifier': '02-1J1704_12748', 'Error': ValueError('Contract number 02-2J1704 does not match the identifier 02-1J1704_12748')}\n",
      "{'Contract_Type': 'type2', 'Identifier': '09-347804_3555', 'Error': ValueError('Failed to extract basic info for type2/09-347804_3555')}\n",
      "Processing 101/168 ... \n",
      "{'Contract_Type': 'type2', 'Identifier': '02-0H8004_10657', 'Error': ValueError('Failed to extract basic info for type2/02-0H8004_10657')}\n",
      "{'Contract_Type': 'type2', 'Identifier': '12-0N0404_7827', 'Error': ValueError('Failed to extract basic info for type2/12-0N0404_7827')}\n",
      "{'Contract_Type': 'type2', 'Identifier': '02-1J1704_12779', 'Error': ValueError('Contract number 02-2J1704 does not match the identifier 02-1J1704_12779')}\n",
      "{'Contract_Type': 'type2', 'Identifier': '12-0R1904_12906', 'Error': ValueError('Contract number 12-0R1901 does not match the identifier 12-0R1904_12906')}\n",
      "Done processing 168 files.\n",
      "Writing to disk ...\n",
      "Saved data to: results/04-01-2024-14:19:29:_168_contracts_type2.\n"
     ]
    }
   ],
   "source": [
    "filepaths = get_contract_filepaths(contract_type=ContractType.TYPE2)\n",
    "ex = Experiment(filepaths)\n",
    "ex.run()"
   ]
  },
  {
   "cell_type": "code",
   "execution_count": 13,
   "metadata": {},
   "outputs": [
    {
     "name": "stdout",
     "output_type": "stream",
     "text": [
      "Processing 1/75 ... \n",
      "Done processing 75 files.\n",
      "Writing to disk ...\n",
      "Saved data to: results/04-01-2024-14:19:34:_75_contracts_type3.\n"
     ]
    }
   ],
   "source": [
    "filepaths = get_contract_filepaths(contract_type=ContractType.TYPE3)\n",
    "ex = Experiment(filepaths)\n",
    "ex.run()"
   ]
  },
  {
   "cell_type": "code",
   "execution_count": 14,
   "metadata": {},
   "outputs": [],
   "source": [
    "# some known error to exclude:\n",
    "# exclude_type1 = ['12-0K0234_11520', '12-0R2704_10602', '06-0L8404_3005', '07-0W0404_12652', '07-338004_11638']\n",
    "# exclude_type2 = ['09-237704_3534']\n",
    "# exclude = exclude_type1 + exclude_type2\n",
    "# filepaths = [x for x in filepaths if x.stem not in exclude]\n",
    "# len(filepaths)"
   ]
  }
 ],
 "metadata": {
  "kernelspec": {
   "display_name": "ocr",
   "language": "python",
   "name": "python3"
  },
  "language_info": {
   "codemirror_mode": {
    "name": "ipython",
    "version": 3
   },
   "file_extension": ".py",
   "mimetype": "text/x-python",
   "name": "python",
   "nbconvert_exporter": "python",
   "pygments_lexer": "ipython3",
   "version": "3.11.4"
  }
 },
 "nbformat": 4,
 "nbformat_minor": 4
}
