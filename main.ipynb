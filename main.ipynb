{
 "cells": [
  {
   "cell_type": "markdown",
   "metadata": {},
   "source": [
    "# Caltrans Data Extraction"
   ]
  },
  {
   "cell_type": "markdown",
   "metadata": {},
   "source": [
    "The goal of this project is to extract relevant data from text files, previously converted from PDF files. Since the text files are quite structured, the decision is to use regex to do this."
   ]
  },
  {
   "cell_type": "markdown",
   "metadata": {},
   "source": [
    "## Setup\n",
    "\n",
    "Install the following packages if you don't have them yet:"
   ]
  },
  {
   "cell_type": "code",
   "execution_count": 2,
   "metadata": {},
   "outputs": [],
   "source": [
    "try:\n",
    "    import google.colab\n",
    "    IS_COLAB = True\n",
    "except ModuleNotFoundError:\n",
    "    IS_COLAB = False\n",
    "\n",
    "from pathlib import Path\n",
    "\n",
    "\n",
    "if IS_COLAB: \n",
    "    if Path('data').exists():\n",
    "        response = input(\"Do you want to proceed? yes or [no]: \").lower().strip()\n",
    "        if response == \"yes\":\n",
    "            # # to wipe out fresh start:\n",
    "            # !rm -rf ./*\n",
    "\n",
    "            # First get GitHub code:\n",
    "            !wget https://github.com/nesaboz/caltrans_data_extraction/archive/refs/heads/main.zip\n",
    "            # unzip it\n",
    "            !unzip main.zip\n",
    "            # copy all the files to root\n",
    "            !mv ./caltrans_data_extraction-main/* .\n",
    "            # delete the empty folder\n",
    "            !rm -r caltrans_data_extraction-main\n",
    "\n",
    "            # now get all the data (should take under 30 seconds):\n",
    "            !gdown '1y-ufhK56J3h994I5HKiarcFzbCkB6h_h'\n",
    "            !unzip data.zip -d data\n",
    "\n",
    "            # delete the zip files and main.ipynb since it's confusing to have it here:\n",
    "            !rm main.zip\n",
    "            !rm data.zip\n",
    "            !rm main.ipynb\n",
    "\n",
    "            # install libraries:\n",
    "            !pip install pandas==2.2.1 numpy==1.26.4 tqdm==4.66.2 openpyxl==3.1.2 pytest==8.1.1 pyperclip==1.8.2\n"
   ]
  },
  {
   "cell_type": "code",
   "execution_count": 3,
   "metadata": {},
   "outputs": [],
   "source": [
    "from experiment import *\n",
    "\n",
    "import pyperclip\n",
    "\n",
    "%reload_ext autoreload\n",
    "%autoreload 2\n",
    "\n",
    "# Note: to print DataFrame fully use:\n",
    "# pd.set_option('display.max_rows', None)  # to set globally, or use: \n",
    "# with pd.option_context('display.max_rows', None, \n",
    "#                        'display.max_columns', None, \n",
    "#                        'display.width', None, \n",
    "#                        'display.max_colwidth', None):\n",
    "#   display(df)"
   ]
  },
  {
   "cell_type": "markdown",
   "metadata": {},
   "source": [
    "## Classify contracts into types\n",
    "\n",
    "There are 2 main types of contract:"
   ]
  },
  {
   "cell_type": "code",
   "execution_count": null,
   "metadata": {},
   "outputs": [],
   "source": [
    "# check_lineprinter_table_files()\n",
    "\n",
    "# filepaths_lineprinter = list(RAW_DATA_PATH_LINEPRINTER.glob('*.txt'))\n",
    "# filepaths_doc = list(RAW_DATA_PATH_DOC.glob('*.txt'))\n",
    "\n",
    "# sort_contracts(filepaths_lineprinter + filepaths_doc, PROCESSED_DATA_PATH)"
   ]
  },
  {
   "cell_type": "code",
   "execution_count": null,
   "metadata": {},
   "outputs": [],
   "source": [
    "contract_types, _ = get_contract_types()\n",
    "contract_types"
   ]
  },
  {
   "cell_type": "markdown",
   "metadata": {},
   "source": [
    "## Single Contract Analysis\n",
    "\n",
    "Let's look at the single contract:"
   ]
  },
  {
   "cell_type": "code",
   "execution_count": null,
   "metadata": {},
   "outputs": [],
   "source": [
    "c = Contract('t2_12752')\n",
    "# c = Contract('t1_2774')"
   ]
  },
  {
   "cell_type": "markdown",
   "metadata": {},
   "source": [
    "To copy file contents to clipboard:"
   ]
  },
  {
   "cell_type": "code",
   "execution_count": null,
   "metadata": {},
   "outputs": [],
   "source": [
    "pyperclip.copy(c.file_contents)"
   ]
  },
  {
   "cell_type": "markdown",
   "metadata": {},
   "source": [
    "There are four attributes of the contract that gets extracted: `info`, `bids`, `subcontractors`, and `items`, for example:"
   ]
  },
  {
   "cell_type": "code",
   "execution_count": null,
   "metadata": {},
   "outputs": [],
   "source": [
    "c.extract()"
   ]
  },
  {
   "cell_type": "code",
   "execution_count": null,
   "metadata": {},
   "outputs": [],
   "source": [
    "c.bids.df"
   ]
  },
  {
   "cell_type": "markdown",
   "metadata": {},
   "source": [
    "# Process single contract"
   ]
  },
  {
   "cell_type": "code",
   "execution_count": null,
   "metadata": {},
   "outputs": [],
   "source": [
    "ex = Experiment('t1_2652')\n",
    "ex.run()"
   ]
  },
  {
   "cell_type": "markdown",
   "metadata": {},
   "source": [
    "# Process several contract"
   ]
  },
  {
   "cell_type": "markdown",
   "metadata": {},
   "source": [
    "We now run extraction on a small sample of contracts:"
   ]
  },
  {
   "cell_type": "code",
   "execution_count": null,
   "metadata": {},
   "outputs": [],
   "source": [
    "filepaths = get_contract_filepaths(contract_type=1, num_contracts=5, seed=45)\n",
    "ex = Experiment(filepaths)\n",
    "ex.run()"
   ]
  },
  {
   "cell_type": "markdown",
   "metadata": {},
   "source": [
    "# Process all contracts"
   ]
  },
  {
   "cell_type": "markdown",
   "metadata": {},
   "source": [
    "Let's first analyze type 2 since it's fast:"
   ]
  },
  {
   "cell_type": "code",
   "execution_count": null,
   "metadata": {},
   "outputs": [],
   "source": [
    "filepaths = get_contract_filepaths(contract_type=2)\n",
    "ex = Experiment(filepaths)\n",
    "ex.run()"
   ]
  },
  {
   "cell_type": "markdown",
   "metadata": {},
   "source": [
    "And now type1 (have to split into 2 batches due to memory constraints, get error on sheet size in excel if running one batch):"
   ]
  },
  {
   "cell_type": "code",
   "execution_count": null,
   "metadata": {},
   "outputs": [],
   "source": [
    "filepaths = get_contract_filepaths(contract_type=1)"
   ]
  },
  {
   "cell_type": "code",
   "execution_count": null,
   "metadata": {},
   "outputs": [],
   "source": [
    "ex1 = Experiment(filepaths[:10000])\n",
    "ex1.run()"
   ]
  },
  {
   "cell_type": "code",
   "execution_count": null,
   "metadata": {},
   "outputs": [],
   "source": [
    "ex1.write_to_disk()"
   ]
  },
  {
   "cell_type": "code",
   "execution_count": null,
   "metadata": {},
   "outputs": [],
   "source": [
    "ex2 = Experiment(filepaths[10000:])\n",
    "ex2.run()"
   ]
  }
 ],
 "metadata": {
  "kernelspec": {
   "display_name": "ocr",
   "language": "python",
   "name": "python3"
  },
  "language_info": {
   "codemirror_mode": {
    "name": "ipython",
    "version": 3
   },
   "file_extension": ".py",
   "mimetype": "text/x-python",
   "name": "python",
   "nbconvert_exporter": "python",
   "pygments_lexer": "ipython3",
   "version": "3.11.4"
  }
 },
 "nbformat": 4,
 "nbformat_minor": 4
}
