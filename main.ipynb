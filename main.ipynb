{
 "cells": [
  {
   "cell_type": "markdown",
   "metadata": {},
   "source": [
    "# Caltrans Data Extraction"
   ]
  },
  {
   "cell_type": "markdown",
   "metadata": {},
   "source": [
    "The goal of this project is to extract relevant data from text files, previously converted from PDF files. Since the text files are quite structured, the decision is to use regex to do this."
   ]
  },
  {
   "cell_type": "markdown",
   "metadata": {},
   "source": [
    "## Setup\n",
    "\n",
    "Install the following packages if you don't have them yet:"
   ]
  },
  {
   "cell_type": "code",
   "execution_count": 1,
   "metadata": {},
   "outputs": [],
   "source": [
    "# pip install pandas numpy tqdm ipykernel notebook python-dotenv openpyxl"
   ]
  },
  {
   "cell_type": "code",
   "execution_count": 8,
   "metadata": {},
   "outputs": [],
   "source": [
    "from experiment import *\n",
    "\n",
    "import pyperclip\n",
    "\n",
    "%reload_ext autoreload\n",
    "%autoreload 2\n",
    "\n",
    "# Note: to print DataFrame fully use:\n",
    "# pd.set_option('display.max_rows', None)  # to set globally, or use: \n",
    "# with pd.option_context('display.max_rows', None, \n",
    "#                        'display.max_columns', None, \n",
    "#                        'display.width', None, \n",
    "#                        'display.max_colwidth', None):\n",
    "#   display(df)"
   ]
  },
  {
   "cell_type": "markdown",
   "metadata": {},
   "source": [
    "## Rename the mislabeled contracts\n",
    "\n",
    "There are some files that were mistakenly labeled, so here we rename them:"
   ]
  },
  {
   "cell_type": "code",
   "execution_count": null,
   "metadata": {},
   "outputs": [],
   "source": [
    "d = {'07-0W0404..pdf_12652.txt': '07-0W0404.pdf_12652.txt',\n",
    "     '110427R0.pdf_3052.txt': '01-0A0804.pdf_3052.txt',\n",
    "     '110427R0.pdf_2981.txt': '01-0A0804.pdf_2981.txt',\n",
    "     '120712R0.pdf_4254.txt': '11-270804.pdf_4254.txt',\n",
    "     '08-1N0304..pdf_12819.txt': '08-1N0304.pdf_12819.txt',\n",
    "     '120928R0.pdf_4565.txt': '04-4S1204.pdf_4565.txt',\n",
    "     '121016R0.pdf_4699.txt': '04-4S0304.pdf_4699.txt',\n",
    "     '130220R0.pdf_4863.txt': '03-3E6204.pdf_4863.txt',\n",
    "     '120717R0.pdf_4252.txt': '05-1A9704.pdf_4252.txt',\n",
    "     '08-1G2804..pdf_12877.txt': '08-1G2804.pdf_12877.txt'\n",
    "}\n",
    "\n",
    "for key, value in d.items():\n",
    "    try:\n",
    "        path1 = RAW_DATA_PATH_LINEPRINTER / key\n",
    "        path2 = RAW_DATA_PATH_LINEPRINTER / value\n",
    "        path1.rename(path2)\n",
    "\n",
    "        path1 = RAW_DATA_PATH_TABLE / key\n",
    "        path2 = RAW_DATA_PATH_TABLE / value\n",
    "        path1.rename(path2)\n",
    "    except FileNotFoundError:\n",
    "        print(f'File not found: {key}')\n",
    "        continue\n"
   ]
  },
  {
   "cell_type": "markdown",
   "metadata": {},
   "source": [
    "## Classify contracts into types\n",
    "\n",
    "There are 3 main types of contract (type 3 is merged contracts that need to be parsed first):"
   ]
  },
  {
   "cell_type": "code",
   "execution_count": null,
   "metadata": {},
   "outputs": [],
   "source": [
    "# sort_contracts()"
   ]
  },
  {
   "cell_type": "code",
   "execution_count": null,
   "metadata": {},
   "outputs": [],
   "source": [
    "contract_types, _ = get_contract_types()\n",
    "contract_types"
   ]
  },
  {
   "cell_type": "markdown",
   "metadata": {},
   "source": [
    "## Single Contract Analysis\n",
    "\n",
    "Let's look at the single contract:"
   ]
  },
  {
   "cell_type": "code",
   "execution_count": null,
   "metadata": {},
   "outputs": [],
   "source": [
    "c = Contract('04-290834_619')"
   ]
  },
  {
   "cell_type": "markdown",
   "metadata": {},
   "source": [
    "To copy file contents to clipboard:"
   ]
  },
  {
   "cell_type": "code",
   "execution_count": null,
   "metadata": {},
   "outputs": [],
   "source": [
    "# pyperclip.copy(c.file_contents)"
   ]
  },
  {
   "cell_type": "markdown",
   "metadata": {},
   "source": [
    "Now we extract:"
   ]
  },
  {
   "cell_type": "code",
   "execution_count": null,
   "metadata": {},
   "outputs": [],
   "source": [
    "c.extract()"
   ]
  },
  {
   "cell_type": "markdown",
   "metadata": {},
   "source": [
    "There are four attributes of the contract that gets extracted: info, bids, subcontractors, and items:"
   ]
  },
  {
   "cell_type": "code",
   "execution_count": null,
   "metadata": {},
   "outputs": [],
   "source": [
    "c.items.df"
   ]
  },
  {
   "cell_type": "markdown",
   "metadata": {},
   "source": [
    "We can also write all the information into excel file:"
   ]
  },
  {
   "cell_type": "code",
   "execution_count": null,
   "metadata": {},
   "outputs": [],
   "source": [
    "c.write_to_disk()"
   ]
  },
  {
   "cell_type": "code",
   "execution_count": null,
   "metadata": {},
   "outputs": [],
   "source": [
    "# filepath = RAW_DATA_PATH.parent / 'sample' / '01-0A3804.pdf_2724.txt'\n",
    "# filepath = RAW_DATA_PATH_LINEPRINTER / '01-0A3804.pdf_4353.txt'\n",
    "# filepath = RAW_DATA_PATH_LINEPRINTER / '01-0A0904.pdf_2724.txt'\n",
    "# filepath = RAW_DATA_PATH_LINEPRINTER / '01-0A1204.pdf_11468.txt'\n",
    "# filepath = RAW_DATA_PATH_LINEPRINTER / '01-0F4304.pdf_12346.txt'  # issue # 11\n",
    "# filepath = RAW_DATA_PATH_LINEPRINTER / '01-0K6104.pdf_12731.txt'  # issue # 9\n",
    "# filepath = RAW_DATA_PATH_LINEPRINTER / '01-0K4604.pdf_12040.txt'  # issue # 1\n",
    "# filename = '01-0H3204.pdf_9871.txt'  # issue # 5\n",
    "# filepath = RAW_DATA_PATH_LINEPRINTER / '01-0A0404.pdf_10165.txt'  # different format\n",
    "# filepath = RAW_DATA_PATH_LINEPRINTER / '04-4G6404.pdf_7310.txt'\n"
   ]
  },
  {
   "cell_type": "markdown",
   "metadata": {},
   "source": [
    "# Several contract analysis"
   ]
  },
  {
   "cell_type": "markdown",
   "metadata": {},
   "source": [
    "We now run extraction on a small sample of contracts:"
   ]
  },
  {
   "cell_type": "code",
   "execution_count": null,
   "metadata": {},
   "outputs": [],
   "source": [
    "df_contract_types, _ = get_contract_types()\n",
    "df_contract_types"
   ]
  },
  {
   "cell_type": "code",
   "execution_count": null,
   "metadata": {},
   "outputs": [],
   "source": [
    "filepaths = get_contract_filepaths()\n",
    "ex = Experiment(filepaths, tag='5')\n",
    "ex.run()"
   ]
  },
  {
   "cell_type": "markdown",
   "metadata": {},
   "source": [
    "# Process all contracts"
   ]
  },
  {
   "cell_type": "code",
   "execution_count": null,
   "metadata": {},
   "outputs": [],
   "source": [
    "filepaths = get_contract_filepaths(contract_type=ContractType.TYPE1)"
   ]
  },
  {
   "cell_type": "code",
   "execution_count": 27,
   "metadata": {},
   "outputs": [],
   "source": [
    "filepaths = get_contract_filepaths(contract_type=ContractType.TYPE2)"
   ]
  },
  {
   "cell_type": "code",
   "execution_count": 29,
   "metadata": {},
   "outputs": [],
   "source": [
    "filepaths = get_contract_filepaths(contract_type=ContractType.TYPE3)"
   ]
  },
  {
   "cell_type": "markdown",
   "metadata": {},
   "source": [
    "Let's exclude some known errors:"
   ]
  },
  {
   "cell_type": "code",
   "execution_count": null,
   "metadata": {},
   "outputs": [],
   "source": [
    "exclude_type1 = ['12-0K0234_11520', '12-0R2704_10602', '06-0L8404_3005', '07-0W0404_12652', '07-338004_11638']\n",
    "exclude_type2 = ['09-237704_3534']\n",
    "exclude = exclude_type1 + exclude_type2\n",
    "filepaths = [x for x in filepaths if x.stem not in exclude]\n",
    "len(filepaths)"
   ]
  },
  {
   "cell_type": "code",
   "execution_count": 31,
   "metadata": {},
   "outputs": [],
   "source": [
    "c  = Contract('type3/03-2F5704_11589')\n",
    "pyperclip.copy(c.file_contents)\n"
   ]
  },
  {
   "cell_type": "code",
   "execution_count": null,
   "metadata": {},
   "outputs": [],
   "source": [
    "c.info.extract()"
   ]
  },
  {
   "cell_type": "code",
   "execution_count": null,
   "metadata": {},
   "outputs": [],
   "source": [
    "ex = Experiment('type3/03-2F5704_11589')\n",
    "ex.run()"
   ]
  },
  {
   "cell_type": "code",
   "execution_count": 30,
   "metadata": {},
   "outputs": [
    {
     "name": "stdout",
     "output_type": "stream",
     "text": [
      "Processing 1/75 ... \n",
      "{'Contract_Type': 'type3', 'Identifier': '03-2F5704_11589', 'Error': ValueError('Failed to extract basic info for type3/03-2F5704_11589')}\n",
      "{'Contract_Type': 'type3', 'Identifier': '06-0T0304_11589', 'Error': ValueError('Failed to extract basic info for type3/06-0T0304_11589')}\n",
      "{'Contract_Type': 'type3', 'Identifier': '08-1E6104_10198', 'Error': ValueError('Failed to extract basic info for type3/08-1E6104_10198')}\n",
      "{'Contract_Type': 'type3', 'Identifier': '10-0X56Y4_10198', 'Error': ValueError('Failed to extract basic info for type3/10-0X56Y4_10198')}\n",
      "{'Contract_Type': 'type3', 'Identifier': '02-4G5304_11641', 'Error': ValueError('Failed to extract basic info for type3/02-4G5304_11641')}\n",
      "{'Contract_Type': 'type3', 'Identifier': '08-0G8004_11641', 'Error': ValueError('Failed to extract basic info for type3/08-0G8004_11641')}\n",
      "{'Contract_Type': 'type3', 'Identifier': '02-4H6704_12618', 'Error': ValueError('Failed to extract basic info for type3/02-4H6704_12618')}\n",
      "{'Contract_Type': 'type3', 'Identifier': '03-0H6704_12618', 'Error': ValueError('Failed to extract basic info for type3/03-0H6704_12618')}\n",
      "{'Contract_Type': 'type3', 'Identifier': '03-2H6504_10006', 'Error': ValueError('Failed to extract basic info for type3/03-2H6504_10006')}\n",
      "{'Contract_Type': 'type3', 'Identifier': '05-0C6414_10006', 'Error': ValueError('Failed to extract basic info for type3/05-0C6414_10006')}\n",
      "{'Contract_Type': 'type3', 'Identifier': '01-0E0904_12480', 'Error': ValueError('Failed to extract basic info for type3/01-0E0904_12480')}\n",
      "{'Contract_Type': 'type3', 'Identifier': '01-0F9204_12480', 'Error': ValueError('Failed to extract basic info for type3/01-0F9204_12480')}\n",
      "{'Contract_Type': 'type3', 'Identifier': '02-4E46U4_11363', 'Error': ValueError('Failed to extract basic info for type3/02-4E46U4_11363')}\n",
      "{'Contract_Type': 'type3', 'Identifier': '02-4H1304_11363', 'Error': ValueError('Failed to extract basic info for type3/02-4H1304_11363')}\n",
      "{'Contract_Type': 'type3', 'Identifier': '08-1J9804_10581', 'Error': ValueError('Failed to extract basic info for type3/08-1J9804_10581')}\n",
      "{'Contract_Type': 'type3', 'Identifier': '11-2N0214_10581', 'Error': ValueError('Failed to extract basic info for type3/11-2N0214_10581')}\n",
      "{'Contract_Type': 'type3', 'Identifier': '04-3K3104_11931', 'Error': ValueError('Failed to extract basic info for type3/04-3K3104_11931')}\n",
      "{'Contract_Type': 'type3', 'Identifier': '06-1A9304_11931', 'Error': ValueError('Failed to extract basic info for type3/06-1A9304_11931')}\n",
      "{'Contract_Type': 'type3', 'Identifier': '08-0R1304_8035', 'Error': ValueError('Failed to extract basic info for type3/08-0R1304_8035')}\n",
      "{'Contract_Type': 'type3', 'Identifier': '12-0N5904_8035', 'Error': ValueError('Failed to extract basic info for type3/12-0N5904_8035')}\n",
      "{'Contract_Type': 'type3', 'Identifier': '07-327604_12348', 'Error': ValueError('Failed to extract basic info for type3/07-327604_12348')}\n",
      "{'Contract_Type': 'type3', 'Identifier': '08-0R9804_12348', 'Error': ValueError('Failed to extract basic info for type3/08-0R9804_12348')}\n",
      "{'Contract_Type': 'type3', 'Identifier': '02-4G7304_6812', 'Error': ValueError('Failed to extract basic info for type3/02-4G7304_6812')}\n",
      "{'Contract_Type': 'type3', 'Identifier': '04-1J2604_6812', 'Error': ValueError('Failed to extract basic info for type3/04-1J2604_6812')}\n",
      "{'Contract_Type': 'type3', 'Identifier': '04-0A7104_5560', 'Error': ValueError('Failed to extract basic info for type3/04-0A7104_5560')}\n",
      "{'Contract_Type': 'type3', 'Identifier': '04-3E2104_5560', 'Error': ValueError('Failed to extract basic info for type3/04-3E2104_5560')}\n",
      "{'Contract_Type': 'type3', 'Identifier': '04-0G6414_8076', 'Error': ValueError('Failed to extract basic info for type3/04-0G6414_8076')}\n",
      "{'Contract_Type': 'type3', 'Identifier': '06-0N9904_8076', 'Error': ValueError('Failed to extract basic info for type3/06-0N9904_8076')}\n",
      "{'Contract_Type': 'type3', 'Identifier': '04-0Q4504_12803', 'Error': ValueError('Failed to extract basic info for type3/04-0Q4504_12803')}\n",
      "{'Contract_Type': 'type3', 'Identifier': '12-0S1004_12803', 'Error': ValueError('Failed to extract basic info for type3/12-0S1004_12803')}\n",
      "{'Contract_Type': 'type3', 'Identifier': '04-0G6414_8065', 'Error': ValueError('Failed to extract basic info for type3/04-0G6414_8065')}\n",
      "{'Contract_Type': 'type3', 'Identifier': '06-0N9904_8065', 'Error': ValueError('Failed to extract basic info for type3/06-0N9904_8065')}\n",
      "{'Contract_Type': 'type3', 'Identifier': '04-2640U4_4639', 'Error': ValueError('Failed to extract basic info for type3/04-2640U4_4639')}\n",
      "{'Contract_Type': 'type3', 'Identifier': '04-2908V4_4639', 'Error': ValueError('Failed to extract basic info for type3/04-2908V4_4639')}\n",
      "{'Contract_Type': 'type3', 'Identifier': '04-4S5304_4639', 'Error': ValueError('Failed to extract basic info for type3/04-4S5304_4639')}\n",
      "{'Contract_Type': 'type3', 'Identifier': '04-0J3004_12769', 'Error': ValueError('Failed to extract basic info for type3/04-0J3004_12769')}\n",
      "{'Contract_Type': 'type3', 'Identifier': '07-353304_12769', 'Error': ValueError('Failed to extract basic info for type3/07-353304_12769')}\n",
      "{'Contract_Type': 'type3', 'Identifier': '08-1E1104_12769', 'Error': ValueError('Failed to extract basic info for type3/08-1E1104_12769')}\n",
      "{'Contract_Type': 'type3', 'Identifier': '08-1M8604_12769', 'Error': ValueError('Failed to extract basic info for type3/08-1M8604_12769')}\n",
      "{'Contract_Type': 'type3', 'Identifier': '04-2E1604_3552', 'Error': ValueError('Failed to extract basic info for type3/04-2E1604_3552')}\n",
      "{'Contract_Type': 'type3', 'Identifier': '06-0M7604_3552', 'Error': ValueError('Failed to extract basic info for type3/06-0M7604_3552')}\n",
      "{'Contract_Type': 'type3', 'Identifier': '03-3F5404_11188', 'Error': ValueError('Failed to extract basic info for type3/03-3F5404_11188')}\n",
      "{'Contract_Type': 'type3', 'Identifier': '03-4F3704_11188', 'Error': ValueError('Failed to extract basic info for type3/03-4F3704_11188')}\n",
      "{'Contract_Type': 'type3', 'Identifier': '03-2H62U4_12374', 'Error': ValueError('Failed to extract basic info for type3/03-2H62U4_12374')}\n",
      "{'Contract_Type': 'type3', 'Identifier': '04-0AA444_12374', 'Error': ValueError('Failed to extract basic info for type3/04-0AA444_12374')}\n",
      "{'Contract_Type': 'type3', 'Identifier': '04-1J3504_7878', 'Error': ValueError('Failed to extract basic info for type3/04-1J3504_7878')}\n",
      "{'Contract_Type': 'type3', 'Identifier': '05-1F3404_7878', 'Error': ValueError('Failed to extract basic info for type3/05-1F3404_7878')}\n",
      "{'Contract_Type': 'type3', 'Identifier': '10-0M8004_3456', 'Error': ValueError('Failed to extract basic info for type3/10-0M8004_3456')}\n",
      "{'Contract_Type': 'type3', 'Identifier': '02-3E9004_3456', 'Error': ValueError('Failed to extract basic info for type3/02-3E9004_3456')}\n",
      "{'Contract_Type': 'type3', 'Identifier': '07-301804_10994', 'Error': ValueError('Failed to extract basic info for type3/07-301804_10994')}\n",
      "{'Contract_Type': 'type3', 'Identifier': '10-1C8804_10994', 'Error': ValueError('Failed to extract basic info for type3/10-1C8804_10994')}\n",
      "{'Contract_Type': 'type3', 'Identifier': '10-1G7224_10994', 'Error': ValueError('Failed to extract basic info for type3/10-1G7224_10994')}\n",
      "{'Contract_Type': 'type3', 'Identifier': '01-0F8404_11624', 'Error': ValueError('Failed to extract basic info for type3/01-0F8404_11624')}\n",
      "{'Contract_Type': 'type3', 'Identifier': '05-1H0604_11624', 'Error': ValueError('Failed to extract basic info for type3/05-1H0604_11624')}\n",
      "{'Contract_Type': 'type3', 'Identifier': '10-1C2804_11624', 'Error': ValueError('Failed to extract basic info for type3/10-1C2804_11624')}\n",
      "{'Contract_Type': 'type3', 'Identifier': '06-0U2304_11353', 'Error': ValueError('Failed to extract basic info for type3/06-0U2304_11353')}\n",
      "{'Contract_Type': 'type3', 'Identifier': '06-0Y0504_11353', 'Error': ValueError('Failed to extract basic info for type3/06-0Y0504_11353')}\n",
      "{'Contract_Type': 'type3', 'Identifier': '07-338004_11638', 'Error': ValueError('Failed to extract basic info for type3/07-338004_11638')}\n",
      "{'Contract_Type': 'type3', 'Identifier': '01-0G4304_11638', 'Error': ValueError('Failed to extract basic info for type3/01-0G4304_11638')}\n",
      "{'Contract_Type': 'type3', 'Identifier': '05-1G9904_11638', 'Error': ValueError('Failed to extract basic info for type3/05-1G9904_11638')}\n",
      "{'Contract_Type': 'type3', 'Identifier': '05-1H0604_11638', 'Error': ValueError('Failed to extract basic info for type3/05-1H0604_11638')}\n",
      "{'Contract_Type': 'type3', 'Identifier': '07-301804_11195', 'Error': ValueError('Failed to extract basic info for type3/07-301804_11195')}\n",
      "{'Contract_Type': 'type3', 'Identifier': '10-1C8804_11195', 'Error': ValueError('Failed to extract basic info for type3/10-1C8804_11195')}\n",
      "{'Contract_Type': 'type3', 'Identifier': '10-1G7224_11195', 'Error': ValueError('Failed to extract basic info for type3/10-1G7224_11195')}\n",
      "{'Contract_Type': 'type3', 'Identifier': '03-2F5704_11650', 'Error': ValueError('Failed to extract basic info for type3/03-2F5704_11650')}\n",
      "{'Contract_Type': 'type3', 'Identifier': '04-1A6614_11650', 'Error': ValueError('Failed to extract basic info for type3/04-1A6614_11650')}\n",
      "{'Contract_Type': 'type3', 'Identifier': '07-1W3104_5186', 'Error': ValueError('Failed to extract basic info for type3/07-1W3104_5186')}\n",
      "{'Contract_Type': 'type3', 'Identifier': '07-4T5404_5186', 'Error': ValueError('Failed to extract basic info for type3/07-4T5404_5186')}\n",
      "{'Contract_Type': 'type3', 'Identifier': '06-0U1704_11580', 'Error': ValueError('Failed to extract basic info for type3/06-0U1704_11580')}\n",
      "{'Contract_Type': 'type3', 'Identifier': '10-1C9704_11580', 'Error': ValueError('Failed to extract basic info for type3/10-1C9704_11580')}\n",
      "{'Contract_Type': 'type3', 'Identifier': '06-0U2404_11281', 'Error': ValueError('Failed to extract basic info for type3/06-0U2404_11281')}\n",
      "{'Contract_Type': 'type3', 'Identifier': '10-1J1604_11281', 'Error': ValueError('Failed to extract basic info for type3/10-1J1604_11281')}\n",
      "{'Contract_Type': 'type3', 'Identifier': '12-0R9004_11281', 'Error': ValueError('Failed to extract basic info for type3/12-0R9004_11281')}\n",
      "{'Contract_Type': 'type3', 'Identifier': '07-302604_8008', 'Error': ValueError('Failed to extract basic info for type3/07-302604_8008')}\n",
      "{'Contract_Type': 'type3', 'Identifier': '09-362104_8008', 'Error': ValueError('Failed to extract basic info for type3/09-362104_8008')}\n",
      "Done processing 75 files.\n",
      "Writing to disk ...\n",
      "Saved data to: results/03-29-2024-15:22:46:_75_contracts_type3.\n"
     ]
    }
   ],
   "source": [
    "ex = Experiment(filepaths)\n",
    "ex.run()"
   ]
  },
  {
   "cell_type": "code",
   "execution_count": null,
   "metadata": {},
   "outputs": [],
   "source": []
  }
 ],
 "metadata": {
  "kernelspec": {
   "display_name": "ocr",
   "language": "python",
   "name": "python3"
  },
  "language_info": {
   "codemirror_mode": {
    "name": "ipython",
    "version": 3
   },
   "file_extension": ".py",
   "mimetype": "text/x-python",
   "name": "python",
   "nbconvert_exporter": "python",
   "pygments_lexer": "ipython3",
   "version": "3.11.4"
  }
 },
 "nbformat": 4,
 "nbformat_minor": 4
}
