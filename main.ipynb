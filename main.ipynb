{
 "cells": [
  {
   "cell_type": "markdown",
   "metadata": {},
   "source": [
    "# Caltrans Data Extraction"
   ]
  },
  {
   "cell_type": "markdown",
   "metadata": {},
   "source": [
    "The goal of this project is to extract relevant data from text files, previously converted from PDF files. Since the text files are quite structured, the decision is to use regex to do this."
   ]
  },
  {
   "cell_type": "markdown",
   "metadata": {},
   "source": [
    "## Setup\n",
    "\n",
    "Install the following packages if you don't have them yet:"
   ]
  },
  {
   "cell_type": "code",
   "execution_count": 2,
   "metadata": {},
   "outputs": [],
   "source": [
    "# pip install pandas numpy tqdm ipykernel notebook python-dotenv openpyxl"
   ]
  },
  {
   "cell_type": "code",
   "execution_count": 3,
   "metadata": {},
   "outputs": [],
   "source": [
    "from contract import *\n",
    "from experiment import *\n",
    "\n",
    "import pyperclip\n",
    "\n",
    "%reload_ext autoreload\n",
    "%autoreload 2\n",
    "\n",
    "# Note: to print DataFrame fully use:\n",
    "# pd.set_option('display.max_rows', None)  # to set globally, or use: \n",
    "# with pd.option_context('display.max_rows', None, \n",
    "#                        'display.max_columns', None, \n",
    "#                        'display.width', None, \n",
    "#                        'display.max_colwidth', None):\n",
    "#   display(df)"
   ]
  },
  {
   "cell_type": "markdown",
   "metadata": {},
   "source": [
    "## Rename the mislabeled contracts\n",
    "\n",
    "There are some files that were mistakenly labeled, so here we rename them:"
   ]
  },
  {
   "cell_type": "code",
   "execution_count": 3,
   "metadata": {},
   "outputs": [
    {
     "name": "stdout",
     "output_type": "stream",
     "text": [
      "File not found: 07-0W0404..pdf_12652.txt\n",
      "File not found: 110427R0.pdf_3052.txt\n",
      "File not found: 110427R0.pdf_2981.txt\n",
      "File not found: 120712R0.pdf_4254.txt\n",
      "File not found: 08-1N0304..pdf_12819.txt\n",
      "File not found: 120928R0.pdf_4565.txt\n",
      "File not found: 121016R0.pdf_4699.txt\n",
      "File not found: 130220R0.pdf_4863.txt\n",
      "File not found: 120717R0.pdf_4252.txt\n",
      "File not found: 08-1G2804..pdf_12877.txt\n"
     ]
    }
   ],
   "source": [
    "d = {'07-0W0404..pdf_12652.txt': '07-0W0404.pdf_12652.txt',\n",
    "     '110427R0.pdf_3052.txt': '01-0A0804.pdf_3052.txt',\n",
    "     '110427R0.pdf_2981.txt': '01-0A0804.pdf_2981.txt',\n",
    "     '120712R0.pdf_4254.txt': '11-270804.pdf_4254.txt',\n",
    "     '08-1N0304..pdf_12819.txt': '08-1N0304.pdf_12819.txt',\n",
    "     '120928R0.pdf_4565.txt': '04-4S1204.pdf_4565.txt',\n",
    "     '121016R0.pdf_4699.txt': '04-4S0304.pdf_4699.txt',\n",
    "     '130220R0.pdf_4863.txt': '03-3E6204.pdf_4863.txt',\n",
    "     '120717R0.pdf_4252.txt': '05-1A9704.pdf_4252.txt',\n",
    "     '08-1G2804..pdf_12877.txt': '08-1G2804.pdf_12877.txt'\n",
    "}\n",
    "\n",
    "for key, value in d.items():\n",
    "    try:\n",
    "        path1 = RAW_DATA_PATH_LINEPRINTER / key\n",
    "        path2 = RAW_DATA_PATH_LINEPRINTER / value\n",
    "        path1.rename(path2)\n",
    "\n",
    "        path1 = RAW_DATA_PATH_TABLE / key\n",
    "        path2 = RAW_DATA_PATH_TABLE / value\n",
    "        path1.rename(path2)\n",
    "    except FileNotFoundError:\n",
    "        print(f'File not found: {key}')\n",
    "        continue\n"
   ]
  },
  {
   "cell_type": "markdown",
   "metadata": {},
   "source": [
    "## Classify contracts into types\n",
    "\n",
    "There are 3 main types of contract (type 3 is merged contracts that need to be parsed first):"
   ]
  },
  {
   "cell_type": "code",
   "execution_count": 4,
   "metadata": {},
   "outputs": [],
   "source": [
    "# sort_contracts()"
   ]
  },
  {
   "cell_type": "code",
   "execution_count": 5,
   "metadata": {},
   "outputs": [
    {
     "data": {
      "text/html": [
       "<div>\n",
       "<style scoped>\n",
       "    .dataframe tbody tr th:only-of-type {\n",
       "        vertical-align: middle;\n",
       "    }\n",
       "\n",
       "    .dataframe tbody tr th {\n",
       "        vertical-align: top;\n",
       "    }\n",
       "\n",
       "    .dataframe thead th {\n",
       "        text-align: right;\n",
       "    }\n",
       "</style>\n",
       "<table border=\"1\" class=\"dataframe\">\n",
       "  <thead>\n",
       "    <tr style=\"text-align: right;\">\n",
       "      <th></th>\n",
       "      <th>Contract_Number</th>\n",
       "      <th>Tag</th>\n",
       "      <th>Identifier</th>\n",
       "      <th>Contract_Type</th>\n",
       "      <th>Relative_Path</th>\n",
       "      <th>Original_Identifier</th>\n",
       "    </tr>\n",
       "    <tr>\n",
       "      <th>Filename</th>\n",
       "      <th></th>\n",
       "      <th></th>\n",
       "      <th></th>\n",
       "      <th></th>\n",
       "      <th></th>\n",
       "      <th></th>\n",
       "    </tr>\n",
       "  </thead>\n",
       "  <tbody>\n",
       "    <tr>\n",
       "      <th>09-354304.pdf_5533</th>\n",
       "      <td>09-354304</td>\n",
       "      <td>5533</td>\n",
       "      <td>09-354304_5533</td>\n",
       "      <td>1</td>\n",
       "      <td>type1/09-354304_5533.txt</td>\n",
       "      <td>NaN</td>\n",
       "    </tr>\n",
       "    <tr>\n",
       "      <th>02-360704.pdf_5397</th>\n",
       "      <td>02-360704</td>\n",
       "      <td>5397</td>\n",
       "      <td>02-360704_5397</td>\n",
       "      <td>1</td>\n",
       "      <td>type1/02-360704_5397.txt</td>\n",
       "      <td>NaN</td>\n",
       "    </tr>\n",
       "    <tr>\n",
       "      <th>12-0S9004.pdf_12386</th>\n",
       "      <td>12-0S9004</td>\n",
       "      <td>12386</td>\n",
       "      <td>12-0S9004_12386</td>\n",
       "      <td>1</td>\n",
       "      <td>type1/12-0S9004_12386.txt</td>\n",
       "      <td>NaN</td>\n",
       "    </tr>\n",
       "    <tr>\n",
       "      <th>02-0H2904.pdf_6987</th>\n",
       "      <td>02-0H2904</td>\n",
       "      <td>6987</td>\n",
       "      <td>02-0H2904_6987</td>\n",
       "      <td>1</td>\n",
       "      <td>type1/02-0H2904_6987.txt</td>\n",
       "      <td>NaN</td>\n",
       "    </tr>\n",
       "    <tr>\n",
       "      <th>04-0435E4.pdf_2074</th>\n",
       "      <td>04-0435E4</td>\n",
       "      <td>2074</td>\n",
       "      <td>04-0435E4_2074</td>\n",
       "      <td>1</td>\n",
       "      <td>type1/04-0435E4_2074.txt</td>\n",
       "      <td>NaN</td>\n",
       "    </tr>\n",
       "    <tr>\n",
       "      <th>...</th>\n",
       "      <td>...</td>\n",
       "      <td>...</td>\n",
       "      <td>...</td>\n",
       "      <td>...</td>\n",
       "      <td>...</td>\n",
       "      <td>...</td>\n",
       "    </tr>\n",
       "    <tr>\n",
       "      <th>01-488504.pdf_1428</th>\n",
       "      <td>01-488504</td>\n",
       "      <td>1428</td>\n",
       "      <td>01-488504_1428</td>\n",
       "      <td>1</td>\n",
       "      <td>type1/01-488504_1428.txt</td>\n",
       "      <td>NaN</td>\n",
       "    </tr>\n",
       "    <tr>\n",
       "      <th>03-1G0004.pdf_11241</th>\n",
       "      <td>03-1G0004</td>\n",
       "      <td>11241</td>\n",
       "      <td>03-1G0004_11241</td>\n",
       "      <td>1</td>\n",
       "      <td>type1/03-1G0004_11241.txt</td>\n",
       "      <td>NaN</td>\n",
       "    </tr>\n",
       "    <tr>\n",
       "      <th>03-3M9504.pdf_4004</th>\n",
       "      <td>03-3M9504</td>\n",
       "      <td>4004</td>\n",
       "      <td>03-3M9504_4004</td>\n",
       "      <td>1</td>\n",
       "      <td>type1/03-3M9504_4004.txt</td>\n",
       "      <td>NaN</td>\n",
       "    </tr>\n",
       "    <tr>\n",
       "      <th>04-2K7104.pdf_12426</th>\n",
       "      <td>04-2K7104</td>\n",
       "      <td>12426</td>\n",
       "      <td>04-2K7104_12426</td>\n",
       "      <td>1</td>\n",
       "      <td>type1/04-2K7104_12426.txt</td>\n",
       "      <td>NaN</td>\n",
       "    </tr>\n",
       "    <tr>\n",
       "      <th>08-0N5504.pdf_7778</th>\n",
       "      <td>08-0N5504</td>\n",
       "      <td>7778</td>\n",
       "      <td>08-0N5504_7778</td>\n",
       "      <td>1</td>\n",
       "      <td>type1/08-0N5504_7778.txt</td>\n",
       "      <td>NaN</td>\n",
       "    </tr>\n",
       "  </tbody>\n",
       "</table>\n",
       "<p>9019 rows × 6 columns</p>\n",
       "</div>"
      ],
      "text/plain": [
       "                    Contract_Number    Tag       Identifier  Contract_Type  \\\n",
       "Filename                                                                     \n",
       "09-354304.pdf_5533        09-354304   5533   09-354304_5533              1   \n",
       "02-360704.pdf_5397        02-360704   5397   02-360704_5397              1   \n",
       "12-0S9004.pdf_12386       12-0S9004  12386  12-0S9004_12386              1   \n",
       "02-0H2904.pdf_6987        02-0H2904   6987   02-0H2904_6987              1   \n",
       "04-0435E4.pdf_2074        04-0435E4   2074   04-0435E4_2074              1   \n",
       "...                             ...    ...              ...            ...   \n",
       "01-488504.pdf_1428        01-488504   1428   01-488504_1428              1   \n",
       "03-1G0004.pdf_11241       03-1G0004  11241  03-1G0004_11241              1   \n",
       "03-3M9504.pdf_4004        03-3M9504   4004   03-3M9504_4004              1   \n",
       "04-2K7104.pdf_12426       04-2K7104  12426  04-2K7104_12426              1   \n",
       "08-0N5504.pdf_7778        08-0N5504   7778   08-0N5504_7778              1   \n",
       "\n",
       "                                 Relative_Path Original_Identifier  \n",
       "Filename                                                            \n",
       "09-354304.pdf_5533    type1/09-354304_5533.txt                 NaN  \n",
       "02-360704.pdf_5397    type1/02-360704_5397.txt                 NaN  \n",
       "12-0S9004.pdf_12386  type1/12-0S9004_12386.txt                 NaN  \n",
       "02-0H2904.pdf_6987    type1/02-0H2904_6987.txt                 NaN  \n",
       "04-0435E4.pdf_2074    type1/04-0435E4_2074.txt                 NaN  \n",
       "...                                        ...                 ...  \n",
       "01-488504.pdf_1428    type1/01-488504_1428.txt                 NaN  \n",
       "03-1G0004.pdf_11241  type1/03-1G0004_11241.txt                 NaN  \n",
       "03-3M9504.pdf_4004    type1/03-3M9504_4004.txt                 NaN  \n",
       "04-2K7104.pdf_12426  type1/04-2K7104_12426.txt                 NaN  \n",
       "08-0N5504.pdf_7778    type1/08-0N5504_7778.txt                 NaN  \n",
       "\n",
       "[9019 rows x 6 columns]"
      ]
     },
     "execution_count": 5,
     "metadata": {},
     "output_type": "execute_result"
    }
   ],
   "source": [
    "contract_types, _ = get_contract_types()\n",
    "contract_types"
   ]
  },
  {
   "cell_type": "markdown",
   "metadata": {},
   "source": [
    "## Single Contract Analysis\n",
    "\n",
    "Let's look at the single contract:"
   ]
  },
  {
   "cell_type": "code",
   "execution_count": 6,
   "metadata": {},
   "outputs": [],
   "source": [
    "c = Contract('04-290834_619')"
   ]
  },
  {
   "cell_type": "markdown",
   "metadata": {},
   "source": [
    "To copy file contents to clipboard:"
   ]
  },
  {
   "cell_type": "code",
   "execution_count": 7,
   "metadata": {},
   "outputs": [],
   "source": [
    "# pyperclip.copy(c.file_contents)"
   ]
  },
  {
   "cell_type": "markdown",
   "metadata": {},
   "source": [
    "Now we extract:"
   ]
  },
  {
   "cell_type": "code",
   "execution_count": 8,
   "metadata": {},
   "outputs": [],
   "source": [
    "c.extract()"
   ]
  },
  {
   "cell_type": "markdown",
   "metadata": {},
   "source": [
    "There are four attributes of the contract that gets extracted: info, bids, subcontractors, and items:"
   ]
  },
  {
   "cell_type": "code",
   "execution_count": 9,
   "metadata": {},
   "outputs": [
    {
     "data": {
      "text/html": [
       "<div>\n",
       "<style scoped>\n",
       "    .dataframe tbody tr th:only-of-type {\n",
       "        vertical-align: middle;\n",
       "    }\n",
       "\n",
       "    .dataframe tbody tr th {\n",
       "        vertical-align: top;\n",
       "    }\n",
       "\n",
       "    .dataframe thead th {\n",
       "        text-align: right;\n",
       "    }\n",
       "</style>\n",
       "<table border=\"1\" class=\"dataframe\">\n",
       "  <thead>\n",
       "    <tr style=\"text-align: right;\">\n",
       "      <th></th>\n",
       "      <th>Identifier</th>\n",
       "      <th>Postponed_Contract</th>\n",
       "      <th>Bid_Opening_Date</th>\n",
       "      <th>Contract_Date</th>\n",
       "      <th>Contract_Number</th>\n",
       "      <th>Contract_Code</th>\n",
       "      <th>Number_of_Contract_Items</th>\n",
       "      <th>Total_Number_of_Working_Days</th>\n",
       "      <th>Number_of_Bidders</th>\n",
       "      <th>Engineers_Est</th>\n",
       "      <th>Amount_Over</th>\n",
       "      <th>Amount_Under</th>\n",
       "      <th>Percent_Est_Over</th>\n",
       "      <th>Percent_Est_Under</th>\n",
       "      <th>Contract_Description</th>\n",
       "    </tr>\n",
       "  </thead>\n",
       "  <tbody>\n",
       "    <tr>\n",
       "      <th>0</th>\n",
       "      <td>04-290834_619</td>\n",
       "      <td>1</td>\n",
       "      <td>05/12/09</td>\n",
       "      <td>05/18/09</td>\n",
       "      <td>04-290834</td>\n",
       "      <td>A</td>\n",
       "      <td>179</td>\n",
       "      <td></td>\n",
       "      <td></td>\n",
       "      <td></td>\n",
       "      <td></td>\n",
       "      <td></td>\n",
       "      <td></td>\n",
       "      <td></td>\n",
       "      <td>CONSTRUCT HOV LANES</td>\n",
       "    </tr>\n",
       "  </tbody>\n",
       "</table>\n",
       "</div>"
      ],
      "text/plain": [
       "      Identifier  Postponed_Contract Bid_Opening_Date Contract_Date  \\\n",
       "0  04-290834_619                   1         05/12/09      05/18/09   \n",
       "\n",
       "  Contract_Number Contract_Code Number_of_Contract_Items  \\\n",
       "0       04-290834             A                      179   \n",
       "\n",
       "  Total_Number_of_Working_Days Number_of_Bidders Engineers_Est Amount_Over  \\\n",
       "0                                                                            \n",
       "\n",
       "  Amount_Under Percent_Est_Over Percent_Est_Under Contract_Description  \n",
       "0                                                  CONSTRUCT HOV LANES  "
      ]
     },
     "execution_count": 9,
     "metadata": {},
     "output_type": "execute_result"
    }
   ],
   "source": [
    "c.info.df"
   ]
  },
  {
   "cell_type": "code",
   "execution_count": 10,
   "metadata": {},
   "outputs": [
    {
     "data": {
      "text/html": [
       "<div>\n",
       "<style scoped>\n",
       "    .dataframe tbody tr th:only-of-type {\n",
       "        vertical-align: middle;\n",
       "    }\n",
       "\n",
       "    .dataframe tbody tr th {\n",
       "        vertical-align: top;\n",
       "    }\n",
       "\n",
       "    .dataframe thead th {\n",
       "        text-align: right;\n",
       "    }\n",
       "</style>\n",
       "<table border=\"1\" class=\"dataframe\">\n",
       "  <thead>\n",
       "    <tr style=\"text-align: right;\">\n",
       "      <th></th>\n",
       "    </tr>\n",
       "  </thead>\n",
       "  <tbody>\n",
       "  </tbody>\n",
       "</table>\n",
       "</div>"
      ],
      "text/plain": [
       "Empty DataFrame\n",
       "Columns: []\n",
       "Index: []"
      ]
     },
     "execution_count": 10,
     "metadata": {},
     "output_type": "execute_result"
    }
   ],
   "source": [
    "c.bids.df"
   ]
  },
  {
   "cell_type": "code",
   "execution_count": 11,
   "metadata": {},
   "outputs": [
    {
     "data": {
      "text/html": [
       "<div>\n",
       "<style scoped>\n",
       "    .dataframe tbody tr th:only-of-type {\n",
       "        vertical-align: middle;\n",
       "    }\n",
       "\n",
       "    .dataframe tbody tr th {\n",
       "        vertical-align: top;\n",
       "    }\n",
       "\n",
       "    .dataframe thead th {\n",
       "        text-align: right;\n",
       "    }\n",
       "</style>\n",
       "<table border=\"1\" class=\"dataframe\">\n",
       "  <thead>\n",
       "    <tr style=\"text-align: right;\">\n",
       "      <th></th>\n",
       "    </tr>\n",
       "  </thead>\n",
       "  <tbody>\n",
       "  </tbody>\n",
       "</table>\n",
       "</div>"
      ],
      "text/plain": [
       "Empty DataFrame\n",
       "Columns: []\n",
       "Index: []"
      ]
     },
     "execution_count": 11,
     "metadata": {},
     "output_type": "execute_result"
    }
   ],
   "source": [
    "c.subcontractors.df"
   ]
  },
  {
   "cell_type": "code",
   "execution_count": 12,
   "metadata": {},
   "outputs": [
    {
     "data": {
      "text/html": [
       "<div>\n",
       "<style scoped>\n",
       "    .dataframe tbody tr th:only-of-type {\n",
       "        vertical-align: middle;\n",
       "    }\n",
       "\n",
       "    .dataframe tbody tr th {\n",
       "        vertical-align: top;\n",
       "    }\n",
       "\n",
       "    .dataframe thead th {\n",
       "        text-align: right;\n",
       "    }\n",
       "</style>\n",
       "<table border=\"1\" class=\"dataframe\">\n",
       "  <thead>\n",
       "    <tr style=\"text-align: right;\">\n",
       "      <th></th>\n",
       "    </tr>\n",
       "  </thead>\n",
       "  <tbody>\n",
       "  </tbody>\n",
       "</table>\n",
       "</div>"
      ],
      "text/plain": [
       "Empty DataFrame\n",
       "Columns: []\n",
       "Index: []"
      ]
     },
     "execution_count": 12,
     "metadata": {},
     "output_type": "execute_result"
    }
   ],
   "source": [
    "c.items.df"
   ]
  },
  {
   "cell_type": "markdown",
   "metadata": {},
   "source": [
    "We can also write all the information into excel file:"
   ]
  },
  {
   "cell_type": "code",
   "execution_count": 13,
   "metadata": {},
   "outputs": [
    {
     "name": "stdout",
     "output_type": "stream",
     "text": [
      "Saved to Excel file at: results/single_contracts/04-290834_619.xlsx.\n"
     ]
    }
   ],
   "source": [
    "c.write_to_disk()"
   ]
  },
  {
   "cell_type": "code",
   "execution_count": 14,
   "metadata": {},
   "outputs": [],
   "source": [
    "# filepath = RAW_DATA_PATH.parent / 'sample' / '01-0A3804.pdf_2724.txt'\n",
    "# filepath = RAW_DATA_PATH_LINEPRINTER / '01-0A3804.pdf_4353.txt'\n",
    "# filepath = RAW_DATA_PATH_LINEPRINTER / '01-0A0904.pdf_2724.txt'\n",
    "# filepath = RAW_DATA_PATH_LINEPRINTER / '01-0A1204.pdf_11468.txt'\n",
    "# filepath = RAW_DATA_PATH_LINEPRINTER / '01-0F4304.pdf_12346.txt'  # issue # 11\n",
    "# filepath = RAW_DATA_PATH_LINEPRINTER / '01-0K6104.pdf_12731.txt'  # issue # 9\n",
    "# filepath = RAW_DATA_PATH_LINEPRINTER / '01-0K4604.pdf_12040.txt'  # issue # 1\n",
    "# filename = '01-0H3204.pdf_9871.txt'  # issue # 5\n",
    "# filepath = RAW_DATA_PATH_LINEPRINTER / '01-0A0404.pdf_10165.txt'  # different format\n",
    "# filepath = RAW_DATA_PATH_LINEPRINTER / '04-4G6404.pdf_7310.txt'\n"
   ]
  },
  {
   "cell_type": "markdown",
   "metadata": {},
   "source": [
    "# Several contract analysis"
   ]
  },
  {
   "cell_type": "markdown",
   "metadata": {},
   "source": [
    "We now run extraction on a small sample of contracts:"
   ]
  },
  {
   "cell_type": "code",
   "execution_count": 15,
   "metadata": {},
   "outputs": [
    {
     "data": {
      "text/html": [
       "<div>\n",
       "<style scoped>\n",
       "    .dataframe tbody tr th:only-of-type {\n",
       "        vertical-align: middle;\n",
       "    }\n",
       "\n",
       "    .dataframe tbody tr th {\n",
       "        vertical-align: top;\n",
       "    }\n",
       "\n",
       "    .dataframe thead th {\n",
       "        text-align: right;\n",
       "    }\n",
       "</style>\n",
       "<table border=\"1\" class=\"dataframe\">\n",
       "  <thead>\n",
       "    <tr style=\"text-align: right;\">\n",
       "      <th></th>\n",
       "      <th>Contract_Number</th>\n",
       "      <th>Tag</th>\n",
       "      <th>Identifier</th>\n",
       "      <th>Contract_Type</th>\n",
       "      <th>Relative_Path</th>\n",
       "      <th>Original_Identifier</th>\n",
       "    </tr>\n",
       "    <tr>\n",
       "      <th>Filename</th>\n",
       "      <th></th>\n",
       "      <th></th>\n",
       "      <th></th>\n",
       "      <th></th>\n",
       "      <th></th>\n",
       "      <th></th>\n",
       "    </tr>\n",
       "  </thead>\n",
       "  <tbody>\n",
       "    <tr>\n",
       "      <th>09-354304.pdf_5533</th>\n",
       "      <td>09-354304</td>\n",
       "      <td>5533</td>\n",
       "      <td>09-354304_5533</td>\n",
       "      <td>1</td>\n",
       "      <td>type1/09-354304_5533.txt</td>\n",
       "      <td>NaN</td>\n",
       "    </tr>\n",
       "    <tr>\n",
       "      <th>02-360704.pdf_5397</th>\n",
       "      <td>02-360704</td>\n",
       "      <td>5397</td>\n",
       "      <td>02-360704_5397</td>\n",
       "      <td>1</td>\n",
       "      <td>type1/02-360704_5397.txt</td>\n",
       "      <td>NaN</td>\n",
       "    </tr>\n",
       "    <tr>\n",
       "      <th>12-0S9004.pdf_12386</th>\n",
       "      <td>12-0S9004</td>\n",
       "      <td>12386</td>\n",
       "      <td>12-0S9004_12386</td>\n",
       "      <td>1</td>\n",
       "      <td>type1/12-0S9004_12386.txt</td>\n",
       "      <td>NaN</td>\n",
       "    </tr>\n",
       "    <tr>\n",
       "      <th>02-0H2904.pdf_6987</th>\n",
       "      <td>02-0H2904</td>\n",
       "      <td>6987</td>\n",
       "      <td>02-0H2904_6987</td>\n",
       "      <td>1</td>\n",
       "      <td>type1/02-0H2904_6987.txt</td>\n",
       "      <td>NaN</td>\n",
       "    </tr>\n",
       "    <tr>\n",
       "      <th>04-0435E4.pdf_2074</th>\n",
       "      <td>04-0435E4</td>\n",
       "      <td>2074</td>\n",
       "      <td>04-0435E4_2074</td>\n",
       "      <td>1</td>\n",
       "      <td>type1/04-0435E4_2074.txt</td>\n",
       "      <td>NaN</td>\n",
       "    </tr>\n",
       "    <tr>\n",
       "      <th>...</th>\n",
       "      <td>...</td>\n",
       "      <td>...</td>\n",
       "      <td>...</td>\n",
       "      <td>...</td>\n",
       "      <td>...</td>\n",
       "      <td>...</td>\n",
       "    </tr>\n",
       "    <tr>\n",
       "      <th>01-488504.pdf_1428</th>\n",
       "      <td>01-488504</td>\n",
       "      <td>1428</td>\n",
       "      <td>01-488504_1428</td>\n",
       "      <td>1</td>\n",
       "      <td>type1/01-488504_1428.txt</td>\n",
       "      <td>NaN</td>\n",
       "    </tr>\n",
       "    <tr>\n",
       "      <th>03-1G0004.pdf_11241</th>\n",
       "      <td>03-1G0004</td>\n",
       "      <td>11241</td>\n",
       "      <td>03-1G0004_11241</td>\n",
       "      <td>1</td>\n",
       "      <td>type1/03-1G0004_11241.txt</td>\n",
       "      <td>NaN</td>\n",
       "    </tr>\n",
       "    <tr>\n",
       "      <th>03-3M9504.pdf_4004</th>\n",
       "      <td>03-3M9504</td>\n",
       "      <td>4004</td>\n",
       "      <td>03-3M9504_4004</td>\n",
       "      <td>1</td>\n",
       "      <td>type1/03-3M9504_4004.txt</td>\n",
       "      <td>NaN</td>\n",
       "    </tr>\n",
       "    <tr>\n",
       "      <th>04-2K7104.pdf_12426</th>\n",
       "      <td>04-2K7104</td>\n",
       "      <td>12426</td>\n",
       "      <td>04-2K7104_12426</td>\n",
       "      <td>1</td>\n",
       "      <td>type1/04-2K7104_12426.txt</td>\n",
       "      <td>NaN</td>\n",
       "    </tr>\n",
       "    <tr>\n",
       "      <th>08-0N5504.pdf_7778</th>\n",
       "      <td>08-0N5504</td>\n",
       "      <td>7778</td>\n",
       "      <td>08-0N5504_7778</td>\n",
       "      <td>1</td>\n",
       "      <td>type1/08-0N5504_7778.txt</td>\n",
       "      <td>NaN</td>\n",
       "    </tr>\n",
       "  </tbody>\n",
       "</table>\n",
       "<p>9019 rows × 6 columns</p>\n",
       "</div>"
      ],
      "text/plain": [
       "                    Contract_Number    Tag       Identifier  Contract_Type  \\\n",
       "Filename                                                                     \n",
       "09-354304.pdf_5533        09-354304   5533   09-354304_5533              1   \n",
       "02-360704.pdf_5397        02-360704   5397   02-360704_5397              1   \n",
       "12-0S9004.pdf_12386       12-0S9004  12386  12-0S9004_12386              1   \n",
       "02-0H2904.pdf_6987        02-0H2904   6987   02-0H2904_6987              1   \n",
       "04-0435E4.pdf_2074        04-0435E4   2074   04-0435E4_2074              1   \n",
       "...                             ...    ...              ...            ...   \n",
       "01-488504.pdf_1428        01-488504   1428   01-488504_1428              1   \n",
       "03-1G0004.pdf_11241       03-1G0004  11241  03-1G0004_11241              1   \n",
       "03-3M9504.pdf_4004        03-3M9504   4004   03-3M9504_4004              1   \n",
       "04-2K7104.pdf_12426       04-2K7104  12426  04-2K7104_12426              1   \n",
       "08-0N5504.pdf_7778        08-0N5504   7778   08-0N5504_7778              1   \n",
       "\n",
       "                                 Relative_Path Original_Identifier  \n",
       "Filename                                                            \n",
       "09-354304.pdf_5533    type1/09-354304_5533.txt                 NaN  \n",
       "02-360704.pdf_5397    type1/02-360704_5397.txt                 NaN  \n",
       "12-0S9004.pdf_12386  type1/12-0S9004_12386.txt                 NaN  \n",
       "02-0H2904.pdf_6987    type1/02-0H2904_6987.txt                 NaN  \n",
       "04-0435E4.pdf_2074    type1/04-0435E4_2074.txt                 NaN  \n",
       "...                                        ...                 ...  \n",
       "01-488504.pdf_1428    type1/01-488504_1428.txt                 NaN  \n",
       "03-1G0004.pdf_11241  type1/03-1G0004_11241.txt                 NaN  \n",
       "03-3M9504.pdf_4004    type1/03-3M9504_4004.txt                 NaN  \n",
       "04-2K7104.pdf_12426  type1/04-2K7104_12426.txt                 NaN  \n",
       "08-0N5504.pdf_7778    type1/08-0N5504_7778.txt                 NaN  \n",
       "\n",
       "[9019 rows x 6 columns]"
      ]
     },
     "execution_count": 15,
     "metadata": {},
     "output_type": "execute_result"
    }
   ],
   "source": [
    "df_contract_types, _ = get_contract_types()\n",
    "df_contract_types"
   ]
  },
  {
   "cell_type": "code",
   "execution_count": 16,
   "metadata": {},
   "outputs": [
    {
     "name": "stdout",
     "output_type": "stream",
     "text": [
      "Processing 1/5 ... \n",
      "Done processing 5 files.\n",
      "Writing to disk ...\n",
      "Saved data to: results/03-27-2024-16:04:08_tag:_5_type:_1.\n"
     ]
    }
   ],
   "source": [
    "filepaths = get_some_contracts()\n",
    "ex = Experiment(filepaths, tag='5')\n",
    "ex.run()"
   ]
  },
  {
   "cell_type": "markdown",
   "metadata": {},
   "source": [
    "# All TYPE1 contracts"
   ]
  },
  {
   "cell_type": "code",
   "execution_count": 17,
   "metadata": {},
   "outputs": [
    {
     "data": {
      "text/plain": [
       "(8776,\n",
       " PosixPath('/Users/nenadbozinovic/Documents/caltrans_data_extraction/data/type1/09-354304_5533.txt'))"
      ]
     },
     "execution_count": 17,
     "metadata": {},
     "output_type": "execute_result"
    }
   ],
   "source": [
    "filepaths = get_some_contracts(num_contracts=None)\n",
    "len(filepaths), filepaths[0]"
   ]
  },
  {
   "cell_type": "markdown",
   "metadata": {},
   "source": [
    "Let's exclude some known errors:"
   ]
  },
  {
   "cell_type": "code",
   "execution_count": 18,
   "metadata": {},
   "outputs": [
    {
     "data": {
      "text/plain": [
       "8772"
      ]
     },
     "execution_count": 18,
     "metadata": {},
     "output_type": "execute_result"
    }
   ],
   "source": [
    "exclude_type1 = ['12-0K0234_11520', '12-0R2704_10602', '06-0L8404_3005', '07-0W0404_12652', '07-338004_11638']\n",
    "exclude_type2 = ['09-237704_3534']\n",
    "exclude = exclude_type1 + exclude_type2\n",
    "filepaths = [x for x in filepaths if x.stem not in exclude]\n",
    "len(filepaths)"
   ]
  },
  {
   "cell_type": "code",
   "execution_count": 19,
   "metadata": {},
   "outputs": [
    {
     "name": "stdout",
     "output_type": "stream",
     "text": [
      "Processing 1/8772 ... \n",
      "Processing 101/8772 ... \n",
      "Processing 201/8772 ... \n",
      "Processing 301/8772 ... \n",
      "Processing 401/8772 ... \n",
      "Processing 501/8772 ... \n",
      "Processing 601/8772 ... \n",
      "Processing 701/8772 ... \n",
      "Processing 801/8772 ... \n",
      "Processing 901/8772 ... \n",
      "Processing 1001/8772 ... \n",
      "Processing 1101/8772 ... \n",
      "Processing 1201/8772 ... \n",
      "Processing 1301/8772 ... \n",
      "Processing 1401/8772 ... \n",
      "Processing 1501/8772 ... \n",
      "Processing 1601/8772 ... \n",
      "Processing 1701/8772 ... \n",
      "Processing 1801/8772 ... \n",
      "Processing 1901/8772 ... \n",
      "Processing 2001/8772 ... \n",
      "Processing 2101/8772 ... \n",
      "Processing 2201/8772 ... \n",
      "Processing 2301/8772 ... \n",
      "Processing 2401/8772 ... \n",
      "Processing 2501/8772 ... \n",
      "Processing 2601/8772 ... \n",
      "Processing 2701/8772 ... \n",
      "Processing 2801/8772 ... \n",
      "Processing 2901/8772 ... \n",
      "Processing 3001/8772 ... \n",
      "Processing 3101/8772 ... \n",
      "Processing 3201/8772 ... \n",
      "Processing 3301/8772 ... \n",
      "Processing 3401/8772 ... \n",
      "Processing 3501/8772 ... \n",
      "Processing 3601/8772 ... \n",
      "Processing 3701/8772 ... \n",
      "Processing 3801/8772 ... \n",
      "Processing 3901/8772 ... \n",
      "Processing 4001/8772 ... \n",
      "Processing 4101/8772 ... \n",
      "Processing 4201/8772 ... \n",
      "Processing 4301/8772 ... \n",
      "Processing 4401/8772 ... \n",
      "Processing 4501/8772 ... \n",
      "Processing 4601/8772 ... \n",
      "Processing 4701/8772 ... \n",
      "Processing 4801/8772 ... \n",
      "Processing 4901/8772 ... \n",
      "Processing 5001/8772 ... \n",
      "Processing 5101/8772 ... \n",
      "Processing 5201/8772 ... \n",
      "Processing 5301/8772 ... \n",
      "Processing 5401/8772 ... \n",
      "Processing 5501/8772 ... \n",
      "Processing 5601/8772 ... \n",
      "Processing 5701/8772 ... \n",
      "Processing 5801/8772 ... \n",
      "Processing 5901/8772 ... \n",
      "Processing 6001/8772 ... \n",
      "Processing 6101/8772 ... \n",
      "Processing 6201/8772 ... \n",
      "Processing 6301/8772 ... \n",
      "Processing 6401/8772 ... \n",
      "Processing 6501/8772 ... \n",
      "Processing 6601/8772 ... \n",
      "Processing 6701/8772 ... \n",
      "Processing 6801/8772 ... \n",
      "Processing 6901/8772 ... \n",
      "Processing 7001/8772 ... \n",
      "Processing 7101/8772 ... \n",
      "Processing 7201/8772 ... \n",
      "Processing 7301/8772 ... \n",
      "Processing 7401/8772 ... \n",
      "Processing 7501/8772 ... \n",
      "Processing 7601/8772 ... \n",
      "Processing 7701/8772 ... \n",
      "Processing 7801/8772 ... \n",
      "Processing 7901/8772 ... \n",
      "Processing 8001/8772 ... \n",
      "Processing 8101/8772 ... \n",
      "Processing 8201/8772 ... \n",
      "Processing 8301/8772 ... \n",
      "Processing 8401/8772 ... \n",
      "Processing 8501/8772 ... \n",
      "Processing 8601/8772 ... \n",
      "Processing 8701/8772 ... \n",
      "Done processing 8772 files.\n",
      "Writing to disk ...\n",
      "Saved data to: results/03-27-2024-16:04:09_tag:_all_type:_1.\n"
     ]
    }
   ],
   "source": [
    "ex = Experiment(filepaths, tag='all')\n",
    "ex.run()"
   ]
  },
  {
   "cell_type": "markdown",
   "metadata": {},
   "source": [
    "# Process TYPE3 contracts"
   ]
  },
  {
   "cell_type": "markdown",
   "metadata": {},
   "source": [
    "See `type3_contracts.ipynb` for their definition first."
   ]
  },
  {
   "cell_type": "code",
   "execution_count": 20,
   "metadata": {},
   "outputs": [
    {
     "name": "stdout",
     "output_type": "stream",
     "text": [
      "Processing 1/75 ... \n",
      "Done processing 75 files.\n",
      "Writing to disk ...\n",
      "Saved data to: results/03-27-2024-16:15:07_tag:_all_type:_3.\n"
     ]
    }
   ],
   "source": [
    "filepaths = list(TYPE3_PATH.glob('*.txt'))\n",
    "ex = Experiment(filepaths, tag='all', contract_type=ContractType.TYPE3)\n",
    "ex.run()"
   ]
  },
  {
   "cell_type": "markdown",
   "metadata": {},
   "source": [
    "# Process one TYPE2 contract"
   ]
  },
  {
   "cell_type": "code",
   "execution_count": 4,
   "metadata": {},
   "outputs": [],
   "source": [
    "c = Contract('02-1J1704_12603', ContractType.TYPE2)"
   ]
  },
  {
   "cell_type": "code",
   "execution_count": 22,
   "metadata": {},
   "outputs": [],
   "source": [
    "# pyperclip.copy(c.file_contents)"
   ]
  },
  {
   "cell_type": "code",
   "execution_count": 5,
   "metadata": {},
   "outputs": [
    {
     "data": {
      "text/plain": [
       "<contract.Contract at 0x1121a3c50>"
      ]
     },
     "execution_count": 5,
     "metadata": {},
     "output_type": "execute_result"
    }
   ],
   "source": [
    "c"
   ]
  },
  {
   "cell_type": "code",
   "execution_count": null,
   "metadata": {},
   "outputs": [],
   "source": []
  }
 ],
 "metadata": {
  "kernelspec": {
   "display_name": "ocr",
   "language": "python",
   "name": "python3"
  },
  "language_info": {
   "codemirror_mode": {
    "name": "ipython",
    "version": 3
   },
   "file_extension": ".py",
   "mimetype": "text/x-python",
   "name": "python",
   "nbconvert_exporter": "python",
   "pygments_lexer": "ipython3",
   "version": "3.11.4"
  }
 },
 "nbformat": 4,
 "nbformat_minor": 4
}
