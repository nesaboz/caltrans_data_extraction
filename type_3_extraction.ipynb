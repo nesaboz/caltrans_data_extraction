{
 "cells": [
  {
   "cell_type": "markdown",
   "metadata": {},
   "source": [
    "## Type 3 contracts"
   ]
  },
  {
   "cell_type": "markdown",
   "metadata": {},
   "source": [
    "Some contracts are merged from several contracts (let's call these type 3 contracts), for example 07-338004_11638 is merged from 5 contracts:"
   ]
  },
  {
   "cell_type": "code",
   "execution_count": 14,
   "metadata": {},
   "outputs": [],
   "source": [
    "from contract import *\n",
    "from experiment import *\n",
    "\n",
    "import pyperclip\n",
    "\n",
    "%reload_ext autoreload\n",
    "%autoreload 2"
   ]
  },
  {
   "cell_type": "code",
   "execution_count": 15,
   "metadata": {},
   "outputs": [
    {
     "name": "stdout",
     "output_type": "stream",
     "text": [
      "['07-338004', '01-0G4304', '05-1G9904', '05-1H0604', '07-338004']\n"
     ]
    }
   ],
   "source": [
    "c = Contract('07-338004_11638')\n",
    "contract_number_regex = re.compile(r\"CONTRACT NUMBER\\s+([A-Za-z0-9-]+)\")\n",
    "print(re.findall(contract_number_regex, c.file_contents))\n",
    "# pyperclip.copy(c.file_contents)"
   ]
  },
  {
   "cell_type": "markdown",
   "metadata": {},
   "source": [
    "So we can look into header and split all the contracts:"
   ]
  },
  {
   "cell_type": "code",
   "execution_count": 16,
   "metadata": {},
   "outputs": [
    {
     "name": "stderr",
     "output_type": "stream",
     "text": [
      "  0%|          | 0/8809 [00:00<?, ?it/s]"
     ]
    },
    {
     "name": "stderr",
     "output_type": "stream",
     "text": [
      "100%|██████████| 8809/8809 [00:01<00:00, 4800.18it/s]\n"
     ]
    },
    {
     "data": {
      "text/plain": [
       "34"
      ]
     },
     "execution_count": 16,
     "metadata": {},
     "output_type": "execute_result"
    }
   ],
   "source": [
    "filepaths = get_some_contracts(num_contracts=None)\n",
    "multiples = []\n",
    "for filepath in tqdm(filepaths):\n",
    "    regex = r'STATE OF CALIFORNIA\\s+B I D   S U M M A R Y\\s+DEPARTMENT OF TRANSPORTATION'  # this is very fast regex\n",
    "    contract = Contract(filepath)\n",
    "    matches = re.findall(regex, contract.file_contents, re.MULTILINE)\n",
    "    if len(matches) > 1:\n",
    "        multiples.append(contract.identifier)\n",
    "len(multiples)\n",
    "    "
   ]
  },
  {
   "cell_type": "markdown",
   "metadata": {},
   "source": [
    "And there are 34 contracts with multiple contracts. Let's write a method to parse them:"
   ]
  },
  {
   "cell_type": "code",
   "execution_count": 30,
   "metadata": {},
   "outputs": [],
   "source": [
    "def split_contract(identifier, output_path):\n",
    "    \"\"\"\n",
    "    Uses phrase in the header to split the contract into multiple partial_texts, then saves those into separate files where new \n",
    "    name is the contract number + tag + index.\n",
    "    \"\"\"\n",
    "    c = Contract(identifier)\n",
    "    pattern = re.compile(r'[^\\n]*STATE OF CALIFORNIA\\s+B I D   S U M M A R Y\\s+DEPARTMENT OF TRANSPORTATION')\n",
    "    matches = re.finditer(pattern, c.file_contents)\n",
    "\n",
    "    # Extract and print starting positions\n",
    "    positions = [match.start() for match in matches] + [None]\n",
    "\n",
    "    new_identifiers = []\n",
    "    for i in range(len(positions) - 1):\n",
    "        text_portion = '\\n\\n\\n' + c.file_contents[positions[i]:positions[i+1]]  # add some newlines at the beginning\n",
    "        # read the contract from the header:\n",
    "        contract_number_regex = re.compile(r\"CONTRACT NUMBER\\s+([A-Za-z0-9-]+)\")\n",
    "        match = re.search(contract_number_regex, text_portion)\n",
    "        \n",
    "        new_identifier = match.group(1) + '.pdf_' + c.tag\n",
    "        \n",
    "        if new_identifier in new_identifiers:\n",
    "            print(f\"Found duplicate new identifier when parsing: {identifier}\")\n",
    "            continue\n",
    "        \n",
    "        output_file_path = output_path / f\"{new_identifier}.txt\"\n",
    "        with open(output_file_path, 'w') as output_file:\n",
    "            output_file.write(text_portion)\n",
    "            \n",
    "        new_identifiers.append(new_identifier)\n",
    "\n",
    "    return new_identifiers\n"
   ]
  },
  {
   "cell_type": "markdown",
   "metadata": {},
   "source": [
    "and let's now write them into separate files:"
   ]
  },
  {
   "cell_type": "code",
   "execution_count": 32,
   "metadata": {},
   "outputs": [
    {
     "name": "stdout",
     "output_type": "stream",
     "text": [
      "Error processing 06-0L8404_3005: 'NoneType' object has no attribute 'group'\n",
      "Found duplicate new identifier when parsing: 07-338004_11638\n"
     ]
    }
   ],
   "source": [
    "SPLITS_PATH = RAW_DATA_PATH / 'splits'\n",
    "SPLITS_PATH.mkdir(exist_ok=True)\n",
    "\n",
    "notes = []\n",
    "for identifier in multiples:\n",
    "    try:\n",
    "        new_identifiers = split_contract(identifier, SPLITS_PATH)\n",
    "        for new_identifier in new_identifiers:\n",
    "            notes.append({'original_identifier': identifier, 'new_identifier': new_identifier})\n",
    "    except Exception as e:\n",
    "        print(f'Error processing {identifier}: {e}')\n",
    "        \n",
    "pd.DataFrame(notes).to_csv(RAW_DATA_PATH / 'type_3_files.csv', index=False)"
   ]
  },
  {
   "cell_type": "markdown",
   "metadata": {},
   "source": [
    "(06-0L8404_3005 and 07-338004_11638 have errors already reported)"
   ]
  }
 ],
 "metadata": {
  "kernelspec": {
   "display_name": "venv",
   "language": "python",
   "name": "python3"
  },
  "language_info": {
   "codemirror_mode": {
    "name": "ipython",
    "version": 3
   },
   "file_extension": ".py",
   "mimetype": "text/x-python",
   "name": "python",
   "nbconvert_exporter": "python",
   "pygments_lexer": "ipython3",
   "version": "3.11.4"
  }
 },
 "nbformat": 4,
 "nbformat_minor": 2
}
