{
 "cells": [
  {
   "cell_type": "markdown",
   "metadata": {},
   "source": [
    "# Caltrans Data Extraction"
   ]
  },
  {
   "cell_type": "markdown",
   "metadata": {},
   "source": [
    "The goal of this project is to extract relevant data from text files, previously converted from PDF files. Since the text files are quite structured, the decision is to use regex to do this."
   ]
  },
  {
   "cell_type": "markdown",
   "metadata": {},
   "source": [
    "## Setup\n",
    "\n",
    "Install the following packages if you don't have them yet:"
   ]
  },
  {
   "cell_type": "code",
   "execution_count": 1,
   "metadata": {},
   "outputs": [],
   "source": [
    "# pip install pandas numpy tqdm ipykernel notebook python-dotenv openpyxl"
   ]
  },
  {
   "cell_type": "code",
   "execution_count": 4,
   "metadata": {},
   "outputs": [
    {
     "ename": "ValueError",
     "evalue": "Make sure to set a path to raw data in the .env file or copy data into root of the repo",
     "output_type": "error",
     "traceback": [
      "\u001b[0;31m---------------------------------------------------------------------------\u001b[0m",
      "\u001b[0;31mValueError\u001b[0m                                Traceback (most recent call last)",
      "Cell \u001b[0;32mIn[4], line 15\u001b[0m\n\u001b[1;32m     12\u001b[0m \u001b[38;5;28;01mimport\u001b[39;00m \u001b[38;5;21;01mshutil\u001b[39;00m\n\u001b[1;32m     13\u001b[0m \u001b[38;5;28;01mfrom\u001b[39;00m \u001b[38;5;21;01mdotenv\u001b[39;00m \u001b[38;5;28;01mimport\u001b[39;00m load_dotenv\n\u001b[0;32m---> 15\u001b[0m \u001b[38;5;28;01mfrom\u001b[39;00m \u001b[38;5;21;01mutils1\u001b[39;00m \u001b[38;5;28;01mimport\u001b[39;00m \u001b[38;5;241m*\u001b[39m\n\u001b[1;32m     17\u001b[0m get_ipython()\u001b[38;5;241m.\u001b[39mrun_line_magic(\u001b[38;5;124m'\u001b[39m\u001b[38;5;124mreload_ext\u001b[39m\u001b[38;5;124m'\u001b[39m, \u001b[38;5;124m'\u001b[39m\u001b[38;5;124mautoreload\u001b[39m\u001b[38;5;124m'\u001b[39m)\n\u001b[1;32m     18\u001b[0m get_ipython()\u001b[38;5;241m.\u001b[39mrun_line_magic(\u001b[38;5;124m'\u001b[39m\u001b[38;5;124mautoreload\u001b[39m\u001b[38;5;124m'\u001b[39m, \u001b[38;5;124m'\u001b[39m\u001b[38;5;124m2\u001b[39m\u001b[38;5;124m'\u001b[39m)\n",
      "File \u001b[0;32m~/Documents/caltrans_data_extraction/other_format_WIP/utils1.py:22\u001b[0m\n\u001b[1;32m     20\u001b[0m     RAW_DATA_PATH \u001b[38;5;241m=\u001b[39m Path(\u001b[38;5;124m'\u001b[39m\u001b[38;5;124m./RR Procurement - Raw Data\u001b[39m\u001b[38;5;124m'\u001b[39m)\n\u001b[1;32m     21\u001b[0m     \u001b[38;5;28;01mif\u001b[39;00m \u001b[38;5;129;01mnot\u001b[39;00m RAW_DATA_PATH\u001b[38;5;241m.\u001b[39mexists():\n\u001b[0;32m---> 22\u001b[0m         \u001b[38;5;28;01mraise\u001b[39;00m \u001b[38;5;167;01mValueError\u001b[39;00m(\u001b[38;5;124m'\u001b[39m\u001b[38;5;124mMake sure to set a path to raw data in the .env file or copy data into root of the repo\u001b[39m\u001b[38;5;124m'\u001b[39m)\n\u001b[1;32m     23\u001b[0m \u001b[38;5;66;03m# print(f'Current RAW_DATA_PATH is {RAW_DATA_PATH}')\u001b[39;00m\n\u001b[1;32m     24\u001b[0m \n\u001b[1;32m     25\u001b[0m \n\u001b[1;32m     26\u001b[0m \n\u001b[1;32m     27\u001b[0m \u001b[38;5;66;03m# class Contract(object):\u001b[39;00m\n\u001b[1;32m     30\u001b[0m RESULTS_PATH \u001b[38;5;241m=\u001b[39m RAW_DATA_PATH\u001b[38;5;241m.\u001b[39mparent \u001b[38;5;241m/\u001b[39m \u001b[38;5;124m'\u001b[39m\u001b[38;5;124mresults\u001b[39m\u001b[38;5;124m'\u001b[39m\n",
      "\u001b[0;31mValueError\u001b[0m: Make sure to set a path to raw data in the .env file or copy data into root of the repo"
     ]
    }
   ],
   "source": [
    "from pathlib import Path\n",
    "from pprint import pprint\n",
    "from typing import List, Tuple\n",
    "from collections import defaultdict\n",
    "import re\n",
    "import pandas as pd\n",
    "import re\n",
    "from tqdm import tqdm\n",
    "import numpy as np\n",
    "import os\n",
    "from datetime import datetime\n",
    "import shutil\n",
    "from dotenv import load_dotenv\n",
    "\n",
    "from utils1 import *\n",
    "\n",
    "%reload_ext autoreload\n",
    "%autoreload 2\n",
    "\n",
    "# pd.set_option('display.max_rows', None)  # optional to see all rows in DataFrames"
   ]
  },
  {
   "cell_type": "markdown",
   "metadata": {},
   "source": [
    "# One sample study"
   ]
  },
  {
   "cell_type": "code",
   "execution_count": 11,
   "metadata": {},
   "outputs": [],
   "source": [
    "# filepath = RAW_DATA_PATH.parent / 'sample' / '01-0A3804.pdf_2724.txt'\n",
    "# filepath = RAW_DATA_PATH_LINEPRINTER / '01-0A3804.pdf_4353.txt'\n",
    "# filepath = RAW_DATA_PATH_LINEPRINTER / '01-0A0904.pdf_2724.txt'\n",
    "# filepath = RAW_DATA_PATH_LINEPRINTER / '01-0A1204.pdf_11468.txt'\n",
    "# filepath = RAW_DATA_PATH_LINEPRINTER / '01-0F4304.pdf_12346.txt'  # issue # 11\n",
    "# filepath = RAW_DATA_PATH_LINEPRINTER / '01-0K6104.pdf_12731.txt'  # issue # 9\n",
    "# filepath = RAW_DATA_PATH_LINEPRINTER / '01-0K4604.pdf_12040.txt'  # issue # 1\n",
    "# filepath = RAW_DATA_PATH_LINEPRINTER / '01-0H3204.pdf_9871.txt'  # issue # 5\n",
    "filepath = RAW_DATA_PATH_TABLE / '01-0E7904.pdf_12975.txt'  # issue # 2"
   ]
  },
  {
   "cell_type": "code",
   "execution_count": 12,
   "metadata": {},
   "outputs": [],
   "source": [
    "contract_number_from_filename, tag, identifier = get_contract_number_and_tag_from_filename(filepath.stem)\n",
    "file_contents = read_file(filepath)"
   ]
  },
  {
   "cell_type": "code",
   "execution_count": 13,
   "metadata": {},
   "outputs": [
    {
     "data": {
      "text/plain": [
       "('01-0E7904', '12975', '01-0E7904_12975')"
      ]
     },
     "execution_count": 13,
     "metadata": {},
     "output_type": "execute_result"
    }
   ],
   "source": [
    "contract_number_from_filename, tag, identifier "
   ]
  },
  {
   "cell_type": "markdown",
   "metadata": {},
   "source": [
    "Extract contract data:"
   ]
  },
  {
   "cell_type": "code",
   "execution_count": 18,
   "metadata": {},
   "outputs": [
    {
     "data": {
      "text/plain": [
       "('01-0E7904', '11/16/2022')"
      ]
     },
     "execution_count": 18,
     "metadata": {},
     "output_type": "execute_result"
    }
   ],
   "source": [
    "get_contract_number_and_date(file_contents)"
   ]
  },
  {
   "cell_type": "code",
   "execution_count": 14,
   "metadata": {},
   "outputs": [
    {
     "ename": "AttributeError",
     "evalue": "'NoneType' object has no attribute 'group'",
     "output_type": "error",
     "traceback": [
      "\u001b[0;31m---------------------------------------------------------------------------\u001b[0m",
      "\u001b[0;31mAttributeError\u001b[0m                            Traceback (most recent call last)",
      "Cell \u001b[0;32mIn[14], line 1\u001b[0m\n\u001b[0;32m----> 1\u001b[0m df_contract_data \u001b[38;5;241m=\u001b[39m pd\u001b[38;5;241m.\u001b[39mDataFrame([\u001b[43mextract_contract_data\u001b[49m\u001b[43m(\u001b[49m\u001b[43mfile_contents\u001b[49m\u001b[43m,\u001b[49m\u001b[43m \u001b[49m\u001b[43midentifier\u001b[49m\u001b[43m)\u001b[49m])\n\u001b[1;32m      2\u001b[0m df_contract_bid_data \u001b[38;5;241m=\u001b[39m pd\u001b[38;5;241m.\u001b[39mDataFrame(extract_contract_bid_data(file_contents, identifier))\n\u001b[1;32m      3\u001b[0m df_bid_subcontractor_data \u001b[38;5;241m=\u001b[39m parse_subcontracted_line_item(fill_gaps_in_bidder_id(pd\u001b[38;5;241m.\u001b[39mDataFrame(extract_bid_subcontractor_data(file_contents, identifier))))\n",
      "File \u001b[0;32m~/Documents/caltrans_data_extraction/utils1.py:119\u001b[0m, in \u001b[0;36mextract_contract_data\u001b[0;34m(file_contents, identifier)\u001b[0m\n\u001b[1;32m    117\u001b[0m match \u001b[38;5;241m=\u001b[39m extract(file_contents, \u001b[38;5;124mr\u001b[39m\u001b[38;5;124m\"\u001b[39m\u001b[38;5;124m(POSTPONED CONTRACT)\u001b[39m\u001b[38;5;124m\"\u001b[39m)\n\u001b[1;32m    118\u001b[0m row[POSTPONED_CONTRACT] \u001b[38;5;241m=\u001b[39m \u001b[38;5;241m1\u001b[39m \u001b[38;5;28;01mif\u001b[39;00m match \u001b[38;5;28;01melse\u001b[39;00m \u001b[38;5;241m0\u001b[39m\n\u001b[0;32m--> 119\u001b[0m row[BID_OPENING_DATE], row[CONTRACT_DATE] \u001b[38;5;241m=\u001b[39m \u001b[43mget_dates\u001b[49m\u001b[43m(\u001b[49m\u001b[43mfile_contents\u001b[49m\u001b[43m)\u001b[49m\n\u001b[1;32m    120\u001b[0m row[CONTRACT_CODE] \u001b[38;5;241m=\u001b[39m extract(file_contents, \u001b[38;5;124mr\u001b[39m\u001b[38;5;124m\"\u001b[39m\u001b[38;5;124mCONTRACT CODE\u001b[39m\u001b[38;5;124m\\\u001b[39m\u001b[38;5;124ms+\u001b[39m\u001b[38;5;124m'\u001b[39m\u001b[38;5;124m([^\u001b[39m\u001b[38;5;124m'\u001b[39m\u001b[38;5;124m]+)\u001b[39m\u001b[38;5;124m'\u001b[39m\u001b[38;5;124m\"\u001b[39m)  \u001b[38;5;66;03m# check\u001b[39;00m\n\u001b[1;32m    121\u001b[0m row[CONTRACT_ITEMS] \u001b[38;5;241m=\u001b[39m extract(file_contents, \u001b[38;5;124mr\u001b[39m\u001b[38;5;124m\"\u001b[39m\u001b[38;5;124m(\u001b[39m\u001b[38;5;124m\\\u001b[39m\u001b[38;5;124md+)\u001b[39m\u001b[38;5;124m\\\u001b[39m\u001b[38;5;124ms+CONTRACT ITEMS\u001b[39m\u001b[38;5;124m\"\u001b[39m)\n",
      "File \u001b[0;32m~/Documents/caltrans_data_extraction/utils1.py:100\u001b[0m, in \u001b[0;36mget_dates\u001b[0;34m(file_contents)\u001b[0m\n\u001b[1;32m     98\u001b[0m \u001b[38;5;28;01mdef\u001b[39;00m \u001b[38;5;21mget_dates\u001b[39m(file_contents):\n\u001b[1;32m     99\u001b[0m     match \u001b[38;5;241m=\u001b[39m re\u001b[38;5;241m.\u001b[39msearch(\u001b[38;5;124mr\u001b[39m\u001b[38;5;124m\"\u001b[39m\u001b[38;5;124mBID OPENING DATE\u001b[39m\u001b[38;5;124m\\\u001b[39m\u001b[38;5;124ms+(\u001b[39m\u001b[38;5;124m\\\u001b[39m\u001b[38;5;124md+\u001b[39m\u001b[38;5;124m\\\u001b[39m\u001b[38;5;124m/\u001b[39m\u001b[38;5;124m\\\u001b[39m\u001b[38;5;124md+\u001b[39m\u001b[38;5;124m\\\u001b[39m\u001b[38;5;124m/\u001b[39m\u001b[38;5;124m\\\u001b[39m\u001b[38;5;124md+).+\u001b[39m\u001b[38;5;124m\\\u001b[39m\u001b[38;5;124ms+(\u001b[39m\u001b[38;5;124m\\\u001b[39m\u001b[38;5;124md+\u001b[39m\u001b[38;5;124m\\\u001b[39m\u001b[38;5;124m/\u001b[39m\u001b[38;5;124m\\\u001b[39m\u001b[38;5;124md+\u001b[39m\u001b[38;5;124m\\\u001b[39m\u001b[38;5;124m/\u001b[39m\u001b[38;5;124m\\\u001b[39m\u001b[38;5;124md+)\u001b[39m\u001b[38;5;124m\"\u001b[39m, file_contents)\n\u001b[0;32m--> 100\u001b[0m     \u001b[38;5;28;01mreturn\u001b[39;00m \u001b[43mmatch\u001b[49m\u001b[38;5;241;43m.\u001b[39;49m\u001b[43mgroup\u001b[49m(\u001b[38;5;241m1\u001b[39m), match\u001b[38;5;241m.\u001b[39mgroup(\u001b[38;5;241m2\u001b[39m)\n",
      "\u001b[0;31mAttributeError\u001b[0m: 'NoneType' object has no attribute 'group'"
     ]
    }
   ],
   "source": [
    "df_contract_data = pd.DataFrame([extract_contract_data(file_contents, identifier)])\n",
    "df_contract_bid_data = pd.DataFrame(extract_contract_bid_data(file_contents, identifier))\n",
    "df_bid_subcontractor_data = parse_subcontracted_line_item(fill_gaps_in_bidder_id(pd.DataFrame(extract_bid_subcontractor_data(file_contents, identifier))))\n",
    "df_contract_line_item_data = pd.DataFrame(extract_contract_line_item_data(file_contents, identifier))"
   ]
  },
  {
   "cell_type": "code",
   "execution_count": 8,
   "metadata": {},
   "outputs": [
    {
     "data": {
      "text/html": [
       "<div>\n",
       "<style scoped>\n",
       "    .dataframe tbody tr th:only-of-type {\n",
       "        vertical-align: middle;\n",
       "    }\n",
       "\n",
       "    .dataframe tbody tr th {\n",
       "        vertical-align: top;\n",
       "    }\n",
       "\n",
       "    .dataframe thead th {\n",
       "        text-align: right;\n",
       "    }\n",
       "</style>\n",
       "<table border=\"1\" class=\"dataframe\">\n",
       "  <thead>\n",
       "    <tr style=\"text-align: right;\">\n",
       "      <th></th>\n",
       "      <th>Identifier</th>\n",
       "      <th>Postponed_Contract</th>\n",
       "      <th>Bid_Opening_Date</th>\n",
       "      <th>Contract_Date</th>\n",
       "      <th>Contract_Code</th>\n",
       "      <th>Number_of_Contract_Items</th>\n",
       "      <th>Total_Number_of_Working_Days</th>\n",
       "      <th>Number_of_Bidders</th>\n",
       "      <th>Engineers_Est</th>\n",
       "      <th>Amount_Over</th>\n",
       "      <th>Amount_Under</th>\n",
       "      <th>Percent_Est_Over</th>\n",
       "      <th>Percent_Est_Under</th>\n",
       "      <th>Contract_Description</th>\n",
       "    </tr>\n",
       "  </thead>\n",
       "  <tbody>\n",
       "    <tr>\n",
       "      <th>0</th>\n",
       "      <td>01-0A0404_10165</td>\n",
       "      <td>0</td>\n",
       "      <td>09/27/18</td>\n",
       "      <td>09/28/18</td>\n",
       "      <td>A</td>\n",
       "      <td>115</td>\n",
       "      <td>130</td>\n",
       "      <td>7</td>\n",
       "      <td>10,366,370.00</td>\n",
       "      <td></td>\n",
       "      <td>2,718,364.50</td>\n",
       "      <td></td>\n",
       "      <td>26.22</td>\n",
       "      <td>SHOULDER WIDENING</td>\n",
       "    </tr>\n",
       "  </tbody>\n",
       "</table>\n",
       "</div>"
      ],
      "text/plain": [
       "        Identifier  Postponed_Contract  ... Percent_Est_Under Contract_Description\n",
       "0  01-0A0404_10165                   0  ...             26.22    SHOULDER WIDENING\n",
       "\n",
       "[1 rows x 14 columns]"
      ]
     },
     "execution_count": 8,
     "metadata": {},
     "output_type": "execute_result"
    }
   ],
   "source": [
    "df_contract_data"
   ]
  },
  {
   "cell_type": "code",
   "execution_count": 9,
   "metadata": {},
   "outputs": [
    {
     "data": {
      "text/html": [
       "<div>\n",
       "<style scoped>\n",
       "    .dataframe tbody tr th:only-of-type {\n",
       "        vertical-align: middle;\n",
       "    }\n",
       "\n",
       "    .dataframe tbody tr th {\n",
       "        vertical-align: top;\n",
       "    }\n",
       "\n",
       "    .dataframe thead th {\n",
       "        text-align: right;\n",
       "    }\n",
       "</style>\n",
       "<table border=\"1\" class=\"dataframe\">\n",
       "  <thead>\n",
       "    <tr style=\"text-align: right;\">\n",
       "      <th></th>\n",
       "      <th>Identifier</th>\n",
       "      <th>Bid_Rank</th>\n",
       "      <th>A_plus_B_indicator</th>\n",
       "      <th>Bid_Total</th>\n",
       "      <th>Bidder_ID</th>\n",
       "      <th>Bidder_Name</th>\n",
       "      <th>Bidder_Phone</th>\n",
       "      <th>Extra</th>\n",
       "      <th>Weird_Contract_Notes</th>\n",
       "      <th>CSLB_Number</th>\n",
       "    </tr>\n",
       "  </thead>\n",
       "  <tbody>\n",
       "    <tr>\n",
       "      <th>0</th>\n",
       "      <td>01-0A0404_10165</td>\n",
       "      <td>1</td>\n",
       "      <td>1</td>\n",
       "      <td>8,948,005.50</td>\n",
       "      <td>3</td>\n",
       "      <td>GHILOTTI CONSTRUCTION CO. INC.</td>\n",
       "      <td>707 585-1221</td>\n",
       "      <td></td>\n",
       "      <td></td>\n",
       "      <td>00644515</td>\n",
       "    </tr>\n",
       "    <tr>\n",
       "      <th>1</th>\n",
       "      <td>01-0A0404_10165</td>\n",
       "      <td>2</td>\n",
       "      <td>1</td>\n",
       "      <td>9,794,359.20</td>\n",
       "      <td>6</td>\n",
       "      <td>O.C. JONES &amp; SONS, INC.</td>\n",
       "      <td>510 526-3424</td>\n",
       "      <td></td>\n",
       "      <td></td>\n",
       "      <td>00759729</td>\n",
       "    </tr>\n",
       "    <tr>\n",
       "      <th>2</th>\n",
       "      <td>01-0A0404_10165</td>\n",
       "      <td>3</td>\n",
       "      <td>1</td>\n",
       "      <td>10,220,181.75</td>\n",
       "      <td>5</td>\n",
       "      <td>ARGONAUT CONSTRUCTORS</td>\n",
       "      <td>707 542-4862</td>\n",
       "      <td></td>\n",
       "      <td></td>\n",
       "      <td>00171432</td>\n",
       "    </tr>\n",
       "    <tr>\n",
       "      <th>3</th>\n",
       "      <td>01-0A0404_10165</td>\n",
       "      <td>4</td>\n",
       "      <td>1</td>\n",
       "      <td>10,837,402.25</td>\n",
       "      <td>7</td>\n",
       "      <td>WAHLUND CONSTRUCTION INC.</td>\n",
       "      <td>707 268-0150</td>\n",
       "      <td></td>\n",
       "      <td></td>\n",
       "      <td>00678993</td>\n",
       "    </tr>\n",
       "    <tr>\n",
       "      <th>4</th>\n",
       "      <td>01-0A0404_10165</td>\n",
       "      <td>5</td>\n",
       "      <td>1</td>\n",
       "      <td>11,298,495.00</td>\n",
       "      <td>4</td>\n",
       "      <td>STEVE MANNING CONSTRUCTION, INC.</td>\n",
       "      <td>530 222-0810</td>\n",
       "      <td></td>\n",
       "      <td></td>\n",
       "      <td>00754230</td>\n",
       "    </tr>\n",
       "    <tr>\n",
       "      <th>5</th>\n",
       "      <td>01-0A0404_10165</td>\n",
       "      <td>6</td>\n",
       "      <td>1</td>\n",
       "      <td>11,436,342.95</td>\n",
       "      <td>2</td>\n",
       "      <td>MERCER FRASER COMPANY</td>\n",
       "      <td>707 443-6371</td>\n",
       "      <td></td>\n",
       "      <td></td>\n",
       "      <td>00105709</td>\n",
       "    </tr>\n",
       "    <tr>\n",
       "      <th>6</th>\n",
       "      <td>01-0A0404_10165</td>\n",
       "      <td>7</td>\n",
       "      <td>1</td>\n",
       "      <td>11,451,749.20</td>\n",
       "      <td>1</td>\n",
       "      <td>GRANITE CONSTRUCTION COMPANY</td>\n",
       "      <td>707 467-4100</td>\n",
       "      <td></td>\n",
       "      <td></td>\n",
       "      <td>00000089</td>\n",
       "    </tr>\n",
       "  </tbody>\n",
       "</table>\n",
       "</div>"
      ],
      "text/plain": [
       "        Identifier Bid_Rank  ...  Weird_Contract_Notes CSLB_Number\n",
       "0  01-0A0404_10165        1  ...                          00644515\n",
       "1  01-0A0404_10165        2  ...                          00759729\n",
       "2  01-0A0404_10165        3  ...                          00171432\n",
       "3  01-0A0404_10165        4  ...                          00678993\n",
       "4  01-0A0404_10165        5  ...                          00754230\n",
       "5  01-0A0404_10165        6  ...                          00105709\n",
       "6  01-0A0404_10165        7  ...                          00000089\n",
       "\n",
       "[7 rows x 10 columns]"
      ]
     },
     "execution_count": 9,
     "metadata": {},
     "output_type": "execute_result"
    }
   ],
   "source": [
    "df_contract_bid_data"
   ]
  },
  {
   "cell_type": "code",
   "execution_count": 10,
   "metadata": {},
   "outputs": [
    {
     "data": {
      "text/plain": [
       "(          Identifier Bidder_ID  ... PARSED_4 PARSED_5\n",
       " 0    01-0A0404_10165        03  ...      NaN         \n",
       " 1    01-0A0404_10165        03  ...      NaN         \n",
       " 2    01-0A0404_10165        03  ...      NaN         \n",
       " 3    01-0A0404_10165        03  ...     (8%)       34\n",
       " 4    01-0A0404_10165        03  ...    (75%)       51\n",
       " ..               ...       ...  ...      ...      ...\n",
       " 369  01-0A0404_10165        01  ...      NaN         \n",
       " 370  01-0A0404_10165        01  ...      NaN         \n",
       " 371  01-0A0404_10165        01  ...      NaN         \n",
       " 372  01-0A0404_10165        01  ...      NaN         \n",
       " 373  01-0A0404_10165        01  ...   (100%)       33\n",
       " \n",
       " [374 rows x 11 columns],\n",
       " Empty DataFrame\n",
       " Columns: [Identifier, Bidder_ID, Subcontractor_Name, Subcontracted_Line_Item, City, Subcontractor_License_Number, PARSED_1, PARSED_2, PARSED_3, PARSED_4, PARSED_5]\n",
       " Index: [])"
      ]
     },
     "execution_count": 10,
     "metadata": {},
     "output_type": "execute_result"
    }
   ],
   "source": [
    "df_bid_subcontractor_data"
   ]
  },
  {
   "cell_type": "code",
   "execution_count": 11,
   "metadata": {},
   "outputs": [
    {
     "data": {
      "text/html": [
       "<div>\n",
       "<style scoped>\n",
       "    .dataframe tbody tr th:only-of-type {\n",
       "        vertical-align: middle;\n",
       "    }\n",
       "\n",
       "    .dataframe tbody tr th {\n",
       "        vertical-align: top;\n",
       "    }\n",
       "\n",
       "    .dataframe thead th {\n",
       "        text-align: right;\n",
       "    }\n",
       "</style>\n",
       "<table border=\"1\" class=\"dataframe\">\n",
       "  <thead>\n",
       "    <tr style=\"text-align: right;\">\n",
       "      <th></th>\n",
       "      <th>Identifier</th>\n",
       "      <th>Item_Number</th>\n",
       "      <th>Extra</th>\n",
       "      <th>Item_Code</th>\n",
       "      <th>Item_Description</th>\n",
       "      <th>Item_Dollar_Amount</th>\n",
       "    </tr>\n",
       "  </thead>\n",
       "  <tbody>\n",
       "    <tr>\n",
       "      <th>0</th>\n",
       "      <td>01-0A0404_10165</td>\n",
       "      <td>1</td>\n",
       "      <td></td>\n",
       "      <td>070030</td>\n",
       "      <td>LEAD COMPLIANCE PLAN</td>\n",
       "      <td>765.00</td>\n",
       "    </tr>\n",
       "    <tr>\n",
       "      <th>1</th>\n",
       "      <td>01-0A0404_10165</td>\n",
       "      <td>2</td>\n",
       "      <td></td>\n",
       "      <td>080050</td>\n",
       "      <td>PROGRESS SCHEDULE (CRITICAL PATH METHOD)</td>\n",
       "      <td>6,000.00</td>\n",
       "    </tr>\n",
       "    <tr>\n",
       "      <th>2</th>\n",
       "      <td>01-0A0404_10165</td>\n",
       "      <td>3</td>\n",
       "      <td></td>\n",
       "      <td>090105</td>\n",
       "      <td>TIME-RELATED OVERHEAD (LS)</td>\n",
       "      <td>130,000.00</td>\n",
       "    </tr>\n",
       "    <tr>\n",
       "      <th>3</th>\n",
       "      <td>01-0A0404_10165</td>\n",
       "      <td>4</td>\n",
       "      <td></td>\n",
       "      <td>100100</td>\n",
       "      <td>DEVELOP WATER SUPPLY</td>\n",
       "      <td>5,000.00</td>\n",
       "    </tr>\n",
       "    <tr>\n",
       "      <th>4</th>\n",
       "      <td>01-0A0404_10165</td>\n",
       "      <td>5</td>\n",
       "      <td></td>\n",
       "      <td>120090</td>\n",
       "      <td>CONSTRUCTION AREA SIGNS</td>\n",
       "      <td>5,900.00</td>\n",
       "    </tr>\n",
       "    <tr>\n",
       "      <th>...</th>\n",
       "      <td>...</td>\n",
       "      <td>...</td>\n",
       "      <td>...</td>\n",
       "      <td>...</td>\n",
       "      <td>...</td>\n",
       "      <td>...</td>\n",
       "    </tr>\n",
       "    <tr>\n",
       "      <th>110</th>\n",
       "      <td>01-0A0404_10165</td>\n",
       "      <td>111</td>\n",
       "      <td></td>\n",
       "      <td>036442</td>\n",
       "      <td>ABANDON WELL</td>\n",
       "      <td>6,000.00</td>\n",
       "    </tr>\n",
       "    <tr>\n",
       "      <th>111</th>\n",
       "      <td>01-0A0404_10165</td>\n",
       "      <td>112</td>\n",
       "      <td></td>\n",
       "      <td>000003</td>\n",
       "      <td>ITEM DELETED PER ADDENDUM</td>\n",
       "      <td>0.00</td>\n",
       "    </tr>\n",
       "    <tr>\n",
       "      <th>112</th>\n",
       "      <td>01-0A0404_10165</td>\n",
       "      <td>113</td>\n",
       "      <td></td>\n",
       "      <td>870600</td>\n",
       "      <td>TRAFFIC MONITORING STATION SYSTEM</td>\n",
       "      <td>86,425.00</td>\n",
       "    </tr>\n",
       "    <tr>\n",
       "      <th>113</th>\n",
       "      <td>01-0A0404_10165</td>\n",
       "      <td>114</td>\n",
       "      <td></td>\n",
       "      <td>872140</td>\n",
       "      <td>REMOVING EXISTING ELECTRICAL SYSTEM</td>\n",
       "      <td>2,500.00</td>\n",
       "    </tr>\n",
       "    <tr>\n",
       "      <th>114</th>\n",
       "      <td>01-0A0404_10165</td>\n",
       "      <td>115</td>\n",
       "      <td></td>\n",
       "      <td>999990</td>\n",
       "      <td>MOBILIZATION                                  ...</td>\n",
       "      <td>700,000.00</td>\n",
       "    </tr>\n",
       "  </tbody>\n",
       "</table>\n",
       "<p>115 rows × 6 columns</p>\n",
       "</div>"
      ],
      "text/plain": [
       "          Identifier  ... Item_Dollar_Amount\n",
       "0    01-0A0404_10165  ...             765.00\n",
       "1    01-0A0404_10165  ...           6,000.00\n",
       "2    01-0A0404_10165  ...         130,000.00\n",
       "3    01-0A0404_10165  ...           5,000.00\n",
       "4    01-0A0404_10165  ...           5,900.00\n",
       "..               ...  ...                ...\n",
       "110  01-0A0404_10165  ...           6,000.00\n",
       "111  01-0A0404_10165  ...               0.00\n",
       "112  01-0A0404_10165  ...          86,425.00\n",
       "113  01-0A0404_10165  ...           2,500.00\n",
       "114  01-0A0404_10165  ...         700,000.00\n",
       "\n",
       "[115 rows x 6 columns]"
      ]
     },
     "execution_count": 11,
     "metadata": {},
     "output_type": "execute_result"
    }
   ],
   "source": [
    "# with pd.option_context('display.max_rows', None, \n",
    "#                        'display.max_columns', None, \n",
    "#                        'display.width', None, \n",
    "#                        'display.max_colwidth', None):\n",
    "df_contract_line_item_data"
   ]
  },
  {
   "cell_type": "markdown",
   "metadata": {},
   "source": [
    "# Batch run"
   ]
  },
  {
   "cell_type": "markdown",
   "metadata": {},
   "source": [
    "Here we run a batch or a single file (for example, if you want to run a specific outlier, make `files` a single element list):"
   ]
  },
  {
   "cell_type": "code",
   "execution_count": null,
   "metadata": {},
   "outputs": [],
   "source": [
    "files = (RAW_DATA_PATH/'Txt files - lineprinter').glob('*.txt')\n",
    "# files = [RAW_DATA_PATH/'Txt files - lineprinter'/'01-0F9204.PDF_12364.txt']"
   ]
  },
  {
   "cell_type": "code",
   "execution_count": null,
   "metadata": {},
   "outputs": [],
   "source": [
    "contract_data = []\n",
    "contract_bid_data = []\n",
    "bid_subcontractor_data = []\n",
    "contract_line_item_data = []\n",
    "other_format = []\n",
    "\n",
    "for filepath in tqdm(files):\n",
    "    \n",
    "    file_contents = read_file(filepath)\n",
    "        \n",
    "    filename = filepath.stem\n",
    "    contract_number_from_filename, tag, identifier = get_contract_number_and_tag_from_filename(filename)\n",
    "    contract_number_from_contents = get_contract_number(file_contents)\n",
    "    \n",
    "    if contract_number_from_filename == contract_number_from_contents:  \n",
    "        contract_data.append(extract_contract_data(file_contents, identifier))\n",
    "        contract_bid_data.extend(extract_contract_bid_data(file_contents, identifier))\n",
    "        bid_subcontractor_data.extend(extract_bid_subcontractor_data(file_contents, identifier))\n",
    "        contract_line_item_data.extend(extract_contract_line_item_data(file_contents, identifier))\n",
    "    else:\n",
    "        # if contract number doesn't match then something is off that needs investigation\n",
    "        other_format.append({'other_format_filename': filename})\n",
    "        # let's also copy the pdf to a folder for manual inspection\n",
    "        source_path = RAW_DATA_PATH_PDF / f'{filename}.pdf'\n",
    "        destination_path = OUTLIERS_PATH_PDF / f'{filename}.pdf'\n",
    "        shutil.copy(source_path, destination_path)\n",
    "        \n",
    "        source_path = RAW_DATA_PATH_LINEPRINTER / f'{filename}.txt'\n",
    "        destination_path = OUTLIERS_PATH_LINEPRINTER / f'{filename}.txt'\n",
    "        shutil.copy(source_path, destination_path)"
   ]
  },
  {
   "cell_type": "markdown",
   "metadata": {},
   "source": [
    "# Save files"
   ]
  },
  {
   "cell_type": "markdown",
   "metadata": {},
   "source": [
    "Uncomment the timestamp line if you want to save all files with the timstampt prefix:"
   ]
  },
  {
   "cell_type": "code",
   "execution_count": null,
   "metadata": {},
   "outputs": [],
   "source": [
    "# timestamp = datetime.strftime(datetime.now(), '%m-%d-%Y-%H:%M:%S')\n",
    "timestamp = None"
   ]
  },
  {
   "cell_type": "code",
   "execution_count": null,
   "metadata": {},
   "outputs": [],
   "source": [
    "write_to_results(contract_data, \"contract_data\", timestamp=timestamp)\n",
    "write_to_results(contract_bid_data, \"contract_bid_data\", timestamp=timestamp)\n",
    "\n",
    "df_bid_subcontractor_data, df_bid_subcontractor_data_could_not_parse = parse_subcontracted_line_item(\n",
    "    fill_gaps_in_bidder_id(pd.DataFrame(bid_subcontractor_data)))\n",
    "\n",
    "write_to_results(df_bid_subcontractor_data, \"bid_subcontractor_data\", timestamp=timestamp)\n",
    "write_to_results(df_bid_subcontractor_data_could_not_parse, \"bid_subcontractor_outliers\", timestamp=timestamp)\n",
    "\n",
    "write_to_results(contract_line_item_data, \"contract_line_item_data\", timestamp=timestamp)\n",
    "write_to_results(other_format, \"other_format\", timestamp=timestamp)"
   ]
  },
  {
   "cell_type": "markdown",
   "metadata": {},
   "source": [
    "# Save to excel"
   ]
  },
  {
   "cell_type": "code",
   "execution_count": null,
   "metadata": {},
   "outputs": [],
   "source": [
    "# Paths to your CSV files\n",
    "csv_file_paths = RESULTS_PATH.glob('*.csv')\n",
    "\n",
    "# Path to the output Excel file\n",
    "excel_file_path = RESULTS_PATH / 'results.xlsx'\n",
    "\n",
    "# Create a Pandas Excel writer using openpyxl as the engine\n",
    "with pd.ExcelWriter(excel_file_path, engine='openpyxl') as writer:\n",
    "    # Iterate over your CSV files\n",
    "    for csv_file in csv_file_paths:\n",
    "        # Use Path from pathlib to work with file paths\n",
    "        csv_path = Path(csv_file)\n",
    "        \n",
    "        # Extract the file name without the extension for the sheet name\n",
    "        sheet_name = csv_path.stem\n",
    "        \n",
    "        # Read each CSV file into a DataFrame\n",
    "        df = pd.read_csv(csv_file)\n",
    "        \n",
    "        # Write the DataFrame to a new sheet in the Excel file using the file name as the sheet name\n",
    "        df.to_excel(writer, sheet_name=sheet_name, index=False)\n",
    "\n",
    "print(f'Merged CSV files into {excel_file_path}')"
   ]
  }
 ],
 "metadata": {
  "kernelspec": {
   "display_name": "ocr",
   "language": "python",
   "name": "python3"
  },
  "language_info": {
   "codemirror_mode": {
    "name": "ipython",
    "version": 3
   },
   "file_extension": ".py",
   "mimetype": "text/x-python",
   "name": "python",
   "nbconvert_exporter": "python",
   "pygments_lexer": "ipython3",
   "version": "3.12.2"
  }
 },
 "nbformat": 4,
 "nbformat_minor": 4
}
