{
 "cells": [
  {
   "cell_type": "code",
   "execution_count": 1,
   "metadata": {},
   "outputs": [],
   "source": [
    "from utils import *\n",
    "\n",
    "%reload_ext autoreload\n",
    "%autoreload 2\n"
   ]
  },
  {
   "cell_type": "markdown",
   "metadata": {},
   "source": [
    "## Classify"
   ]
  },
  {
   "cell_type": "code",
   "execution_count": null,
   "metadata": {},
   "outputs": [],
   "source": [
    "save_contract_types()\n",
    "contract_types, _ = get_contract_types()"
   ]
  },
  {
   "cell_type": "code",
   "execution_count": 13,
   "metadata": {},
   "outputs": [
    {
     "data": {
      "text/plain": [
       "<function IPython.core.display_functions.display(*objs, include=None, exclude=None, metadata=None, transient=None, display_id=None, raw=False, clear=False, **kwargs)>"
      ]
     },
     "execution_count": 13,
     "metadata": {},
     "output_type": "execute_result"
    }
   ],
   "source": [
    "display"
   ]
  },
  {
   "cell_type": "markdown",
   "metadata": {},
   "source": [
    "## Rename the funky files"
   ]
  },
  {
   "cell_type": "code",
   "execution_count": null,
   "metadata": {},
   "outputs": [],
   "source": [
    "d = {'07-0W0404..pdf_12652.txt': '07-0W0404.pdf_12652.txt',\n",
    "     '110427R0.pdf_3052.txt': '01-0A0804.pdf_3052.txt',\n",
    "     '110427R0.pdf_2981.txt': '01-0A0804.pdf_2981.txt',\n",
    "     '120712R0.pdf_4254.txt': '11-270804.pdf_4254.txt',\n",
    "     '08-1N0304..pdf_12819.txt': '08-1N0304.pdf_12819.txt',\n",
    "     '120928R0.pdf_4565.txt': '04-4S1204.pdf_4565.txt',\n",
    "     '121016R0.pdf_4699.txt': '04-4S0304.pdf_4699.txt',\n",
    "     '130220R0.pdf_4863.txt': '03-3E6204.pdf_4863.txt',\n",
    "     '120717R0.pdf_4252.txt': '05-1A9704.pdf_4252.txt',\n",
    "     '08-1G2804..pdf_12877.txt': '08-1G2804.pdf_12877.txt'\n",
    "}\n",
    "\n",
    "for key, value in d.items():\n",
    "    try:\n",
    "        path1 = RAW_DATA_PATH_LINEPRINTER / key\n",
    "        path2 = RAW_DATA_PATH_LINEPRINTER / value\n",
    "        path1.rename(path2)\n",
    "\n",
    "        path1 = RAW_DATA_PATH_TABLE / key\n",
    "        path2 = RAW_DATA_PATH_TABLE / value\n",
    "        path1.rename(path2)\n",
    "    except FileNotFoundError:\n",
    "        print(f'File not found: {key}')\n",
    "        continue\n"
   ]
  },
  {
   "cell_type": "markdown",
   "metadata": {},
   "source": [
    "## Single Contract"
   ]
  },
  {
   "cell_type": "code",
   "execution_count": null,
   "metadata": {},
   "outputs": [],
   "source": [
    "c = Contract('04-4G6404.pdf_7310')"
   ]
  },
  {
   "cell_type": "code",
   "execution_count": null,
   "metadata": {},
   "outputs": [],
   "source": [
    "cd = ContractData(c)\n",
    "cd.extract()\n",
    "cd.df"
   ]
  },
  {
   "cell_type": "code",
   "execution_count": null,
   "metadata": {},
   "outputs": [],
   "source": [
    "bd = BidData(c)   \n",
    "bd.extract()\n",
    "bd.df\n"
   ]
  },
  {
   "cell_type": "code",
   "execution_count": null,
   "metadata": {},
   "outputs": [],
   "source": [
    "sd = SubcontractorData(c)   \n",
    "sd.extract()\n",
    "with pd.option_context('display.max_rows', None, \n",
    "                       'display.max_columns', None, \n",
    "                       'display.width', None, \n",
    "                       'display.max_colwidth', None):\n",
    "    display(sd.df)"
   ]
  },
  {
   "cell_type": "code",
   "execution_count": null,
   "metadata": {},
   "outputs": [],
   "source": [
    "lid = Itmes(c)   \n",
    "lid.extract()\n",
    "lid.df"
   ]
  },
  {
   "cell_type": "markdown",
   "metadata": {},
   "source": [
    "# One sample study"
   ]
  },
  {
   "cell_type": "code",
   "execution_count": null,
   "metadata": {},
   "outputs": [],
   "source": [
    "# filepath = RAW_DATA_PATH.parent / 'sample' / '01-0A3804.pdf_2724.txt'\n",
    "# filepath = RAW_DATA_PATH_LINEPRINTER / '01-0A3804.pdf_4353.txt'\n",
    "# filepath = RAW_DATA_PATH_LINEPRINTER / '01-0A0904.pdf_2724.txt'\n",
    "# filepath = RAW_DATA_PATH_LINEPRINTER / '01-0A1204.pdf_11468.txt'\n",
    "# filepath = RAW_DATA_PATH_LINEPRINTER / '01-0F4304.pdf_12346.txt'  # issue # 11\n",
    "# filepath = RAW_DATA_PATH_LINEPRINTER / '01-0K6104.pdf_12731.txt'  # issue # 9\n",
    "# filepath = RAW_DATA_PATH_LINEPRINTER / '01-0K4604.pdf_12040.txt'  # issue # 1\n",
    "filename = '01-0H3204.pdf_9871.txt'  # issue # 5\n",
    "# filepath = RAW_DATA_PATH_LINEPRINTER / '01-0A0404.pdf_10165.txt'  # different format\n",
    "# filepath = RAW_DATA_PATH_LINEPRINTER / '04-4G6404.pdf_7310.txt'\n"
   ]
  },
  {
   "cell_type": "code",
   "execution_count": 38,
   "metadata": {},
   "outputs": [],
   "source": [
    "identifier = '07-2838U4_6298'\n",
    "contract = Contract(identifier)"
   ]
  },
  {
   "cell_type": "code",
   "execution_count": 11,
   "metadata": {},
   "outputs": [],
   "source": [
    "text =\"\"\"\\\n",
    "    BIDDER ID NAME AND ADDRESS                                            DESCRIPTION OF PORTION OF WORK SUBCONTRACTED\n",
    "   _________ ____________________________________________________________ ____________________________________________________________\n",
    "\n",
    "      02     APPLY A LINE INC                                             ITEMS 6 THRU 8 AND 13 THRU 15\n",
    "             ANDERSON CA\n",
    "\n",
    "             DAN PALMER TRUCKING                                          ITEM 12\n",
    "             ANDERSON CA\n",
    "\n",
    "             EAGLE ROCK INC                                               ITEM 12\n",
    "             WEAVERVILLE CA\n",
    "\n",
    "             SAMBRANO TRAFFIC CONTROL                                     ITEM 4\n",
    "             WILTON CA\n",
    "\n",
    "             TITAN D V B E INCORPORATED                                   ITEMS 1 THRU 3 AND 5\n",
    "             REDDING CA\n",
    "\n",
    "\n",
    "\n",
    "\f\n",
    "\n",
    "\n",
    "\"\"\"\n"
   ]
  },
  {
   "cell_type": "code",
   "execution_count": 12,
   "metadata": {},
   "outputs": [
    {
     "data": {
      "text/html": [
       "<div>\n",
       "<style scoped>\n",
       "    .dataframe tbody tr th:only-of-type {\n",
       "        vertical-align: middle;\n",
       "    }\n",
       "\n",
       "    .dataframe tbody tr th {\n",
       "        vertical-align: top;\n",
       "    }\n",
       "\n",
       "    .dataframe thead th {\n",
       "        text-align: right;\n",
       "    }\n",
       "</style>\n",
       "<table border=\"1\" class=\"dataframe\">\n",
       "  <thead>\n",
       "    <tr style=\"text-align: right;\">\n",
       "      <th></th>\n",
       "      <th>Identifier</th>\n",
       "      <th>Bidder_ID</th>\n",
       "      <th>Subcontractor_Name</th>\n",
       "      <th>Subcontracted_Line_Item</th>\n",
       "      <th>Bidder_ID1</th>\n",
       "      <th>Subcontractor_Name1</th>\n",
       "      <th>Subcontracted_Line_Item1</th>\n",
       "      <th>Item_Numbers</th>\n",
       "      <th>Subcontractor_License_Number</th>\n",
       "    </tr>\n",
       "  </thead>\n",
       "  <tbody>\n",
       "    <tr>\n",
       "      <th>0</th>\n",
       "      <td>test</td>\n",
       "      <td>02</td>\n",
       "      <td>PPLY A LINE INC</td>\n",
       "      <td>ITEMS 6 THRU 8 AND 13 THRU 15</td>\n",
       "      <td>02</td>\n",
       "      <td>APPLY A LINE INC</td>\n",
       "      <td>ITEMS 6 THRU 8 AND 13 THRU 15</td>\n",
       "      <td>6 - 8 , 13 - 15</td>\n",
       "      <td></td>\n",
       "    </tr>\n",
       "    <tr>\n",
       "      <th>1</th>\n",
       "      <td>test</td>\n",
       "      <td></td>\n",
       "      <td>AN PALMER TRUCKING</td>\n",
       "      <td>ITEM 12</td>\n",
       "      <td>None</td>\n",
       "      <td>DAN PALMER TRUCKING</td>\n",
       "      <td>ITEM 12</td>\n",
       "      <td>12</td>\n",
       "      <td></td>\n",
       "    </tr>\n",
       "    <tr>\n",
       "      <th>2</th>\n",
       "      <td>test</td>\n",
       "      <td></td>\n",
       "      <td>AGLE ROCK INC</td>\n",
       "      <td>ITEM 12</td>\n",
       "      <td>None</td>\n",
       "      <td>EAGLE ROCK INC</td>\n",
       "      <td>ITEM 12</td>\n",
       "      <td>12</td>\n",
       "      <td></td>\n",
       "    </tr>\n",
       "    <tr>\n",
       "      <th>3</th>\n",
       "      <td>test</td>\n",
       "      <td></td>\n",
       "      <td>AMBRANO TRAFFIC CONTROL</td>\n",
       "      <td>ITEM 4</td>\n",
       "      <td>None</td>\n",
       "      <td>SAMBRANO TRAFFIC CONTROL</td>\n",
       "      <td>ITEM 4</td>\n",
       "      <td>4</td>\n",
       "      <td></td>\n",
       "    </tr>\n",
       "    <tr>\n",
       "      <th>4</th>\n",
       "      <td>test</td>\n",
       "      <td></td>\n",
       "      <td>ITAN D V B E INCORPORATED</td>\n",
       "      <td>ITEMS 1 THRU 3 AND 5</td>\n",
       "      <td>None</td>\n",
       "      <td>TITAN D V B E INCORPORATED</td>\n",
       "      <td>ITEMS 1 THRU 3 AND 5</td>\n",
       "      <td>1 - 3 , 5</td>\n",
       "      <td></td>\n",
       "    </tr>\n",
       "  </tbody>\n",
       "</table>\n",
       "</div>"
      ],
      "text/plain": [
       "  Identifier Bidder_ID         Subcontractor_Name  \\\n",
       "0       test        02            PPLY A LINE INC   \n",
       "1       test                   AN PALMER TRUCKING   \n",
       "2       test                        AGLE ROCK INC   \n",
       "3       test              AMBRANO TRAFFIC CONTROL   \n",
       "4       test            ITAN D V B E INCORPORATED   \n",
       "\n",
       "         Subcontracted_Line_Item Bidder_ID1         Subcontractor_Name1  \\\n",
       "0  ITEMS 6 THRU 8 AND 13 THRU 15         02            APPLY A LINE INC   \n",
       "1                        ITEM 12       None         DAN PALMER TRUCKING   \n",
       "2                        ITEM 12       None              EAGLE ROCK INC   \n",
       "3                         ITEM 4       None    SAMBRANO TRAFFIC CONTROL   \n",
       "4           ITEMS 1 THRU 3 AND 5       None  TITAN D V B E INCORPORATED   \n",
       "\n",
       "        Subcontracted_Line_Item1      Item_Numbers  \\\n",
       "0  ITEMS 6 THRU 8 AND 13 THRU 15   6 - 8 , 13 - 15   \n",
       "1                        ITEM 12                12   \n",
       "2                        ITEM 12                12   \n",
       "3                         ITEM 4                 4   \n",
       "4           ITEMS 1 THRU 3 AND 5         1 - 3 , 5   \n",
       "\n",
       "  Subcontractor_License_Number  \n",
       "0                               \n",
       "1                               \n",
       "2                               \n",
       "3                               \n",
       "4                               "
      ]
     },
     "execution_count": 12,
     "metadata": {},
     "output_type": "execute_result"
    }
   ],
   "source": [
    "sc = Subcontractors(text, \"test\")\n",
    "matches = sc.preprocess(sc.NARROW_REGEX)\n",
    "processed_lines = sc._parse(matches[0], \"test\")\n",
    "pd.DataFrame(processed_lines)\n"
   ]
  },
  {
   "cell_type": "code",
   "execution_count": null,
   "metadata": {},
   "outputs": [],
   "source": []
  }
 ],
 "metadata": {
  "kernelspec": {
   "display_name": "ocr",
   "language": "python",
   "name": "python3"
  },
  "language_info": {
   "codemirror_mode": {
    "name": "ipython",
    "version": 3
   },
   "file_extension": ".py",
   "mimetype": "text/x-python",
   "name": "python",
   "nbconvert_exporter": "python",
   "pygments_lexer": "ipython3",
   "version": "3.12.2"
  }
 },
 "nbformat": 4,
 "nbformat_minor": 2
}
