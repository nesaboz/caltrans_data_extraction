{
 "cells": [
  {
   "cell_type": "code",
   "execution_count": 1,
   "metadata": {},
   "outputs": [],
   "source": [
    "from utils import *\n",
    "from io import StringIO"
   ]
  },
  {
   "cell_type": "code",
   "execution_count": 2,
   "metadata": {},
   "outputs": [
    {
     "name": "stdout",
     "output_type": "stream",
     "text": [
      "[defaultdict(<class 'str'>,\n",
      "             {'A_plus_B_indicator': 1,\n",
      "              'Bid_Rank': '3',\n",
      "              'Bid_Total': '10,657,662.00',\n",
      "              'Bidder_ID': '4',\n",
      "              'Bidder_Name': 'ADAMS COMMERCIAL GENERAL',\n",
      "              'Bidder_Phone': '707 443-6000',\n",
      "              'Extra': '  SB PREF CLAIMED',\n",
      "              'Identifier': '<identifier>',\n",
      "              'Third_Row': 0}),\n",
      " defaultdict(<class 'str'>,\n",
      "             {'A_plus_B_indicator': 0,\n",
      "              'Bid_Rank': '4',\n",
      "              'Bid_Total': '401,116.00',\n",
      "              'Bidder_ID': '2',\n",
      "              'Bidder_Name': 'GOLDEN STATE BRIDGE, INC.',\n",
      "              'Bidder_Phone': '925 372-8000',\n",
      "              'Extra': '  CC PREF CLAIMED',\n",
      "              'Identifier': '<identifier>',\n",
      "              'Third_Row': 0}),\n",
      " defaultdict(<class 'str'>,\n",
      "             {'A_plus_B_indicator': 0,\n",
      "              'Bid_Rank': '5',\n",
      "              'Bid_Total': '247,247.00',\n",
      "              'Bidder_ID': '3',\n",
      "              'Bidder_Name': 'TRUESDELL CORPORATION OF',\n",
      "              'Bidder_Phone': '602 437-1711',\n",
      "              'Extra': '  CC PREF CLAIMED',\n",
      "              'Identifier': '<identifier>',\n",
      "              'Third_Row': 0}),\n",
      " defaultdict(<class 'str'>,\n",
      "             {'A_plus_B_indicator': 0,\n",
      "              'Bid_Rank': '4',\n",
      "              'Bid_Total': '1,176,257.20',\n",
      "              'Bidder_ID': '1',\n",
      "              'Bidder_Name': 'PETERSON-CHASE GENERAL',\n",
      "              'Bidder_Phone': '949 252-0441',\n",
      "              'Extra': '',\n",
      "              'Identifier': '<identifier>',\n",
      "              'Third_Row': 0})]\n"
     ]
    }
   ],
   "source": [
    "raw = \"\"\"            3 A)     10,657,662.00    4              ADAMS COMMERCIAL GENERAL              707 443-6000  SB PREF CLAIMED\n",
    "                                                                CONTRACTING, INC.                     00875823\n",
    "                        B)  315 DAYS X  10000                  217 E STREET;                                        COMPARISON AMT:\n",
    "                        --------------------\n",
    "                        A+B)    13,807,662.00                    EUREKA CA  95501                                      10,607,662.00\n",
    "                        \n",
    "                        4           401,116.00    2              GOLDEN STATE BRIDGE, INC.             925 372-8000  CC PREF CLAIMED\n",
    "                                                                                                    00851187\n",
    "                                                                3701 MALLARD DRIVE;               FAX 925 372-8001\n",
    "                                                                BENICIA CA  94510\n",
    "\n",
    "                        5           247,247.00    3              TRUESDELL CORPORATION OF              602 437-1711  CC PREF CLAIMED\n",
    "                                FAILED TO SUBMIT DVBE/DBE QUOTES CALIFORNIA, INC.                      00615058\n",
    "                                                                ASDF\n",
    "                                                                1310 W 23RD STREET;               FAX 602 437-1821\n",
    "                                                                TEMPE AZ  85282\n",
    "\n",
    "                        4         1,176,257.20    1              PETERSON-CHASE GENERAL                949 252-0441\n",
    "                                NR DBE GL/GD FAITH EFFRT NOT MET ENGINEERING CONSTRUCTION, INC.        00615876\n",
    "                                                                16351 CONSTRUCTION CIRCLE WEST    FAX 949 252-0266\n",
    "                                                                IRVINE  CA  92606\n",
    "\"\"\"\n",
    "\n",
    "processed_lines = parse_contract_bid_data(raw, '<identifier>')    \n",
    "pprint(processed_lines) "
   ]
  },
  {
   "cell_type": "code",
   "execution_count": null,
   "metadata": {},
   "outputs": [],
   "source": []
  }
 ],
 "metadata": {
  "kernelspec": {
   "display_name": "ocr",
   "language": "python",
   "name": "python3"
  },
  "language_info": {
   "codemirror_mode": {
    "name": "ipython",
    "version": 3
   },
   "file_extension": ".py",
   "mimetype": "text/x-python",
   "name": "python",
   "nbconvert_exporter": "python",
   "pygments_lexer": "ipython3",
   "version": "3.12.2"
  }
 },
 "nbformat": 4,
 "nbformat_minor": 2
}
